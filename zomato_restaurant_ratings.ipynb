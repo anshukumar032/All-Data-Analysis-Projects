{
  "nbformat": 4,
  "nbformat_minor": 0,
  "metadata": {
    "colab": {
      "provenance": [],
      "mount_file_id": "1ud8mReBUxEHrq2fG7bSrqzRT1l-oHGBj",
      "authorship_tag": "ABX9TyOer+WvcpZUJALrkCkMveuD",
      "include_colab_link": true
    },
    "kernelspec": {
      "name": "python3",
      "display_name": "Python 3"
    },
    "language_info": {
      "name": "python"
    }
  },
  "cells": [
    {
      "cell_type": "markdown",
      "metadata": {
        "id": "view-in-github",
        "colab_type": "text"
      },
      "source": [
        "<a href=\"https://colab.research.google.com/github/anshukumar032/All-Data-Analysis-Projects/blob/main/zomato_restaurant_ratings.ipynb\" target=\"_parent\"><img src=\"https://colab.research.google.com/assets/colab-badge.svg\" alt=\"Open In Colab\"/></a>"
      ]
    },
    {
      "cell_type": "markdown",
      "source": [
        "### IMPORT THE NECESSARY LIBRARIES"
      ],
      "metadata": {
        "id": "l6NFAgeDeOIM"
      }
    },
    {
      "cell_type": "code",
      "execution_count": 1,
      "metadata": {
        "id": "7oA2PcTxeMEy"
      },
      "outputs": [],
      "source": [
        "import pandas as pd\n",
        "import numpy as np\n",
        "import matplotlib.pyplot as plt\n",
        "import plotly.graph_objs as go\n",
        "import plotly.offline as py\n",
        "import seaborn as sns\n",
        "\n",
        "import matplotlib.ticker as mtick\n",
        "plt.style.use('fivethirtyeight')\n",
        "from sklearn.linear_model import LogisticRegression\n",
        "from sklearn.linear_model import LinearRegression\n",
        "from sklearn.ensemble import  ExtraTreesRegressor\n",
        "from sklearn.model_selection import train_test_split\n",
        "\n",
        "import warnings\n",
        "warnings.filterwarnings('ignore')\n",
        "%matplotlib inline"
      ]
    },
    {
      "cell_type": "markdown",
      "source": [
        "Conucinting drive to google colad"
      ],
      "metadata": {
        "id": "q6JZYzU4e3Jw"
      }
    },
    {
      "cell_type": "code",
      "source": [
        "from google.colab import drive\n",
        "drive.mount('/content/drive')"
      ],
      "metadata": {
        "colab": {
          "base_uri": "https://localhost:8080/"
        },
        "id": "YcZVwQWYeuhX",
        "outputId": "8d8925c8-a91c-484d-a07f-411f3bc44bc3"
      },
      "execution_count": 2,
      "outputs": [
        {
          "output_type": "stream",
          "name": "stdout",
          "text": [
            "Mounted at /content/drive\n"
          ]
        }
      ]
    },
    {
      "cell_type": "markdown",
      "source": [
        "### LOAD DATASET"
      ],
      "metadata": {
        "id": "k-sHaN7VfeT4"
      }
    },
    {
      "cell_type": "code",
      "source": [
        "data = pd.read_csv('/content/drive/MyDrive/Data/zomato.csv')"
      ],
      "metadata": {
        "id": "eBQMU4NxfH4x"
      },
      "execution_count": 3,
      "outputs": []
    },
    {
      "cell_type": "code",
      "source": [
        "data.head()"
      ],
      "metadata": {
        "colab": {
          "base_uri": "https://localhost:8080/",
          "height": 652
        },
        "id": "13LMXlVrfywy",
        "outputId": "6a79b412-4dc0-44af-e008-4ec361d35124"
      },
      "execution_count": 4,
      "outputs": [
        {
          "output_type": "execute_result",
          "data": {
            "text/plain": [
              "                                                 url  \\\n",
              "0  https://www.zomato.com/bangalore/jalsa-banasha...   \n",
              "1  https://www.zomato.com/bangalore/spice-elephan...   \n",
              "2  https://www.zomato.com/SanchurroBangalore?cont...   \n",
              "3  https://www.zomato.com/bangalore/addhuri-udupi...   \n",
              "4  https://www.zomato.com/bangalore/grand-village...   \n",
              "\n",
              "                                             address                   name  \\\n",
              "0  942, 21st Main Road, 2nd Stage, Banashankari, ...                  Jalsa   \n",
              "1  2nd Floor, 80 Feet Road, Near Big Bazaar, 6th ...         Spice Elephant   \n",
              "2  1112, Next to KIMS Medical College, 17th Cross...        San Churro Cafe   \n",
              "3  1st Floor, Annakuteera, 3rd Stage, Banashankar...  Addhuri Udupi Bhojana   \n",
              "4  10, 3rd Floor, Lakshmi Associates, Gandhi Baza...          Grand Village   \n",
              "\n",
              "  online_order book_table   rate  votes                             phone  \\\n",
              "0          Yes        Yes  4.1/5    775    080 42297555\\r\\n+91 9743772233   \n",
              "1          Yes         No  4.1/5    787                      080 41714161   \n",
              "2          Yes         No  3.8/5    918                    +91 9663487993   \n",
              "3           No         No  3.7/5     88                    +91 9620009302   \n",
              "4           No         No  3.8/5    166  +91 8026612447\\r\\n+91 9901210005   \n",
              "\n",
              "       location            rest_type  \\\n",
              "0  Banashankari        Casual Dining   \n",
              "1  Banashankari        Casual Dining   \n",
              "2  Banashankari  Cafe, Casual Dining   \n",
              "3  Banashankari          Quick Bites   \n",
              "4  Basavanagudi        Casual Dining   \n",
              "\n",
              "                                          dish_liked  \\\n",
              "0  Pasta, Lunch Buffet, Masala Papad, Paneer Laja...   \n",
              "1  Momos, Lunch Buffet, Chocolate Nirvana, Thai G...   \n",
              "2  Churros, Cannelloni, Minestrone Soup, Hot Choc...   \n",
              "3                                        Masala Dosa   \n",
              "4                                Panipuri, Gol Gappe   \n",
              "\n",
              "                         cuisines approx_cost(for two people)  \\\n",
              "0  North Indian, Mughlai, Chinese                         800   \n",
              "1     Chinese, North Indian, Thai                         800   \n",
              "2          Cafe, Mexican, Italian                         800   \n",
              "3      South Indian, North Indian                         300   \n",
              "4        North Indian, Rajasthani                         600   \n",
              "\n",
              "                                        reviews_list menu_item  \\\n",
              "0  [('Rated 4.0', 'RATED\\n  A beautiful place to ...        []   \n",
              "1  [('Rated 4.0', 'RATED\\n  Had been here for din...        []   \n",
              "2  [('Rated 3.0', \"RATED\\n  Ambience is not that ...        []   \n",
              "3  [('Rated 4.0', \"RATED\\n  Great food and proper...        []   \n",
              "4  [('Rated 4.0', 'RATED\\n  Very good restaurant ...        []   \n",
              "\n",
              "  listed_in(type) listed_in(city)  \n",
              "0          Buffet    Banashankari  \n",
              "1          Buffet    Banashankari  \n",
              "2          Buffet    Banashankari  \n",
              "3          Buffet    Banashankari  \n",
              "4          Buffet    Banashankari  "
            ],
            "text/html": [
              "\n",
              "  <div id=\"df-846a0ffa-0755-4fcd-ac6a-4c3de0b78ac8\">\n",
              "    <div class=\"colab-df-container\">\n",
              "      <div>\n",
              "<style scoped>\n",
              "    .dataframe tbody tr th:only-of-type {\n",
              "        vertical-align: middle;\n",
              "    }\n",
              "\n",
              "    .dataframe tbody tr th {\n",
              "        vertical-align: top;\n",
              "    }\n",
              "\n",
              "    .dataframe thead th {\n",
              "        text-align: right;\n",
              "    }\n",
              "</style>\n",
              "<table border=\"1\" class=\"dataframe\">\n",
              "  <thead>\n",
              "    <tr style=\"text-align: right;\">\n",
              "      <th></th>\n",
              "      <th>url</th>\n",
              "      <th>address</th>\n",
              "      <th>name</th>\n",
              "      <th>online_order</th>\n",
              "      <th>book_table</th>\n",
              "      <th>rate</th>\n",
              "      <th>votes</th>\n",
              "      <th>phone</th>\n",
              "      <th>location</th>\n",
              "      <th>rest_type</th>\n",
              "      <th>dish_liked</th>\n",
              "      <th>cuisines</th>\n",
              "      <th>approx_cost(for two people)</th>\n",
              "      <th>reviews_list</th>\n",
              "      <th>menu_item</th>\n",
              "      <th>listed_in(type)</th>\n",
              "      <th>listed_in(city)</th>\n",
              "    </tr>\n",
              "  </thead>\n",
              "  <tbody>\n",
              "    <tr>\n",
              "      <th>0</th>\n",
              "      <td>https://www.zomato.com/bangalore/jalsa-banasha...</td>\n",
              "      <td>942, 21st Main Road, 2nd Stage, Banashankari, ...</td>\n",
              "      <td>Jalsa</td>\n",
              "      <td>Yes</td>\n",
              "      <td>Yes</td>\n",
              "      <td>4.1/5</td>\n",
              "      <td>775</td>\n",
              "      <td>080 42297555\\r\\n+91 9743772233</td>\n",
              "      <td>Banashankari</td>\n",
              "      <td>Casual Dining</td>\n",
              "      <td>Pasta, Lunch Buffet, Masala Papad, Paneer Laja...</td>\n",
              "      <td>North Indian, Mughlai, Chinese</td>\n",
              "      <td>800</td>\n",
              "      <td>[('Rated 4.0', 'RATED\\n  A beautiful place to ...</td>\n",
              "      <td>[]</td>\n",
              "      <td>Buffet</td>\n",
              "      <td>Banashankari</td>\n",
              "    </tr>\n",
              "    <tr>\n",
              "      <th>1</th>\n",
              "      <td>https://www.zomato.com/bangalore/spice-elephan...</td>\n",
              "      <td>2nd Floor, 80 Feet Road, Near Big Bazaar, 6th ...</td>\n",
              "      <td>Spice Elephant</td>\n",
              "      <td>Yes</td>\n",
              "      <td>No</td>\n",
              "      <td>4.1/5</td>\n",
              "      <td>787</td>\n",
              "      <td>080 41714161</td>\n",
              "      <td>Banashankari</td>\n",
              "      <td>Casual Dining</td>\n",
              "      <td>Momos, Lunch Buffet, Chocolate Nirvana, Thai G...</td>\n",
              "      <td>Chinese, North Indian, Thai</td>\n",
              "      <td>800</td>\n",
              "      <td>[('Rated 4.0', 'RATED\\n  Had been here for din...</td>\n",
              "      <td>[]</td>\n",
              "      <td>Buffet</td>\n",
              "      <td>Banashankari</td>\n",
              "    </tr>\n",
              "    <tr>\n",
              "      <th>2</th>\n",
              "      <td>https://www.zomato.com/SanchurroBangalore?cont...</td>\n",
              "      <td>1112, Next to KIMS Medical College, 17th Cross...</td>\n",
              "      <td>San Churro Cafe</td>\n",
              "      <td>Yes</td>\n",
              "      <td>No</td>\n",
              "      <td>3.8/5</td>\n",
              "      <td>918</td>\n",
              "      <td>+91 9663487993</td>\n",
              "      <td>Banashankari</td>\n",
              "      <td>Cafe, Casual Dining</td>\n",
              "      <td>Churros, Cannelloni, Minestrone Soup, Hot Choc...</td>\n",
              "      <td>Cafe, Mexican, Italian</td>\n",
              "      <td>800</td>\n",
              "      <td>[('Rated 3.0', \"RATED\\n  Ambience is not that ...</td>\n",
              "      <td>[]</td>\n",
              "      <td>Buffet</td>\n",
              "      <td>Banashankari</td>\n",
              "    </tr>\n",
              "    <tr>\n",
              "      <th>3</th>\n",
              "      <td>https://www.zomato.com/bangalore/addhuri-udupi...</td>\n",
              "      <td>1st Floor, Annakuteera, 3rd Stage, Banashankar...</td>\n",
              "      <td>Addhuri Udupi Bhojana</td>\n",
              "      <td>No</td>\n",
              "      <td>No</td>\n",
              "      <td>3.7/5</td>\n",
              "      <td>88</td>\n",
              "      <td>+91 9620009302</td>\n",
              "      <td>Banashankari</td>\n",
              "      <td>Quick Bites</td>\n",
              "      <td>Masala Dosa</td>\n",
              "      <td>South Indian, North Indian</td>\n",
              "      <td>300</td>\n",
              "      <td>[('Rated 4.0', \"RATED\\n  Great food and proper...</td>\n",
              "      <td>[]</td>\n",
              "      <td>Buffet</td>\n",
              "      <td>Banashankari</td>\n",
              "    </tr>\n",
              "    <tr>\n",
              "      <th>4</th>\n",
              "      <td>https://www.zomato.com/bangalore/grand-village...</td>\n",
              "      <td>10, 3rd Floor, Lakshmi Associates, Gandhi Baza...</td>\n",
              "      <td>Grand Village</td>\n",
              "      <td>No</td>\n",
              "      <td>No</td>\n",
              "      <td>3.8/5</td>\n",
              "      <td>166</td>\n",
              "      <td>+91 8026612447\\r\\n+91 9901210005</td>\n",
              "      <td>Basavanagudi</td>\n",
              "      <td>Casual Dining</td>\n",
              "      <td>Panipuri, Gol Gappe</td>\n",
              "      <td>North Indian, Rajasthani</td>\n",
              "      <td>600</td>\n",
              "      <td>[('Rated 4.0', 'RATED\\n  Very good restaurant ...</td>\n",
              "      <td>[]</td>\n",
              "      <td>Buffet</td>\n",
              "      <td>Banashankari</td>\n",
              "    </tr>\n",
              "  </tbody>\n",
              "</table>\n",
              "</div>\n",
              "      <button class=\"colab-df-convert\" onclick=\"convertToInteractive('df-846a0ffa-0755-4fcd-ac6a-4c3de0b78ac8')\"\n",
              "              title=\"Convert this dataframe to an interactive table.\"\n",
              "              style=\"display:none;\">\n",
              "        \n",
              "  <svg xmlns=\"http://www.w3.org/2000/svg\" height=\"24px\"viewBox=\"0 0 24 24\"\n",
              "       width=\"24px\">\n",
              "    <path d=\"M0 0h24v24H0V0z\" fill=\"none\"/>\n",
              "    <path d=\"M18.56 5.44l.94 2.06.94-2.06 2.06-.94-2.06-.94-.94-2.06-.94 2.06-2.06.94zm-11 1L8.5 8.5l.94-2.06 2.06-.94-2.06-.94L8.5 2.5l-.94 2.06-2.06.94zm10 10l.94 2.06.94-2.06 2.06-.94-2.06-.94-.94-2.06-.94 2.06-2.06.94z\"/><path d=\"M17.41 7.96l-1.37-1.37c-.4-.4-.92-.59-1.43-.59-.52 0-1.04.2-1.43.59L10.3 9.45l-7.72 7.72c-.78.78-.78 2.05 0 2.83L4 21.41c.39.39.9.59 1.41.59.51 0 1.02-.2 1.41-.59l7.78-7.78 2.81-2.81c.8-.78.8-2.07 0-2.86zM5.41 20L4 18.59l7.72-7.72 1.47 1.35L5.41 20z\"/>\n",
              "  </svg>\n",
              "      </button>\n",
              "      \n",
              "  <style>\n",
              "    .colab-df-container {\n",
              "      display:flex;\n",
              "      flex-wrap:wrap;\n",
              "      gap: 12px;\n",
              "    }\n",
              "\n",
              "    .colab-df-convert {\n",
              "      background-color: #E8F0FE;\n",
              "      border: none;\n",
              "      border-radius: 50%;\n",
              "      cursor: pointer;\n",
              "      display: none;\n",
              "      fill: #1967D2;\n",
              "      height: 32px;\n",
              "      padding: 0 0 0 0;\n",
              "      width: 32px;\n",
              "    }\n",
              "\n",
              "    .colab-df-convert:hover {\n",
              "      background-color: #E2EBFA;\n",
              "      box-shadow: 0px 1px 2px rgba(60, 64, 67, 0.3), 0px 1px 3px 1px rgba(60, 64, 67, 0.15);\n",
              "      fill: #174EA6;\n",
              "    }\n",
              "\n",
              "    [theme=dark] .colab-df-convert {\n",
              "      background-color: #3B4455;\n",
              "      fill: #D2E3FC;\n",
              "    }\n",
              "\n",
              "    [theme=dark] .colab-df-convert:hover {\n",
              "      background-color: #434B5C;\n",
              "      box-shadow: 0px 1px 3px 1px rgba(0, 0, 0, 0.15);\n",
              "      filter: drop-shadow(0px 1px 2px rgba(0, 0, 0, 0.3));\n",
              "      fill: #FFFFFF;\n",
              "    }\n",
              "  </style>\n",
              "\n",
              "      <script>\n",
              "        const buttonEl =\n",
              "          document.querySelector('#df-846a0ffa-0755-4fcd-ac6a-4c3de0b78ac8 button.colab-df-convert');\n",
              "        buttonEl.style.display =\n",
              "          google.colab.kernel.accessAllowed ? 'block' : 'none';\n",
              "\n",
              "        async function convertToInteractive(key) {\n",
              "          const element = document.querySelector('#df-846a0ffa-0755-4fcd-ac6a-4c3de0b78ac8');\n",
              "          const dataTable =\n",
              "            await google.colab.kernel.invokeFunction('convertToInteractive',\n",
              "                                                     [key], {});\n",
              "          if (!dataTable) return;\n",
              "\n",
              "          const docLinkHtml = 'Like what you see? Visit the ' +\n",
              "            '<a target=\"_blank\" href=https://colab.research.google.com/notebooks/data_table.ipynb>data table notebook</a>'\n",
              "            + ' to learn more about interactive tables.';\n",
              "          element.innerHTML = '';\n",
              "          dataTable['output_type'] = 'display_data';\n",
              "          await google.colab.output.renderOutput(dataTable, element);\n",
              "          const docLink = document.createElement('div');\n",
              "          docLink.innerHTML = docLinkHtml;\n",
              "          element.appendChild(docLink);\n",
              "        }\n",
              "      </script>\n",
              "    </div>\n",
              "  </div>\n",
              "  "
            ]
          },
          "metadata": {},
          "execution_count": 4
        }
      ]
    },
    {
      "cell_type": "code",
      "source": [
        "data.shape"
      ],
      "metadata": {
        "colab": {
          "base_uri": "https://localhost:8080/"
        },
        "id": "dA46ttQZf0J2",
        "outputId": "808dcde1-d9f8-42ca-a1f2-545e52f0ecc5"
      },
      "execution_count": 5,
      "outputs": [
        {
          "output_type": "execute_result",
          "data": {
            "text/plain": [
              "(51717, 17)"
            ]
          },
          "metadata": {},
          "execution_count": 5
        }
      ]
    },
    {
      "cell_type": "markdown",
      "source": [
        "checking the data type"
      ],
      "metadata": {
        "id": "YoxHqRhEiUXh"
      }
    },
    {
      "cell_type": "code",
      "source": [
        "data.dtypes"
      ],
      "metadata": {
        "colab": {
          "base_uri": "https://localhost:8080/"
        },
        "id": "lkQlmybhgc4v",
        "outputId": "ba2e6e22-f4ec-4786-d78f-dc8daffa034e"
      },
      "execution_count": 6,
      "outputs": [
        {
          "output_type": "execute_result",
          "data": {
            "text/plain": [
              "url                            object\n",
              "address                        object\n",
              "name                           object\n",
              "online_order                   object\n",
              "book_table                     object\n",
              "rate                           object\n",
              "votes                           int64\n",
              "phone                          object\n",
              "location                       object\n",
              "rest_type                      object\n",
              "dish_liked                     object\n",
              "cuisines                       object\n",
              "approx_cost(for two people)    object\n",
              "reviews_list                   object\n",
              "menu_item                      object\n",
              "listed_in(type)                object\n",
              "listed_in(city)                object\n",
              "dtype: object"
            ]
          },
          "metadata": {},
          "execution_count": 6
        }
      ]
    },
    {
      "cell_type": "code",
      "source": [
        "data.isna().sum()"
      ],
      "metadata": {
        "colab": {
          "base_uri": "https://localhost:8080/"
        },
        "id": "HIIlWHwYiQ2_",
        "outputId": "01113727-dd45-49b2-d575-1b96e80a9ed4"
      },
      "execution_count": 7,
      "outputs": [
        {
          "output_type": "execute_result",
          "data": {
            "text/plain": [
              "url                                0\n",
              "address                            0\n",
              "name                               0\n",
              "online_order                       0\n",
              "book_table                         0\n",
              "rate                            7775\n",
              "votes                              0\n",
              "phone                           1208\n",
              "location                          21\n",
              "rest_type                        227\n",
              "dish_liked                     28078\n",
              "cuisines                          45\n",
              "approx_cost(for two people)      346\n",
              "reviews_list                       0\n",
              "menu_item                          0\n",
              "listed_in(type)                    0\n",
              "listed_in(city)                    0\n",
              "dtype: int64"
            ]
          },
          "metadata": {},
          "execution_count": 7
        }
      ]
    },
    {
      "cell_type": "markdown",
      "source": [
        "Deleting Unnnecessary Columns"
      ],
      "metadata": {
        "id": "YFeh_ZBMiv9q"
      }
    },
    {
      "cell_type": "code",
      "source": [
        "df=data.drop(['url','phone'],axis=1) "
      ],
      "metadata": {
        "id": "gTc-kN6Uijyf"
      },
      "execution_count": 8,
      "outputs": []
    },
    {
      "cell_type": "markdown",
      "source": [
        "### Checking for duplicate values"
      ],
      "metadata": {
        "id": "TTaVL631jXRQ"
      }
    },
    {
      "cell_type": "code",
      "source": [
        "df.duplicated().sum() "
      ],
      "metadata": {
        "colab": {
          "base_uri": "https://localhost:8080/"
        },
        "id": "a-bO618MjF3W",
        "outputId": "f9d15a8e-5201-4dbc-ad79-38b2dd263e86"
      },
      "execution_count": 9,
      "outputs": [
        {
          "output_type": "execute_result",
          "data": {
            "text/plain": [
              "43"
            ]
          },
          "metadata": {},
          "execution_count": 9
        }
      ]
    },
    {
      "cell_type": "code",
      "source": [
        "df.drop_duplicates(inplace=True)"
      ],
      "metadata": {
        "id": "UVdP6qgCjd2q"
      },
      "execution_count": 10,
      "outputs": []
    },
    {
      "cell_type": "code",
      "source": [
        "df.duplicated().sum()"
      ],
      "metadata": {
        "colab": {
          "base_uri": "https://localhost:8080/"
        },
        "id": "-LkLLUL2jr8X",
        "outputId": "4bc13ad6-e147-4d4b-dc4c-b667ac062a61"
      },
      "execution_count": 11,
      "outputs": [
        {
          "output_type": "execute_result",
          "data": {
            "text/plain": [
              "0"
            ]
          },
          "metadata": {},
          "execution_count": 11
        }
      ]
    },
    {
      "cell_type": "code",
      "source": [
        "df.dropna(how='any',inplace=True)\n",
        "df.isnull().sum()"
      ],
      "metadata": {
        "colab": {
          "base_uri": "https://localhost:8080/"
        },
        "id": "wplCSNrrjvXf",
        "outputId": "31b2a2e2-09cb-4b70-e41d-0d881f3d662f"
      },
      "execution_count": 12,
      "outputs": [
        {
          "output_type": "execute_result",
          "data": {
            "text/plain": [
              "address                        0\n",
              "name                           0\n",
              "online_order                   0\n",
              "book_table                     0\n",
              "rate                           0\n",
              "votes                          0\n",
              "location                       0\n",
              "rest_type                      0\n",
              "dish_liked                     0\n",
              "cuisines                       0\n",
              "approx_cost(for two people)    0\n",
              "reviews_list                   0\n",
              "menu_item                      0\n",
              "listed_in(type)                0\n",
              "listed_in(city)                0\n",
              "dtype: int64"
            ]
          },
          "metadata": {},
          "execution_count": 12
        }
      ]
    },
    {
      "cell_type": "markdown",
      "source": [
        "### Renaming columes "
      ],
      "metadata": {
        "id": "e4kH_mgEkAvA"
      }
    },
    {
      "cell_type": "code",
      "source": [
        "df.columns"
      ],
      "metadata": {
        "colab": {
          "base_uri": "https://localhost:8080/"
        },
        "id": "x3tfvE-Cj5MW",
        "outputId": "8102b4c7-d85b-4246-f480-6b03a0965ed1"
      },
      "execution_count": 13,
      "outputs": [
        {
          "output_type": "execute_result",
          "data": {
            "text/plain": [
              "Index(['address', 'name', 'online_order', 'book_table', 'rate', 'votes',\n",
              "       'location', 'rest_type', 'dish_liked', 'cuisines',\n",
              "       'approx_cost(for two people)', 'reviews_list', 'menu_item',\n",
              "       'listed_in(type)', 'listed_in(city)'],\n",
              "      dtype='object')"
            ]
          },
          "metadata": {},
          "execution_count": 13
        }
      ]
    },
    {
      "cell_type": "code",
      "source": [
        "df = df.rename(columns={'approx_cost(for two people)':'cost','listed_in(type)':'type',\n",
        "                                  'listed_in(city)':'city'})\n",
        "df.columns"
      ],
      "metadata": {
        "colab": {
          "base_uri": "https://localhost:8080/"
        },
        "id": "cZMoXRc5kGth",
        "outputId": "9fe43972-f354-45bf-895f-b0c1f2cde23f"
      },
      "execution_count": 14,
      "outputs": [
        {
          "output_type": "execute_result",
          "data": {
            "text/plain": [
              "Index(['address', 'name', 'online_order', 'book_table', 'rate', 'votes',\n",
              "       'location', 'rest_type', 'dish_liked', 'cuisines', 'cost',\n",
              "       'reviews_list', 'menu_item', 'type', 'city'],\n",
              "      dtype='object')"
            ]
          },
          "metadata": {},
          "execution_count": 14
        }
      ]
    },
    {
      "cell_type": "code",
      "source": [
        "df.head()"
      ],
      "metadata": {
        "colab": {
          "base_uri": "https://localhost:8080/",
          "height": 615
        },
        "id": "7RfUyEaakN5u",
        "outputId": "db10d32e-f53c-4c49-e2b2-0b9a145a865c"
      },
      "execution_count": 15,
      "outputs": [
        {
          "output_type": "execute_result",
          "data": {
            "text/plain": [
              "                                             address                   name  \\\n",
              "0  942, 21st Main Road, 2nd Stage, Banashankari, ...                  Jalsa   \n",
              "1  2nd Floor, 80 Feet Road, Near Big Bazaar, 6th ...         Spice Elephant   \n",
              "2  1112, Next to KIMS Medical College, 17th Cross...        San Churro Cafe   \n",
              "3  1st Floor, Annakuteera, 3rd Stage, Banashankar...  Addhuri Udupi Bhojana   \n",
              "4  10, 3rd Floor, Lakshmi Associates, Gandhi Baza...          Grand Village   \n",
              "\n",
              "  online_order book_table   rate  votes      location            rest_type  \\\n",
              "0          Yes        Yes  4.1/5    775  Banashankari        Casual Dining   \n",
              "1          Yes         No  4.1/5    787  Banashankari        Casual Dining   \n",
              "2          Yes         No  3.8/5    918  Banashankari  Cafe, Casual Dining   \n",
              "3           No         No  3.7/5     88  Banashankari          Quick Bites   \n",
              "4           No         No  3.8/5    166  Basavanagudi        Casual Dining   \n",
              "\n",
              "                                          dish_liked  \\\n",
              "0  Pasta, Lunch Buffet, Masala Papad, Paneer Laja...   \n",
              "1  Momos, Lunch Buffet, Chocolate Nirvana, Thai G...   \n",
              "2  Churros, Cannelloni, Minestrone Soup, Hot Choc...   \n",
              "3                                        Masala Dosa   \n",
              "4                                Panipuri, Gol Gappe   \n",
              "\n",
              "                         cuisines cost  \\\n",
              "0  North Indian, Mughlai, Chinese  800   \n",
              "1     Chinese, North Indian, Thai  800   \n",
              "2          Cafe, Mexican, Italian  800   \n",
              "3      South Indian, North Indian  300   \n",
              "4        North Indian, Rajasthani  600   \n",
              "\n",
              "                                        reviews_list menu_item    type  \\\n",
              "0  [('Rated 4.0', 'RATED\\n  A beautiful place to ...        []  Buffet   \n",
              "1  [('Rated 4.0', 'RATED\\n  Had been here for din...        []  Buffet   \n",
              "2  [('Rated 3.0', \"RATED\\n  Ambience is not that ...        []  Buffet   \n",
              "3  [('Rated 4.0', \"RATED\\n  Great food and proper...        []  Buffet   \n",
              "4  [('Rated 4.0', 'RATED\\n  Very good restaurant ...        []  Buffet   \n",
              "\n",
              "           city  \n",
              "0  Banashankari  \n",
              "1  Banashankari  \n",
              "2  Banashankari  \n",
              "3  Banashankari  \n",
              "4  Banashankari  "
            ],
            "text/html": [
              "\n",
              "  <div id=\"df-ff444778-7302-4427-b948-02fe41016356\">\n",
              "    <div class=\"colab-df-container\">\n",
              "      <div>\n",
              "<style scoped>\n",
              "    .dataframe tbody tr th:only-of-type {\n",
              "        vertical-align: middle;\n",
              "    }\n",
              "\n",
              "    .dataframe tbody tr th {\n",
              "        vertical-align: top;\n",
              "    }\n",
              "\n",
              "    .dataframe thead th {\n",
              "        text-align: right;\n",
              "    }\n",
              "</style>\n",
              "<table border=\"1\" class=\"dataframe\">\n",
              "  <thead>\n",
              "    <tr style=\"text-align: right;\">\n",
              "      <th></th>\n",
              "      <th>address</th>\n",
              "      <th>name</th>\n",
              "      <th>online_order</th>\n",
              "      <th>book_table</th>\n",
              "      <th>rate</th>\n",
              "      <th>votes</th>\n",
              "      <th>location</th>\n",
              "      <th>rest_type</th>\n",
              "      <th>dish_liked</th>\n",
              "      <th>cuisines</th>\n",
              "      <th>cost</th>\n",
              "      <th>reviews_list</th>\n",
              "      <th>menu_item</th>\n",
              "      <th>type</th>\n",
              "      <th>city</th>\n",
              "    </tr>\n",
              "  </thead>\n",
              "  <tbody>\n",
              "    <tr>\n",
              "      <th>0</th>\n",
              "      <td>942, 21st Main Road, 2nd Stage, Banashankari, ...</td>\n",
              "      <td>Jalsa</td>\n",
              "      <td>Yes</td>\n",
              "      <td>Yes</td>\n",
              "      <td>4.1/5</td>\n",
              "      <td>775</td>\n",
              "      <td>Banashankari</td>\n",
              "      <td>Casual Dining</td>\n",
              "      <td>Pasta, Lunch Buffet, Masala Papad, Paneer Laja...</td>\n",
              "      <td>North Indian, Mughlai, Chinese</td>\n",
              "      <td>800</td>\n",
              "      <td>[('Rated 4.0', 'RATED\\n  A beautiful place to ...</td>\n",
              "      <td>[]</td>\n",
              "      <td>Buffet</td>\n",
              "      <td>Banashankari</td>\n",
              "    </tr>\n",
              "    <tr>\n",
              "      <th>1</th>\n",
              "      <td>2nd Floor, 80 Feet Road, Near Big Bazaar, 6th ...</td>\n",
              "      <td>Spice Elephant</td>\n",
              "      <td>Yes</td>\n",
              "      <td>No</td>\n",
              "      <td>4.1/5</td>\n",
              "      <td>787</td>\n",
              "      <td>Banashankari</td>\n",
              "      <td>Casual Dining</td>\n",
              "      <td>Momos, Lunch Buffet, Chocolate Nirvana, Thai G...</td>\n",
              "      <td>Chinese, North Indian, Thai</td>\n",
              "      <td>800</td>\n",
              "      <td>[('Rated 4.0', 'RATED\\n  Had been here for din...</td>\n",
              "      <td>[]</td>\n",
              "      <td>Buffet</td>\n",
              "      <td>Banashankari</td>\n",
              "    </tr>\n",
              "    <tr>\n",
              "      <th>2</th>\n",
              "      <td>1112, Next to KIMS Medical College, 17th Cross...</td>\n",
              "      <td>San Churro Cafe</td>\n",
              "      <td>Yes</td>\n",
              "      <td>No</td>\n",
              "      <td>3.8/5</td>\n",
              "      <td>918</td>\n",
              "      <td>Banashankari</td>\n",
              "      <td>Cafe, Casual Dining</td>\n",
              "      <td>Churros, Cannelloni, Minestrone Soup, Hot Choc...</td>\n",
              "      <td>Cafe, Mexican, Italian</td>\n",
              "      <td>800</td>\n",
              "      <td>[('Rated 3.0', \"RATED\\n  Ambience is not that ...</td>\n",
              "      <td>[]</td>\n",
              "      <td>Buffet</td>\n",
              "      <td>Banashankari</td>\n",
              "    </tr>\n",
              "    <tr>\n",
              "      <th>3</th>\n",
              "      <td>1st Floor, Annakuteera, 3rd Stage, Banashankar...</td>\n",
              "      <td>Addhuri Udupi Bhojana</td>\n",
              "      <td>No</td>\n",
              "      <td>No</td>\n",
              "      <td>3.7/5</td>\n",
              "      <td>88</td>\n",
              "      <td>Banashankari</td>\n",
              "      <td>Quick Bites</td>\n",
              "      <td>Masala Dosa</td>\n",
              "      <td>South Indian, North Indian</td>\n",
              "      <td>300</td>\n",
              "      <td>[('Rated 4.0', \"RATED\\n  Great food and proper...</td>\n",
              "      <td>[]</td>\n",
              "      <td>Buffet</td>\n",
              "      <td>Banashankari</td>\n",
              "    </tr>\n",
              "    <tr>\n",
              "      <th>4</th>\n",
              "      <td>10, 3rd Floor, Lakshmi Associates, Gandhi Baza...</td>\n",
              "      <td>Grand Village</td>\n",
              "      <td>No</td>\n",
              "      <td>No</td>\n",
              "      <td>3.8/5</td>\n",
              "      <td>166</td>\n",
              "      <td>Basavanagudi</td>\n",
              "      <td>Casual Dining</td>\n",
              "      <td>Panipuri, Gol Gappe</td>\n",
              "      <td>North Indian, Rajasthani</td>\n",
              "      <td>600</td>\n",
              "      <td>[('Rated 4.0', 'RATED\\n  Very good restaurant ...</td>\n",
              "      <td>[]</td>\n",
              "      <td>Buffet</td>\n",
              "      <td>Banashankari</td>\n",
              "    </tr>\n",
              "  </tbody>\n",
              "</table>\n",
              "</div>\n",
              "      <button class=\"colab-df-convert\" onclick=\"convertToInteractive('df-ff444778-7302-4427-b948-02fe41016356')\"\n",
              "              title=\"Convert this dataframe to an interactive table.\"\n",
              "              style=\"display:none;\">\n",
              "        \n",
              "  <svg xmlns=\"http://www.w3.org/2000/svg\" height=\"24px\"viewBox=\"0 0 24 24\"\n",
              "       width=\"24px\">\n",
              "    <path d=\"M0 0h24v24H0V0z\" fill=\"none\"/>\n",
              "    <path d=\"M18.56 5.44l.94 2.06.94-2.06 2.06-.94-2.06-.94-.94-2.06-.94 2.06-2.06.94zm-11 1L8.5 8.5l.94-2.06 2.06-.94-2.06-.94L8.5 2.5l-.94 2.06-2.06.94zm10 10l.94 2.06.94-2.06 2.06-.94-2.06-.94-.94-2.06-.94 2.06-2.06.94z\"/><path d=\"M17.41 7.96l-1.37-1.37c-.4-.4-.92-.59-1.43-.59-.52 0-1.04.2-1.43.59L10.3 9.45l-7.72 7.72c-.78.78-.78 2.05 0 2.83L4 21.41c.39.39.9.59 1.41.59.51 0 1.02-.2 1.41-.59l7.78-7.78 2.81-2.81c.8-.78.8-2.07 0-2.86zM5.41 20L4 18.59l7.72-7.72 1.47 1.35L5.41 20z\"/>\n",
              "  </svg>\n",
              "      </button>\n",
              "      \n",
              "  <style>\n",
              "    .colab-df-container {\n",
              "      display:flex;\n",
              "      flex-wrap:wrap;\n",
              "      gap: 12px;\n",
              "    }\n",
              "\n",
              "    .colab-df-convert {\n",
              "      background-color: #E8F0FE;\n",
              "      border: none;\n",
              "      border-radius: 50%;\n",
              "      cursor: pointer;\n",
              "      display: none;\n",
              "      fill: #1967D2;\n",
              "      height: 32px;\n",
              "      padding: 0 0 0 0;\n",
              "      width: 32px;\n",
              "    }\n",
              "\n",
              "    .colab-df-convert:hover {\n",
              "      background-color: #E2EBFA;\n",
              "      box-shadow: 0px 1px 2px rgba(60, 64, 67, 0.3), 0px 1px 3px 1px rgba(60, 64, 67, 0.15);\n",
              "      fill: #174EA6;\n",
              "    }\n",
              "\n",
              "    [theme=dark] .colab-df-convert {\n",
              "      background-color: #3B4455;\n",
              "      fill: #D2E3FC;\n",
              "    }\n",
              "\n",
              "    [theme=dark] .colab-df-convert:hover {\n",
              "      background-color: #434B5C;\n",
              "      box-shadow: 0px 1px 3px 1px rgba(0, 0, 0, 0.15);\n",
              "      filter: drop-shadow(0px 1px 2px rgba(0, 0, 0, 0.3));\n",
              "      fill: #FFFFFF;\n",
              "    }\n",
              "  </style>\n",
              "\n",
              "      <script>\n",
              "        const buttonEl =\n",
              "          document.querySelector('#df-ff444778-7302-4427-b948-02fe41016356 button.colab-df-convert');\n",
              "        buttonEl.style.display =\n",
              "          google.colab.kernel.accessAllowed ? 'block' : 'none';\n",
              "\n",
              "        async function convertToInteractive(key) {\n",
              "          const element = document.querySelector('#df-ff444778-7302-4427-b948-02fe41016356');\n",
              "          const dataTable =\n",
              "            await google.colab.kernel.invokeFunction('convertToInteractive',\n",
              "                                                     [key], {});\n",
              "          if (!dataTable) return;\n",
              "\n",
              "          const docLinkHtml = 'Like what you see? Visit the ' +\n",
              "            '<a target=\"_blank\" href=https://colab.research.google.com/notebooks/data_table.ipynb>data table notebook</a>'\n",
              "            + ' to learn more about interactive tables.';\n",
              "          element.innerHTML = '';\n",
              "          dataTable['output_type'] = 'display_data';\n",
              "          await google.colab.output.renderOutput(dataTable, element);\n",
              "          const docLink = document.createElement('div');\n",
              "          docLink.innerHTML = docLinkHtml;\n",
              "          element.appendChild(docLink);\n",
              "        }\n",
              "      </script>\n",
              "    </div>\n",
              "  </div>\n",
              "  "
            ]
          },
          "metadata": {},
          "execution_count": 15
        }
      ]
    },
    {
      "cell_type": "markdown",
      "source": [
        "## Cleaning the dataset"
      ],
      "metadata": {
        "id": "l99bn80hkcSB"
      }
    },
    {
      "cell_type": "code",
      "source": [
        "df['cost'].unique()"
      ],
      "metadata": {
        "colab": {
          "base_uri": "https://localhost:8080/"
        },
        "id": "Vr-2-T3UkWoo",
        "outputId": "dfe0ec99-0a93-434a-9221-247357b9ad2e"
      },
      "execution_count": 16,
      "outputs": [
        {
          "output_type": "execute_result",
          "data": {
            "text/plain": [
              "array(['800', '300', '600', '700', '550', '500', '450', '650', '400',\n",
              "       '750', '200', '850', '1,200', '150', '350', '250', '1,500',\n",
              "       '1,300', '1,000', '100', '900', '1,100', '1,600', '950', '230',\n",
              "       '1,700', '1,400', '1,350', '2,200', '2,000', '1,800', '1,900',\n",
              "       '180', '330', '2,500', '2,100', '3,000', '2,800', '3,400', '40',\n",
              "       '1,250', '3,500', '4,000', '2,400', '1,450', '3,200', '6,000',\n",
              "       '1,050', '4,100', '2,300', '120', '2,600', '5,000', '3,700',\n",
              "       '1,650', '2,700', '4,500'], dtype=object)"
            ]
          },
          "metadata": {},
          "execution_count": 16
        }
      ]
    },
    {
      "cell_type": "markdown",
      "source": [
        "replacing the \",\" with nothing "
      ],
      "metadata": {
        "id": "J1lWbaudkspo"
      }
    },
    {
      "cell_type": "code",
      "source": [
        "df['cost'] = df['cost'].apply(lambda x: x.replace(',','')) \n",
        "df['cost'] = df['cost'].astype(float)"
      ],
      "metadata": {
        "id": "uwBrIz0hkiTR"
      },
      "execution_count": 17,
      "outputs": []
    },
    {
      "cell_type": "code",
      "source": [
        "print(df['cost'].unique())\n",
        "\n",
        "print('---'*10)\n",
        "\n",
        "df.dtypes"
      ],
      "metadata": {
        "colab": {
          "base_uri": "https://localhost:8080/"
        },
        "id": "lfXLJJEdkrWp",
        "outputId": "0cf3ce39-73c6-4358-8265-4a5cfd0479ba"
      },
      "execution_count": 18,
      "outputs": [
        {
          "output_type": "stream",
          "name": "stdout",
          "text": [
            "[ 800.  300.  600.  700.  550.  500.  450.  650.  400.  750.  200.  850.\n",
            " 1200.  150.  350.  250. 1500. 1300. 1000.  100.  900. 1100. 1600.  950.\n",
            "  230. 1700. 1400. 1350. 2200. 2000. 1800. 1900.  180.  330. 2500. 2100.\n",
            " 3000. 2800. 3400.   40. 1250. 3500. 4000. 2400. 1450. 3200. 6000. 1050.\n",
            " 4100. 2300.  120. 2600. 5000. 3700. 1650. 2700. 4500.]\n",
            "------------------------------\n"
          ]
        },
        {
          "output_type": "execute_result",
          "data": {
            "text/plain": [
              "address          object\n",
              "name             object\n",
              "online_order     object\n",
              "book_table       object\n",
              "rate             object\n",
              "votes             int64\n",
              "location         object\n",
              "rest_type        object\n",
              "dish_liked       object\n",
              "cuisines         object\n",
              "cost            float64\n",
              "reviews_list     object\n",
              "menu_item        object\n",
              "type             object\n",
              "city             object\n",
              "dtype: object"
            ]
          },
          "metadata": {},
          "execution_count": 18
        }
      ]
    },
    {
      "cell_type": "markdown",
      "source": [
        "Reading uninque values from the Rate "
      ],
      "metadata": {
        "id": "S26UtG5ElFyJ"
      }
    },
    {
      "cell_type": "code",
      "source": [
        "df['rate'].unique()"
      ],
      "metadata": {
        "colab": {
          "base_uri": "https://localhost:8080/"
        },
        "id": "Xz2EnkGvk2aa",
        "outputId": "8ce61481-c4cd-4002-edd3-b9487d713745"
      },
      "execution_count": 19,
      "outputs": [
        {
          "output_type": "execute_result",
          "data": {
            "text/plain": [
              "array(['4.1/5', '3.8/5', '3.7/5', '4.6/5', '4.0/5', '4.2/5', '3.9/5',\n",
              "       '3.0/5', '3.6/5', '2.8/5', '4.4/5', '3.1/5', '4.3/5', '2.6/5',\n",
              "       '3.3/5', '3.5/5', '3.8 /5', '3.2/5', '4.5/5', '2.5/5', '2.9/5',\n",
              "       '3.4/5', '2.7/5', '4.7/5', 'NEW', '2.4/5', '2.2/5', '2.3/5',\n",
              "       '4.8/5', '3.9 /5', '4.2 /5', '4.0 /5', '4.1 /5', '2.9 /5',\n",
              "       '2.7 /5', '2.5 /5', '2.6 /5', '4.5 /5', '4.3 /5', '3.7 /5',\n",
              "       '4.4 /5', '4.9/5', '2.1/5', '2.0/5', '1.8/5', '3.4 /5', '3.6 /5',\n",
              "       '3.3 /5', '4.6 /5', '4.9 /5', '3.2 /5', '3.0 /5', '2.8 /5',\n",
              "       '3.5 /5', '3.1 /5', '4.8 /5', '2.3 /5', '4.7 /5', '2.4 /5',\n",
              "       '2.1 /5', '2.2 /5', '2.0 /5', '1.8 /5'], dtype=object)"
            ]
          },
          "metadata": {},
          "execution_count": 19
        }
      ]
    },
    {
      "cell_type": "code",
      "source": [
        "df = df.loc[df.rate !='NEW'] "
      ],
      "metadata": {
        "id": "KuOtgqD2lJUx"
      },
      "execution_count": 20,
      "outputs": []
    },
    {
      "cell_type": "code",
      "source": [
        "df['rate'].unique()"
      ],
      "metadata": {
        "colab": {
          "base_uri": "https://localhost:8080/"
        },
        "id": "EgpgZsQJlLVx",
        "outputId": "9ea4f4f9-e97f-41bd-9e75-8684f11ada4a"
      },
      "execution_count": 21,
      "outputs": [
        {
          "output_type": "execute_result",
          "data": {
            "text/plain": [
              "array(['4.1/5', '3.8/5', '3.7/5', '4.6/5', '4.0/5', '4.2/5', '3.9/5',\n",
              "       '3.0/5', '3.6/5', '2.8/5', '4.4/5', '3.1/5', '4.3/5', '2.6/5',\n",
              "       '3.3/5', '3.5/5', '3.8 /5', '3.2/5', '4.5/5', '2.5/5', '2.9/5',\n",
              "       '3.4/5', '2.7/5', '4.7/5', '2.4/5', '2.2/5', '2.3/5', '4.8/5',\n",
              "       '3.9 /5', '4.2 /5', '4.0 /5', '4.1 /5', '2.9 /5', '2.7 /5',\n",
              "       '2.5 /5', '2.6 /5', '4.5 /5', '4.3 /5', '3.7 /5', '4.4 /5',\n",
              "       '4.9/5', '2.1/5', '2.0/5', '1.8/5', '3.4 /5', '3.6 /5', '3.3 /5',\n",
              "       '4.6 /5', '4.9 /5', '3.2 /5', '3.0 /5', '2.8 /5', '3.5 /5',\n",
              "       '3.1 /5', '4.8 /5', '2.3 /5', '4.7 /5', '2.4 /5', '2.1 /5',\n",
              "       '2.2 /5', '2.0 /5', '1.8 /5'], dtype=object)"
            ]
          },
          "metadata": {},
          "execution_count": 21
        }
      ]
    },
    {
      "cell_type": "markdown",
      "source": [
        "### Removing '/5' from Rates"
      ],
      "metadata": {
        "id": "DpYbbTYvlh8D"
      }
    },
    {
      "cell_type": "code",
      "source": [
        "df['rate'] = df['rate'].apply(lambda x: x.replace('/5',''))"
      ],
      "metadata": {
        "id": "QNNK29lElbxf"
      },
      "execution_count": 23,
      "outputs": []
    },
    {
      "cell_type": "markdown",
      "source": [
        "## Visualisations"
      ],
      "metadata": {
        "id": "6ieuBQFIlp1x"
      }
    },
    {
      "cell_type": "markdown",
      "source": [
        "### Most famous restaurants chains in Bangaluru"
      ],
      "metadata": {
        "id": "5B8J4TjHluGZ"
      }
    },
    {
      "cell_type": "code",
      "source": [
        "plt.figure(figsize=(10,8))\n",
        "chains=df['name'].value_counts()[:20]\n",
        "sns.barplot(x=chains,y=chains.index,palette='deep')\n",
        "plt.title(\"Most famous restaurants chains in Bangaluru\")\n",
        "plt.xlabel(\"Number of outlets\")\n",
        "plt.show()"
      ],
      "metadata": {
        "colab": {
          "base_uri": "https://localhost:8080/",
          "height": 513
        },
        "id": "MLwKwddKlmt3",
        "outputId": "03c4f64a-178d-4217-cfc7-2ac1263db30c"
      },
      "execution_count": 24,
      "outputs": [
        {
          "output_type": "display_data",
          "data": {
            "text/plain": [
              "<Figure size 720x576 with 1 Axes>"
            ],
            "image/png": "[encoded data removed]"
          },
          "metadata": {
            "needs_background": "light"
          }
        }
      ]
    },
    {
      "cell_type": "markdown",
      "source": [
        "### Whether restaurant offer Table booking or not"
      ],
      "metadata": {
        "id": "in7b8zT2mKIj"
      }
    },
    {
      "cell_type": "code",
      "source": [
        "x=df['book_table'].value_counts()\n",
        "colors = ['#800080', '#0000A0']\n",
        "plt.figure(figsize=(8,5))\n",
        "trace=go.Pie(labels=x.index,values=x,textinfo=\"value\",\n",
        "            marker=dict(colors=colors, \n",
        "                           line=dict(color='#001000', width=2)))\n",
        "layout=go.Layout(title=\"Table booking\",width=600,height=600)\n",
        "fig=go.Figure(data=[trace],layout=layout)\n",
        "py.iplot(fig, filename='pie_chart_subplots')\n"
      ],
      "metadata": {
        "colab": {
          "base_uri": "https://localhost:8080/",
          "height": 634
        },
        "id": "jRFuJHeZl5v-",
        "outputId": "42b9bf63-8e88-4ca1-d4b8-df84c4806a8e"
      },
      "execution_count": 25,
      "outputs": [
        {
          "output_type": "display_data",
          "data": {
            "text/html": [
              "<html>\n",
              "<head><meta charset=\"utf-8\" /></head>\n",
              "<body>\n",
              "    <div>            <script src=\"https://cdnjs.cloudflare.com/ajax/libs/mathjax/2.7.5/MathJax.js?config=TeX-AMS-MML_SVG\"></script><script type=\"text/javascript\">if (window.MathJax) {MathJax.Hub.Config({SVG: {font: \"STIX-Web\"}});}</script>                <script type=\"text/javascript\">window.PlotlyConfig = {MathJaxConfig: 'local'};</script>\n",
              "        <script src=\"https://cdn.plot.ly/plotly-2.8.3.min.js\"></script>                <div id=\"5a2c7e67-b485-4aa4-a59d-85d01c48c19f\" class=\"plotly-graph-div\" style=\"height:600px; width:600px;\"></div>            <script type=\"text/javascript\">                                    window.PLOTLYENV=window.PLOTLYENV || {};                                    if (document.getElementById(\"5a2c7e67-b485-4aa4-a59d-85d01c48c19f\")) {                    Plotly.newPlot(                        \"5a2c7e67-b485-4aa4-a59d-85d01c48c19f\",                        [{\"labels\":[\"No\",\"Yes\"],\"marker\":{\"colors\":[\"#800080\",\"#0000A0\"],\"line\":{\"color\":\"#001000\",\"width\":2}},\"textinfo\":\"value\",\"values\":[17191,6057],\"type\":\"pie\"}],                        {\"height\":600,\"template\":{\"data\":{\"barpolar\":[{\"marker\":{\"line\":{\"color\":\"#E5ECF6\",\"width\":0.5},\"pattern\":{\"fillmode\":\"overlay\",\"size\":10,\"solidity\":0.2}},\"type\":\"barpolar\"}],\"bar\":[{\"error_x\":{\"color\":\"#2a3f5f\"},\"error_y\":{\"color\":\"#2a3f5f\"},\"marker\":{\"line\":{\"color\":\"#E5ECF6\",\"width\":0.5},\"pattern\":{\"fillmode\":\"overlay\",\"size\":10,\"solidity\":0.2}},\"type\":\"bar\"}],\"carpet\":[{\"aaxis\":{\"endlinecolor\":\"#2a3f5f\",\"gridcolor\":\"white\",\"linecolor\":\"white\",\"minorgridcolor\":\"white\",\"startlinecolor\":\"#2a3f5f\"},\"baxis\":{\"endlinecolor\":\"#2a3f5f\",\"gridcolor\":\"white\",\"linecolor\":\"white\",\"minorgridcolor\":\"white\",\"startlinecolor\":\"#2a3f5f\"},\"type\":\"carpet\"}],\"choropleth\":[{\"colorbar\":{\"outlinewidth\":0,\"ticks\":\"\"},\"type\":\"choropleth\"}],\"contourcarpet\":[{\"colorbar\":{\"outlinewidth\":0,\"ticks\":\"\"},\"type\":\"contourcarpet\"}],\"contour\":[{\"colorbar\":{\"outlinewidth\":0,\"ticks\":\"\"},\"colorscale\":[[0.0,\"#0d0887\"],[0.1111111111111111,\"#46039f\"],[0.2222222222222222,\"#7201a8\"],[0.3333333333333333,\"#9c179e\"],[0.4444444444444444,\"#bd3786\"],[0.5555555555555556,\"#d8576b\"],[0.6666666666666666,\"#ed7953\"],[0.7777777777777778,\"#fb9f3a\"],[0.8888888888888888,\"#fdca26\"],[1.0,\"#f0f921\"]],\"type\":\"contour\"}],\"heatmapgl\":[{\"colorbar\":{\"outlinewidth\":0,\"ticks\":\"\"},\"colorscale\":[[0.0,\"#0d0887\"],[0.1111111111111111,\"#46039f\"],[0.2222222222222222,\"#7201a8\"],[0.3333333333333333,\"#9c179e\"],[0.4444444444444444,\"#bd3786\"],[0.5555555555555556,\"#d8576b\"],[0.6666666666666666,\"#ed7953\"],[0.7777777777777778,\"#fb9f3a\"],[0.8888888888888888,\"#fdca26\"],[1.0,\"#f0f921\"]],\"type\":\"heatmapgl\"}],\"heatmap\":[{\"colorbar\":{\"outlinewidth\":0,\"ticks\":\"\"},\"colorscale\":[[0.0,\"#0d0887\"],[0.1111111111111111,\"#46039f\"],[0.2222222222222222,\"#7201a8\"],[0.3333333333333333,\"#9c179e\"],[0.4444444444444444,\"#bd3786\"],[0.5555555555555556,\"#d8576b\"],[0.6666666666666666,\"#ed7953\"],[0.7777777777777778,\"#fb9f3a\"],[0.8888888888888888,\"#fdca26\"],[1.0,\"#f0f921\"]],\"type\":\"heatmap\"}],\"histogram2dcontour\":[{\"colorbar\":{\"outlinewidth\":0,\"ticks\":\"\"},\"colorscale\":[[0.0,\"#0d0887\"],[0.1111111111111111,\"#46039f\"],[0.2222222222222222,\"#7201a8\"],[0.3333333333333333,\"#9c179e\"],[0.4444444444444444,\"#bd3786\"],[0.5555555555555556,\"#d8576b\"],[0.6666666666666666,\"#ed7953\"],[0.7777777777777778,\"#fb9f3a\"],[0.8888888888888888,\"#fdca26\"],[1.0,\"#f0f921\"]],\"type\":\"histogram2dcontour\"}],\"histogram2d\":[{\"colorbar\":{\"outlinewidth\":0,\"ticks\":\"\"},\"colorscale\":[[0.0,\"#0d0887\"],[0.1111111111111111,\"#46039f\"],[0.2222222222222222,\"#7201a8\"],[0.3333333333333333,\"#9c179e\"],[0.4444444444444444,\"#bd3786\"],[0.5555555555555556,\"#d8576b\"],[0.6666666666666666,\"#ed7953\"],[0.7777777777777778,\"#fb9f3a\"],[0.8888888888888888,\"#fdca26\"],[1.0,\"#f0f921\"]],\"type\":\"histogram2d\"}],\"histogram\":[{\"marker\":{\"pattern\":{\"fillmode\":\"overlay\",\"size\":10,\"solidity\":0.2}},\"type\":\"histogram\"}],\"mesh3d\":[{\"colorbar\":{\"outlinewidth\":0,\"ticks\":\"\"},\"type\":\"mesh3d\"}],\"parcoords\":[{\"line\":{\"colorbar\":{\"outlinewidth\":0,\"ticks\":\"\"}},\"type\":\"parcoords\"}],\"pie\":[{\"automargin\":true,\"type\":\"pie\"}],\"scatter3d\":[{\"line\":{\"colorbar\":{\"outlinewidth\":0,\"ticks\":\"\"}},\"marker\":{\"colorbar\":{\"outlinewidth\":0,\"ticks\":\"\"}},\"type\":\"scatter3d\"}],\"scattercarpet\":[{\"marker\":{\"colorbar\":{\"outlinewidth\":0,\"ticks\":\"\"}},\"type\":\"scattercarpet\"}],\"scattergeo\":[{\"marker\":{\"colorbar\":{\"outlinewidth\":0,\"ticks\":\"\"}},\"type\":\"scattergeo\"}],\"scattergl\":[{\"marker\":{\"colorbar\":{\"outlinewidth\":0,\"ticks\":\"\"}},\"type\":\"scattergl\"}],\"scattermapbox\":[{\"marker\":{\"colorbar\":{\"outlinewidth\":0,\"ticks\":\"\"}},\"type\":\"scattermapbox\"}],\"scatterpolargl\":[{\"marker\":{\"colorbar\":{\"outlinewidth\":0,\"ticks\":\"\"}},\"type\":\"scatterpolargl\"}],\"scatterpolar\":[{\"marker\":{\"colorbar\":{\"outlinewidth\":0,\"ticks\":\"\"}},\"type\":\"scatterpolar\"}],\"scatter\":[{\"marker\":{\"colorbar\":{\"outlinewidth\":0,\"ticks\":\"\"}},\"type\":\"scatter\"}],\"scatterternary\":[{\"marker\":{\"colorbar\":{\"outlinewidth\":0,\"ticks\":\"\"}},\"type\":\"scatterternary\"}],\"surface\":[{\"colorbar\":{\"outlinewidth\":0,\"ticks\":\"\"},\"colorscale\":[[0.0,\"#0d0887\"],[0.1111111111111111,\"#46039f\"],[0.2222222222222222,\"#7201a8\"],[0.3333333333333333,\"#9c179e\"],[0.4444444444444444,\"#bd3786\"],[0.5555555555555556,\"#d8576b\"],[0.6666666666666666,\"#ed7953\"],[0.7777777777777778,\"#fb9f3a\"],[0.8888888888888888,\"#fdca26\"],[1.0,\"#f0f921\"]],\"type\":\"surface\"}],\"table\":[{\"cells\":{\"fill\":{\"color\":\"#EBF0F8\"},\"line\":{\"color\":\"white\"}},\"header\":{\"fill\":{\"color\":\"#C8D4E3\"},\"line\":{\"color\":\"white\"}},\"type\":\"table\"}]},\"layout\":{\"annotationdefaults\":{\"arrowcolor\":\"#2a3f5f\",\"arrowhead\":0,\"arrowwidth\":1},\"autotypenumbers\":\"strict\",\"coloraxis\":{\"colorbar\":{\"outlinewidth\":0,\"ticks\":\"\"}},\"colorscale\":{\"diverging\":[[0,\"#8e0152\"],[0.1,\"#c51b7d\"],[0.2,\"#de77ae\"],[0.3,\"#f1b6da\"],[0.4,\"#fde0ef\"],[0.5,\"#f7f7f7\"],[0.6,\"#e6f5d0\"],[0.7,\"#b8e186\"],[0.8,\"#7fbc41\"],[0.9,\"#4d9221\"],[1,\"#276419\"]],\"sequential\":[[0.0,\"#0d0887\"],[0.1111111111111111,\"#46039f\"],[0.2222222222222222,\"#7201a8\"],[0.3333333333333333,\"#9c179e\"],[0.4444444444444444,\"#bd3786\"],[0.5555555555555556,\"#d8576b\"],[0.6666666666666666,\"#ed7953\"],[0.7777777777777778,\"#fb9f3a\"],[0.8888888888888888,\"#fdca26\"],[1.0,\"#f0f921\"]],\"sequentialminus\":[[0.0,\"#0d0887\"],[0.1111111111111111,\"#46039f\"],[0.2222222222222222,\"#7201a8\"],[0.3333333333333333,\"#9c179e\"],[0.4444444444444444,\"#bd3786\"],[0.5555555555555556,\"#d8576b\"],[0.6666666666666666,\"#ed7953\"],[0.7777777777777778,\"#fb9f3a\"],[0.8888888888888888,\"#fdca26\"],[1.0,\"#f0f921\"]]},\"colorway\":[\"#636efa\",\"#EF553B\",\"#00cc96\",\"#ab63fa\",\"#FFA15A\",\"#19d3f3\",\"#FF6692\",\"#B6E880\",\"#FF97FF\",\"#FECB52\"],\"font\":{\"color\":\"#2a3f5f\"},\"geo\":{\"bgcolor\":\"white\",\"lakecolor\":\"white\",\"landcolor\":\"#E5ECF6\",\"showlakes\":true,\"showland\":true,\"subunitcolor\":\"white\"},\"hoverlabel\":{\"align\":\"left\"},\"hovermode\":\"closest\",\"mapbox\":{\"style\":\"light\"},\"paper_bgcolor\":\"white\",\"plot_bgcolor\":\"#E5ECF6\",\"polar\":{\"angularaxis\":{\"gridcolor\":\"white\",\"linecolor\":\"white\",\"ticks\":\"\"},\"bgcolor\":\"#E5ECF6\",\"radialaxis\":{\"gridcolor\":\"white\",\"linecolor\":\"white\",\"ticks\":\"\"}},\"scene\":{\"xaxis\":{\"backgroundcolor\":\"#E5ECF6\",\"gridcolor\":\"white\",\"gridwidth\":2,\"linecolor\":\"white\",\"showbackground\":true,\"ticks\":\"\",\"zerolinecolor\":\"white\"},\"yaxis\":{\"backgroundcolor\":\"#E5ECF6\",\"gridcolor\":\"white\",\"gridwidth\":2,\"linecolor\":\"white\",\"showbackground\":true,\"ticks\":\"\",\"zerolinecolor\":\"white\"},\"zaxis\":{\"backgroundcolor\":\"#E5ECF6\",\"gridcolor\":\"white\",\"gridwidth\":2,\"linecolor\":\"white\",\"showbackground\":true,\"ticks\":\"\",\"zerolinecolor\":\"white\"}},\"shapedefaults\":{\"line\":{\"color\":\"#2a3f5f\"}},\"ternary\":{\"aaxis\":{\"gridcolor\":\"white\",\"linecolor\":\"white\",\"ticks\":\"\"},\"baxis\":{\"gridcolor\":\"white\",\"linecolor\":\"white\",\"ticks\":\"\"},\"bgcolor\":\"#E5ECF6\",\"caxis\":{\"gridcolor\":\"white\",\"linecolor\":\"white\",\"ticks\":\"\"}},\"title\":{\"x\":0.05},\"xaxis\":{\"automargin\":true,\"gridcolor\":\"white\",\"linecolor\":\"white\",\"ticks\":\"\",\"title\":{\"standoff\":15},\"zerolinecolor\":\"white\",\"zerolinewidth\":2},\"yaxis\":{\"automargin\":true,\"gridcolor\":\"white\",\"linecolor\":\"white\",\"ticks\":\"\",\"title\":{\"standoff\":15},\"zerolinecolor\":\"white\",\"zerolinewidth\":2}}},\"title\":{\"text\":\"Table booking\"},\"width\":600},                        {\"responsive\": true}                    ).then(function(){\n",
              "                            \n",
              "var gd = document.getElementById('5a2c7e67-b485-4aa4-a59d-85d01c48c19f');\n",
              "var x = new MutationObserver(function (mutations, observer) {{\n",
              "        var display = window.getComputedStyle(gd).display;\n",
              "        if (!display || display === 'none') {{\n",
              "            console.log([gd, 'removed!']);\n",
              "            Plotly.purge(gd);\n",
              "            observer.disconnect();\n",
              "        }}\n",
              "}});\n",
              "\n",
              "// Listen for the removal of the full notebook cells\n",
              "var notebookContainer = gd.closest('#notebook-container');\n",
              "if (notebookContainer) {{\n",
              "    x.observe(notebookContainer, {childList: true});\n",
              "}}\n",
              "\n",
              "// Listen for the clearing of the current output cell\n",
              "var outputEl = gd.closest('.output');\n",
              "if (outputEl) {{\n",
              "    x.observe(outputEl, {childList: true});\n",
              "}}\n",
              "\n",
              "                        })                };                            </script>        </div>\n",
              "</body>\n",
              "</html>"
            ]
          },
          "metadata": {}
        },
        {
          "output_type": "display_data",
          "data": {
            "text/plain": [
              "<Figure size 576x360 with 0 Axes>"
            ]
          },
          "metadata": {}
        }
      ]
    },
    {
      "cell_type": "markdown",
      "source": [
        "Insight:\n",
        "Most of the Restaurants do not offer table bookin"
      ],
      "metadata": {
        "id": "DtNoy3cgmqsA"
      }
    },
    {
      "cell_type": "markdown",
      "source": [
        "### Whether Restaurants deliver online or Not"
      ],
      "metadata": {
        "id": "QnlVEuonm6JL"
      }
    },
    {
      "cell_type": "code",
      "source": [
        "sns.countplot(df['online_order'])\n",
        "fig = plt.gcf()\n",
        "fig.set_size_inches(7,5)\n",
        "plt.title('Whether Restaurants deliver online or Not')\n",
        "plt.show()\n"
      ],
      "metadata": {
        "colab": {
          "base_uri": "https://localhost:8080/",
          "height": 350
        },
        "id": "Wtu9PBUSmOTP",
        "outputId": "ae9a600e-daf1-450f-9037-6f2d8bf6d9df"
      },
      "execution_count": 26,
      "outputs": [
        {
          "output_type": "display_data",
          "data": {
            "text/plain": [
              "<Figure size 504x360 with 1 Axes>"
            ],
            "image/png": "[encoded data removed]"
          },
          "metadata": {
            "needs_background": "light"
          }
        }
      ]
    },
    {
      "cell_type": "markdown",
      "source": [
        "Insight: Most Restaurants offer option for online order and delivery"
      ],
      "metadata": {
        "id": "OIwVh6wWnXKs"
      }
    },
    {
      "cell_type": "markdown",
      "source": [
        "### Rating Distributions"
      ],
      "metadata": {
        "id": "X2orV6Monim5"
      }
    },
    {
      "cell_type": "code",
      "source": [
        "plt.figure(figsize=(9,7))\n",
        "\n",
        "sns.distplot(df['rate'],bins=20)"
      ],
      "metadata": {
        "colab": {
          "base_uri": "https://localhost:8080/",
          "height": 459
        },
        "id": "9-6Tt2XRnECg",
        "outputId": "802753be-3ee9-4b2b-c917-d11ffbbe90a0"
      },
      "execution_count": 27,
      "outputs": [
        {
          "output_type": "execute_result",
          "data": {
            "text/plain": [
              "<matplotlib.axes._subplots.AxesSubplot at 0x7f7d47678950>"
            ]
          },
          "metadata": {},
          "execution_count": 27
        },
        {
          "output_type": "display_data",
          "data": {
            "text/plain": [
              "<Figure size 648x504 with 1 Axes>"
            ],
            "image/png": "[encoded data removed]"
          },
          "metadata": {
            "needs_background": "light"
          }
        }
      ]
    },
    {
      "cell_type": "markdown",
      "source": [
        "Insight:\n",
        "We can infer from above that most of the ratings are within 3.5 and 4.5\n",
        "\n"
      ],
      "metadata": {
        "id": "0KZfTd9Zn3-R"
      }
    },
    {
      "cell_type": "markdown",
      "source": [
        "### Count of ratings as between \"1 and 2\", \"2 and 3\", \"3 and 4\", and \"4 and 5\""
      ],
      "metadata": {
        "id": "E95pBuezoPDO"
      }
    },
    {
      "cell_type": "code",
      "source": [
        "df['rate'].unique()"
      ],
      "metadata": {
        "colab": {
          "base_uri": "https://localhost:8080/"
        },
        "id": "6vlkFFGFnsKo",
        "outputId": "e6408824-1fa4-4435-c547-d71238480e3c"
      },
      "execution_count": 28,
      "outputs": [
        {
          "output_type": "execute_result",
          "data": {
            "text/plain": [
              "array(['4.1', '3.8', '3.7', '4.6', '4.0', '4.2', '3.9', '3.0', '3.6',\n",
              "       '2.8', '4.4', '3.1', '4.3', '2.6', '3.3', '3.5', '3.8 ', '3.2',\n",
              "       '4.5', '2.5', '2.9', '3.4', '2.7', '4.7', '2.4', '2.2', '2.3',\n",
              "       '4.8', '3.9 ', '4.2 ', '4.0 ', '4.1 ', '2.9 ', '2.7 ', '2.5 ',\n",
              "       '2.6 ', '4.5 ', '4.3 ', '3.7 ', '4.4 ', '4.9', '2.1', '2.0', '1.8',\n",
              "       '3.4 ', '3.6 ', '3.3 ', '4.6 ', '4.9 ', '3.2 ', '3.0 ', '2.8 ',\n",
              "       '3.5 ', '3.1 ', '4.8 ', '2.3 ', '4.7 ', '2.4 ', '2.1 ', '2.2 ',\n",
              "       '2.0 ', '1.8 '], dtype=object)"
            ]
          },
          "metadata": {},
          "execution_count": 28
        }
      ]
    },
    {
      "cell_type": "code",
      "source": [
        "df['rate'].min()"
      ],
      "metadata": {
        "colab": {
          "base_uri": "https://localhost:8080/",
          "height": 35
        },
        "id": "GhYtLS1BoTw2",
        "outputId": "b94673ac-adf6-4acb-8e15-5b9d356974ac"
      },
      "execution_count": 29,
      "outputs": [
        {
          "output_type": "execute_result",
          "data": {
            "text/plain": [
              "'1.8'"
            ],
            "application/vnd.google.colaboratory.intrinsic+json": {
              "type": "string"
            }
          },
          "metadata": {},
          "execution_count": 29
        }
      ]
    },
    {
      "cell_type": "code",
      "source": [
        "df['rate'].max()"
      ],
      "metadata": {
        "colab": {
          "base_uri": "https://localhost:8080/",
          "height": 35
        },
        "id": "avu0L2uPodlx",
        "outputId": "b8c89458-c172-433a-dd69-fff4bb0c142e"
      },
      "execution_count": 30,
      "outputs": [
        {
          "output_type": "execute_result",
          "data": {
            "text/plain": [
              "'4.9 '"
            ],
            "application/vnd.google.colaboratory.intrinsic+json": {
              "type": "string"
            }
          },
          "metadata": {},
          "execution_count": 30
        }
      ]
    },
    {
      "cell_type": "code",
      "source": [
        "df['rate']=df['rate'].astype(float)"
      ],
      "metadata": {
        "id": "VXEw1V9togQo"
      },
      "execution_count": 31,
      "outputs": []
    },
    {
      "cell_type": "code",
      "source": [
        "((df['rate']>=1) & (df['rate']<2)).sum()"
      ],
      "metadata": {
        "colab": {
          "base_uri": "https://localhost:8080/"
        },
        "id": "n1PyQaHfopeS",
        "outputId": "bf3ca95a-0b64-4396-a6f3-e8a2bcb28069"
      },
      "execution_count": 32,
      "outputs": [
        {
          "output_type": "execute_result",
          "data": {
            "text/plain": [
              "5"
            ]
          },
          "metadata": {},
          "execution_count": 32
        }
      ]
    },
    {
      "cell_type": "code",
      "source": [
        "((df['rate']>=2) & (df['rate']<3)).sum()"
      ],
      "metadata": {
        "colab": {
          "base_uri": "https://localhost:8080/"
        },
        "id": "ekyEVyPeo3ZO",
        "outputId": "8a5f2175-23fc-4bd1-97c2-e4a7753644a5"
      },
      "execution_count": 33,
      "outputs": [
        {
          "output_type": "execute_result",
          "data": {
            "text/plain": [
              "1179"
            ]
          },
          "metadata": {},
          "execution_count": 33
        }
      ]
    },
    {
      "cell_type": "code",
      "source": [
        "((df['rate']>=3) & (df['rate']<4)).sum()"
      ],
      "metadata": {
        "colab": {
          "base_uri": "https://localhost:8080/"
        },
        "id": "Jl3jWqOwo6GB",
        "outputId": "0c6ce692-f4fe-4744-f9da-863f079fd4cd"
      },
      "execution_count": 34,
      "outputs": [
        {
          "output_type": "execute_result",
          "data": {
            "text/plain": [
              "10153"
            ]
          },
          "metadata": {},
          "execution_count": 34
        }
      ]
    },
    {
      "cell_type": "code",
      "source": [
        "(df['rate']>=4).sum()"
      ],
      "metadata": {
        "colab": {
          "base_uri": "https://localhost:8080/"
        },
        "id": "pHNeRYoapAl-",
        "outputId": "46a94a06-068d-4b21-c10f-d0d8c14e5788"
      },
      "execution_count": 35,
      "outputs": [
        {
          "output_type": "execute_result",
          "data": {
            "text/plain": [
              "11911"
            ]
          },
          "metadata": {},
          "execution_count": 35
        }
      ]
    },
    {
      "cell_type": "markdown",
      "source": [
        "### Plotting the above counts with the help of pie chart"
      ],
      "metadata": {
        "id": "7-vjdSiipMqi"
      }
    },
    {
      "cell_type": "code",
      "source": [
        "slices=[((df['rate']>=1) & (df['rate']<2)).sum(),\n",
        "        ((df['rate']>=2) & (df['rate']<3)).sum(),\n",
        "        ((df['rate']>=3) & (df['rate']<4)).sum(),\n",
        "        (df['rate']>=4).sum()\n",
        "        ]\n",
        "\n",
        "labels=['1<rate<2','2<rate<3','3<rate<4','>4']\n",
        "colors = ['#ff3333','#c2c2d6','#6699ff']\n",
        "plt.pie(slices,colors=colors, labels=labels, autopct='%1.0f%%', pctdistance=.5, labeldistance=1.2,shadow=True)\n",
        "fig = plt.gcf()\n",
        "plt.title(\"Percentage of Restaurants according to their ratings\")\n",
        "\n",
        "fig.set_size_inches(10,7)\n",
        "plt.show()\n"
      ],
      "metadata": {
        "colab": {
          "base_uri": "https://localhost:8080/",
          "height": 428
        },
        "id": "M-W3x_hJpDeB",
        "outputId": "57b932cb-3284-47d9-92d3-b17e2fb147f7"
      },
      "execution_count": 36,
      "outputs": [
        {
          "output_type": "display_data",
          "data": {
            "text/plain": [
              "<Figure size 720x504 with 1 Axes>"
            ],
            "image/png": "[encoded data removed]"
          },
          "metadata": {}
        }
      ]
    },
    {
      "cell_type": "markdown",
      "source": [
        "### Services Types"
      ],
      "metadata": {
        "id": "ULSb65jtqNr5"
      }
    },
    {
      "cell_type": "code",
      "source": [
        "sns.countplot(df['type']).set_xticklabels(sns.countplot(df['type']).get_xticklabels(), rotation=90, ha=\"right\")\n",
        "fig = plt.gcf()\n",
        "fig.set_size_inches(8,5)\n",
        "plt.title('Type of Service')\n"
      ],
      "metadata": {
        "colab": {
          "base_uri": "https://localhost:8080/",
          "height": 445
        },
        "id": "Bykb-nMzpaDP",
        "outputId": "8f724a17-10d2-4ef8-9662-12a2c570548e"
      },
      "execution_count": 37,
      "outputs": [
        {
          "output_type": "execute_result",
          "data": {
            "text/plain": [
              "Text(0.5, 1.0, 'Type of Service')"
            ]
          },
          "metadata": {},
          "execution_count": 37
        },
        {
          "output_type": "display_data",
          "data": {
            "text/plain": [
              "<Figure size 576x360 with 1 Axes>"
            ],
            "image/png": "[encoded data removed]"
          },
          "metadata": {
            "needs_background": "light"
          }
        }
      ]
    },
    {
      "cell_type": "markdown",
      "source": [
        "Here the two main service types are Delivery and Dine-out\n",
        "\n"
      ],
      "metadata": {
        "id": "pQic8Gfzqu-z"
      }
    },
    {
      "cell_type": "markdown",
      "source": [
        "### Distribution of Cost of Food for two People"
      ],
      "metadata": {
        "id": "ALnnzLwzrE0p"
      }
    },
    {
      "cell_type": "code",
      "source": [
        "from plotly.offline import iplot"
      ],
      "metadata": {
        "id": "lzcz9NRAqVsG"
      },
      "execution_count": 38,
      "outputs": []
    },
    {
      "cell_type": "code",
      "source": [
        "trace0=go.Box(y=df['cost'],name=\"accepting online orders\",\n",
        "              marker = dict(\n",
        "        color = 'rgb(113, 10, 100)',\n",
        "    ))\n",
        "data=[trace0]\n",
        "layout=go.Layout(title=\"Box plot of approximate cost\",width=700,height=600,yaxis=dict(title=\"Price\"))\n",
        "fig=go.Figure(data=data,layout=layout)\n",
        "py.iplot(fig)\n"
      ],
      "metadata": {
        "colab": {
          "base_uri": "https://localhost:8080/",
          "height": 617
        },
        "id": "Ob4BTtgFrI7F",
        "outputId": "61ce5182-2607-4a47-c859-21bde20ffea0"
      },
      "execution_count": 39,
      "outputs": [
        {
          "output_type": "display_data",
          "data": {
            "text/html": [
              "<html>\n",
              "<head><meta charset=\"utf-8\" /></head>\n",
              "<body>\n",
              "    <div>            <script src=\"https://cdnjs.cloudflare.com/ajax/libs/mathjax/2.7.5/MathJax.js?config=TeX-AMS-MML_SVG\"></script><script type=\"text/javascript\">if (window.MathJax) {MathJax.Hub.Config({SVG: {font: \"STIX-Web\"}});}</script>                <script type=\"text/javascript\">window.PlotlyConfig = {MathJaxConfig: 'local'};</script>\n",
              "        <script src=\"https://cdn.plot.ly/plotly-2.8.3.min.js\"></script>                <div id=\"0dc19cc3-1047-4fa2-9feb-ced1ca339d49\" class=\"plotly-graph-div\" style=\"height:600px; width:700px;\"></div>            <script type=\"text/javascript\">                                    window.PLOTLYENV=window.PLOTLYENV || {};                                    if (document.getElementById(\"0dc19cc3-1047-4fa2-9feb-ced1ca339d49\")) {                    Plotly.newPlot(                        \"0dc19cc3-1047-4fa2-9feb-ced1ca339d49\",                        [{\"marker\":{\"color\":\"rgb(113, 10, 100)\"},\"name\":\"accepting online orders\",\"y\":[800.0,800.0,800.0,300.0,600.0,600.0,600.0,700.0,550.0,500.0,600.0,500.0,450.0,800.0,650.0,800.0,700.0,300.0,400.0,500.0,600.0,550.0,600.0,500.0,750.0,500.0,650.0,600.0,750.0,200.0,500.0,800.0,600.0,400.0,300.0,450.0,850.0,300.0,400.0,750.0,450.0,450.0,800.0,800.0,800.0,850.0,400.0,1200.0,300.0,300.0,150.0,350.0,400.0,600.0,600.0,800.0,300.0,400.0,300.0,200.0,400.0,300.0,450.0,800.0,500.0,650.0,400.0,500.0,450.0,500.0,750.0,350.0,800.0,400.0,1200.0,150.0,300.0,500.0,450.0,200.0,250.0,650.0,300.0,700.0,150.0,400.0,200.0,300.0,350.0,500.0,750.0,550.0,200.0,400.0,750.0,650.0,500.0,250.0,150.0,500.0,1500.0,300.0,800.0,700.0,700.0,550.0,1300.0,500.0,700.0,1000.0,750.0,250.0,200.0,600.0,650.0,550.0,450.0,450.0,150.0,700.0,600.0,200.0,400.0,300.0,600.0,700.0,750.0,200.0,600.0,200.0,600.0,550.0,200.0,650.0,500.0,1200.0,650.0,600.0,100.0,850.0,400.0,450.0,300.0,500.0,100.0,400.0,900.0,550.0,800.0,250.0,1200.0,400.0,500.0,700.0,400.0,400.0,800.0,800.0,200.0,600.0,900.0,800.0,400.0,400.0,300.0,650.0,600.0,650.0,100.0,700.0,700.0,350.0,300.0,600.0,400.0,600.0,400.0,800.0,400.0,650.0,150.0,1200.0,250.0,400.0,700.0,1200.0,200.0,800.0,500.0,200.0,800.0,600.0,900.0,400.0,250.0,300.0,400.0,350.0,600.0,100.0,450.0,400.0,100.0,150.0,400.0,250.0,100.0,600.0,200.0,750.0,800.0,1000.0,600.0,750.0,800.0,800.0,800.0,450.0,1000.0,700.0,800.0,600.0,1500.0,300.0,300.0,200.0,400.0,700.0,300.0,550.0,750.0,500.0,500.0,500.0,400.0,150.0,150.0,400.0,800.0,700.0,500.0,400.0,400.0,400.0,600.0,300.0,400.0,750.0,1200.0,350.0,600.0,800.0,800.0,800.0,1300.0,1200.0,700.0,800.0,550.0,500.0,600.0,500.0,800.0,450.0,600.0,850.0,450.0,800.0,800.0,650.0,900.0,700.0,800.0,700.0,300.0,300.0,500.0,400.0,700.0,600.0,800.0,600.0,750.0,600.0,150.0,800.0,850.0,800.0,400.0,750.0,650.0,100.0,200.0,450.0,450.0,200.0,500.0,100.0,500.0,100.0,200.0,300.0,500.0,300.0,300.0,600.0,250.0,300.0,350.0,800.0,250.0,350.0,600.0,500.0,300.0,100.0,300.0,300.0,450.0,200.0,200.0,250.0,400.0,250.0,300.0,400.0,350.0,500.0,600.0,150.0,350.0,750.0,550.0,600.0,500.0,150.0,150.0,550.0,1100.0,450.0,300.0,100.0,650.0,600.0,250.0,600.0,400.0,800.0,750.0,600.0,800.0,200.0,300.0,100.0,150.0,100.0,200.0,300.0,700.0,300.0,300.0,450.0,700.0,200.0,250.0,200.0,150.0,300.0,1300.0,1200.0,800.0,800.0,1100.0,900.0,1000.0,750.0,550.0,1600.0,1200.0,800.0,1000.0,1000.0,1000.0,1000.0,950.0,600.0,700.0,450.0,300.0,400.0,400.0,500.0,600.0,700.0,350.0,650.0,600.0,600.0,800.0,550.0,650.0,600.0,400.0,450.0,550.0,700.0,500.0,500.0,800.0,800.0,300.0,400.0,250.0,400.0,300.0,300.0,500.0,400.0,150.0,500.0,300.0,700.0,400.0,400.0,450.0,300.0,250.0,600.0,250.0,400.0,200.0,350.0,300.0,450.0,400.0,350.0,300.0,400.0,1000.0,650.0,550.0,600.0,300.0,750.0,600.0,400.0,300.0,400.0,600.0,800.0,500.0,800.0,800.0,300.0,700.0,400.0,700.0,600.0,300.0,400.0,600.0,300.0,400.0,750.0,650.0,700.0,300.0,500.0,250.0,200.0,550.0,1000.0,900.0,700.0,650.0,500.0,900.0,600.0,1000.0,800.0,250.0,500.0,400.0,450.0,250.0,400.0,300.0,400.0,400.0,400.0,600.0,1200.0,400.0,1000.0,800.0,600.0,700.0,650.0,500.0,300.0,600.0,800.0,600.0,400.0,700.0,300.0,500.0,200.0,400.0,500.0,500.0,600.0,250.0,200.0,300.0,400.0,300.0,600.0,500.0,450.0,1500.0,750.0,600.0,1200.0,300.0,600.0,1000.0,1600.0,400.0,600.0,500.0,500.0,400.0,400.0,600.0,700.0,400.0,500.0,600.0,800.0,600.0,750.0,500.0,300.0,800.0,350.0,1000.0,250.0,400.0,500.0,250.0,400.0,650.0,600.0,800.0,450.0,450.0,600.0,600.0,750.0,350.0,1100.0,600.0,550.0,230.0,250.0,400.0,1000.0,600.0,500.0,1200.0,500.0,300.0,500.0,450.0,800.0,250.0,750.0,300.0,500.0,500.0,100.0,600.0,700.0,500.0,600.0,1200.0,400.0,400.0,500.0,400.0,800.0,300.0,1000.0,350.0,150.0,250.0,500.0,200.0,400.0,400.0,300.0,1300.0,400.0,800.0,600.0,250.0,400.0,150.0,700.0,1100.0,400.0,800.0,600.0,500.0,600.0,400.0,350.0,1300.0,300.0,400.0,400.0,400.0,1100.0,650.0,300.0,250.0,500.0,750.0,650.0,400.0,650.0,700.0,800.0,500.0,600.0,550.0,1000.0,550.0,500.0,700.0,1100.0,500.0,350.0,500.0,450.0,650.0,650.0,1000.0,450.0,800.0,450.0,250.0,800.0,250.0,500.0,300.0,750.0,500.0,500.0,800.0,450.0,250.0,250.0,1700.0,200.0,600.0,400.0,150.0,150.0,900.0,600.0,1200.0,1200.0,1200.0,550.0,400.0,600.0,500.0,700.0,350.0,400.0,250.0,500.0,1000.0,200.0,500.0,600.0,500.0,750.0,500.0,400.0,800.0,800.0,500.0,400.0,200.0,500.0,400.0,150.0,400.0,400.0,250.0,450.0,350.0,400.0,300.0,500.0,400.0,400.0,800.0,700.0,500.0,200.0,700.0,600.0,300.0,500.0,500.0,550.0,500.0,400.0,600.0,800.0,500.0,550.0,1000.0,800.0,700.0,800.0,700.0,650.0,1000.0,700.0,700.0,800.0,400.0,450.0,800.0,300.0,400.0,900.0,500.0,500.0,600.0,550.0,400.0,500.0,500.0,850.0,450.0,700.0,400.0,400.0,600.0,500.0,450.0,1000.0,600.0,650.0,600.0,800.0,500.0,800.0,750.0,500.0,400.0,250.0,300.0,1000.0,250.0,800.0,400.0,400.0,500.0,400.0,400.0,600.0,500.0,600.0,800.0,400.0,400.0,600.0,400.0,150.0,300.0,400.0,250.0,400.0,350.0,400.0,600.0,600.0,400.0,500.0,300.0,500.0,200.0,250.0,750.0,600.0,200.0,650.0,250.0,1100.0,350.0,400.0,250.0,250.0,300.0,400.0,600.0,300.0,800.0,250.0,1200.0,1600.0,1200.0,1600.0,1500.0,1300.0,1200.0,800.0,1300.0,1000.0,400.0,1200.0,750.0,1100.0,700.0,1200.0,550.0,1300.0,1000.0,1100.0,1200.0,1300.0,600.0,1000.0,750.0,1000.0,500.0,600.0,700.0,750.0,700.0,300.0,500.0,350.0,400.0,950.0,400.0,450.0,800.0,450.0,550.0,600.0,600.0,500.0,400.0,1000.0,1100.0,400.0,1000.0,500.0,450.0,950.0,600.0,600.0,550.0,450.0,750.0,750.0,800.0,800.0,650.0,700.0,400.0,300.0,200.0,600.0,350.0,800.0,300.0,1500.0,500.0,600.0,500.0,400.0,600.0,550.0,300.0,250.0,400.0,300.0,500.0,400.0,500.0,400.0,300.0,650.0,250.0,900.0,1200.0,1700.0,800.0,1200.0,1600.0,1300.0,1200.0,1200.0,1300.0,1100.0,1100.0,1500.0,1000.0,600.0,600.0,950.0,1500.0,750.0,800.0,800.0,1000.0,550.0,1350.0,1200.0,800.0,800.0,600.0,700.0,550.0,600.0,500.0,600.0,400.0,800.0,500.0,400.0,800.0,800.0,850.0,700.0,600.0,800.0,700.0,400.0,550.0,650.0,700.0,800.0,650.0,700.0,400.0,150.0,650.0,550.0,650.0,450.0,400.0,500.0,450.0,500.0,400.0,750.0,450.0,500.0,200.0,450.0,300.0,800.0,250.0,650.0,600.0,200.0,500.0,200.0,800.0,400.0,300.0,550.0,400.0,150.0,300.0,300.0,100.0,300.0,800.0,750.0,500.0,300.0,500.0,600.0,400.0,400.0,650.0,100.0,200.0,500.0,400.0,800.0,750.0,600.0,750.0,650.0,200.0,250.0,500.0,350.0,500.0,650.0,600.0,1200.0,100.0,250.0,200.0,400.0,400.0,550.0,400.0,400.0,400.0,600.0,800.0,200.0,350.0,250.0,1200.0,800.0,200.0,900.0,400.0,900.0,800.0,150.0,200.0,150.0,300.0,1600.0,500.0,650.0,800.0,500.0,300.0,500.0,350.0,300.0,250.0,500.0,500.0,200.0,500.0,800.0,1200.0,800.0,500.0,500.0,400.0,400.0,600.0,350.0,250.0,200.0,200.0,1000.0,800.0,500.0,800.0,400.0,800.0,450.0,700.0,700.0,800.0,300.0,300.0,250.0,150.0,650.0,600.0,700.0,700.0,400.0,600.0,450.0,400.0,300.0,1000.0,300.0,600.0,600.0,400.0,600.0,150.0,300.0,1300.0,200.0,800.0,600.0,1200.0,600.0,700.0,800.0,100.0,200.0,900.0,100.0,700.0,300.0,350.0,450.0,400.0,800.0,400.0,700.0,300.0,1500.0,800.0,600.0,1000.0,700.0,450.0,400.0,400.0,600.0,400.0,300.0,900.0,800.0,650.0,650.0,1200.0,300.0,200.0,200.0,750.0,400.0,650.0,500.0,400.0,100.0,400.0,450.0,900.0,400.0,1100.0,400.0,350.0,400.0,500.0,400.0,700.0,750.0,550.0,650.0,200.0,300.0,550.0,300.0,1000.0,700.0,900.0,600.0,1000.0,500.0,250.0,750.0,400.0,700.0,800.0,300.0,750.0,600.0,500.0,200.0,600.0,1200.0,600.0,1200.0,800.0,1000.0,150.0,800.0,800.0,500.0,450.0,1700.0,400.0,400.0,300.0,450.0,100.0,400.0,150.0,700.0,800.0,800.0,1200.0,750.0,100.0,400.0,900.0,700.0,150.0,1500.0,1200.0,400.0,300.0,800.0,900.0,200.0,1000.0,600.0,1000.0,300.0,1000.0,100.0,800.0,700.0,800.0,650.0,1350.0,550.0,600.0,950.0,650.0,600.0,400.0,1350.0,300.0,850.0,1200.0,1000.0,550.0,200.0,600.0,600.0,650.0,1200.0,1000.0,800.0,300.0,200.0,600.0,1200.0,800.0,400.0,800.0,800.0,450.0,200.0,800.0,300.0,350.0,150.0,550.0,400.0,300.0,400.0,400.0,500.0,400.0,750.0,500.0,150.0,400.0,400.0,400.0,400.0,300.0,600.0,400.0,500.0,400.0,400.0,800.0,400.0,200.0,200.0,150.0,800.0,250.0,150.0,400.0,200.0,400.0,500.0,350.0,500.0,700.0,500.0,400.0,400.0,800.0,300.0,400.0,150.0,700.0,300.0,200.0,400.0,400.0,300.0,500.0,1000.0,750.0,600.0,350.0,600.0,1000.0,750.0,700.0,500.0,550.0,1100.0,550.0,600.0,450.0,650.0,800.0,600.0,2200.0,500.0,600.0,600.0,400.0,800.0,650.0,400.0,450.0,600.0,700.0,600.0,300.0,250.0,150.0,100.0,150.0,400.0,150.0,500.0,100.0,400.0,300.0,500.0,250.0,100.0,200.0,100.0,600.0,200.0,300.0,300.0,400.0,150.0,250.0,200.0,500.0,300.0,100.0,750.0,400.0,300.0,500.0,150.0,150.0,200.0,600.0,200.0,200.0,300.0,150.0,600.0,600.0,1000.0,600.0,1200.0,950.0,800.0,1500.0,1000.0,800.0,700.0,1300.0,350.0,800.0,700.0,500.0,1000.0,1500.0,400.0,350.0,750.0,800.0,900.0,600.0,750.0,800.0,1200.0,800.0,800.0,1200.0,600.0,650.0,800.0,800.0,400.0,1200.0,250.0,800.0,450.0,700.0,1200.0,850.0,700.0,1300.0,600.0,800.0,650.0,700.0,400.0,550.0,1000.0,600.0,650.0,900.0,400.0,800.0,800.0,200.0,700.0,350.0,900.0,800.0,800.0,750.0,1200.0,800.0,700.0,450.0,150.0,650.0,500.0,550.0,1350.0,450.0,800.0,600.0,400.0,200.0,100.0,400.0,700.0,750.0,1000.0,400.0,900.0,500.0,100.0,400.0,400.0,1000.0,550.0,550.0,500.0,300.0,700.0,500.0,100.0,1000.0,400.0,1350.0,650.0,250.0,250.0,250.0,300.0,400.0,350.0,250.0,1200.0,650.0,450.0,150.0,450.0,700.0,800.0,300.0,250.0,400.0,200.0,350.0,500.0,150.0,600.0,350.0,100.0,300.0,650.0,800.0,850.0,250.0,300.0,300.0,800.0,300.0,400.0,850.0,1000.0,1100.0,2200.0,1500.0,1200.0,1200.0,1300.0,1350.0,1000.0,800.0,1500.0,1400.0,2000.0,1000.0,1400.0,1800.0,1200.0,1500.0,1500.0,1100.0,1500.0,1000.0,700.0,800.0,2000.0,1500.0,1400.0,1300.0,1600.0,1300.0,1000.0,1500.0,1100.0,1500.0,1300.0,500.0,700.0,1900.0,400.0,600.0,900.0,600.0,500.0,550.0,1000.0,500.0,600.0,800.0,700.0,500.0,400.0,650.0,500.0,450.0,200.0,450.0,400.0,400.0,400.0,300.0,300.0,400.0,500.0,300.0,400.0,200.0,600.0,700.0,600.0,500.0,800.0,900.0,750.0,550.0,400.0,400.0,800.0,400.0,400.0,300.0,300.0,550.0,600.0,250.0,600.0,300.0,400.0,300.0,600.0,750.0,650.0,750.0,450.0,450.0,600.0,400.0,950.0,400.0,650.0,400.0,500.0,200.0,450.0,400.0,500.0,600.0,800.0,500.0,450.0,300.0,800.0,600.0,600.0,1200.0,800.0,500.0,150.0,500.0,1500.0,1400.0,300.0,600.0,600.0,1200.0,500.0,800.0,400.0,800.0,1300.0,1600.0,700.0,1800.0,500.0,300.0,400.0,400.0,800.0,1100.0,400.0,600.0,600.0,1500.0,800.0,750.0,600.0,350.0,300.0,550.0,900.0,300.0,400.0,250.0,100.0,1500.0,800.0,600.0,500.0,1800.0,1000.0,500.0,250.0,400.0,850.0,500.0,1800.0,500.0,450.0,1200.0,600.0,700.0,1000.0,200.0,600.0,400.0,1100.0,500.0,900.0,150.0,250.0,1500.0,200.0,450.0,1000.0,450.0,1000.0,500.0,250.0,500.0,450.0,750.0,800.0,750.0,500.0,1400.0,600.0,600.0,300.0,500.0,200.0,500.0,400.0,250.0,900.0,1000.0,200.0,700.0,500.0,1200.0,600.0,200.0,400.0,1100.0,350.0,400.0,350.0,1200.0,450.0,600.0,600.0,1500.0,1700.0,400.0,250.0,400.0,600.0,1200.0,800.0,1400.0,650.0,180.0,400.0,650.0,300.0,300.0,400.0,1400.0,200.0,300.0,800.0,800.0,150.0,1700.0,500.0,500.0,1000.0,300.0,500.0,1300.0,1300.0,750.0,600.0,200.0,400.0,750.0,600.0,750.0,400.0,400.0,700.0,600.0,800.0,1500.0,500.0,330.0,250.0,550.0,600.0,1400.0,800.0,600.0,800.0,550.0,200.0,500.0,700.0,700.0,300.0,500.0,500.0,500.0,450.0,400.0,800.0,500.0,800.0,400.0,550.0,550.0,150.0,450.0,500.0,650.0,300.0,750.0,1500.0,600.0,300.0,300.0,100.0,150.0,400.0,1000.0,600.0,700.0,250.0,800.0,300.0,600.0,500.0,300.0,400.0,500.0,200.0,500.0,400.0,250.0,600.0,500.0,600.0,600.0,900.0,300.0,600.0,500.0,400.0,750.0,150.0,700.0,300.0,300.0,350.0,500.0,2000.0,1500.0,1100.0,1000.0,1800.0,1700.0,1800.0,1400.0,750.0,1200.0,800.0,1800.0,1200.0,950.0,600.0,400.0,700.0,600.0,750.0,1500.0,500.0,1500.0,1200.0,400.0,600.0,900.0,400.0,800.0,500.0,650.0,500.0,1500.0,800.0,1600.0,1400.0,600.0,500.0,800.0,550.0,500.0,1000.0,400.0,600.0,800.0,900.0,700.0,400.0,500.0,450.0,800.0,550.0,550.0,750.0,2000.0,400.0,550.0,1000.0,800.0,450.0,300.0,500.0,300.0,400.0,250.0,500.0,600.0,300.0,400.0,200.0,500.0,450.0,250.0,350.0,200.0,330.0,200.0,400.0,600.0,250.0,200.0,500.0,400.0,800.0,400.0,450.0,400.0,1500.0,1600.0,1400.0,1400.0,1500.0,1900.0,1300.0,1500.0,1500.0,1600.0,1400.0,1300.0,1000.0,1500.0,1400.0,1100.0,1500.0,1300.0,2000.0,2000.0,2500.0,600.0,700.0,700.0,800.0,500.0,500.0,850.0,800.0,1200.0,900.0,800.0,1000.0,550.0,800.0,300.0,750.0,600.0,600.0,150.0,700.0,400.0,500.0,700.0,150.0,600.0,600.0,250.0,2500.0,500.0,250.0,300.0,200.0,1900.0,400.0,550.0,250.0,600.0,400.0,400.0,400.0,500.0,300.0,800.0,300.0,1300.0,1600.0,1400.0,1000.0,1700.0,1500.0,1500.0,1400.0,2000.0,1600.0,1400.0,1500.0,1900.0,1500.0,1900.0,1500.0,1200.0,2500.0,1600.0,1400.0,1400.0,1700.0,1800.0,1500.0,1100.0,1500.0,1400.0,1400.0,1500.0,1900.0,1500.0,1500.0,1500.0,1200.0,1500.0,1200.0,1500.0,800.0,650.0,1000.0,1800.0,2200.0,2100.0,3000.0,1200.0,2800.0,1700.0,1400.0,1600.0,2500.0,750.0,3000.0,1500.0,500.0,1000.0,1500.0,3400.0,2000.0,1200.0,1700.0,1200.0,1600.0,2000.0,1300.0,2200.0,1300.0,1600.0,3000.0,1000.0,1200.0,1000.0,1400.0,1900.0,800.0,1000.0,500.0,1200.0,650.0,1300.0,1700.0,1800.0,1600.0,1100.0,750.0,1200.0,500.0,650.0,800.0,350.0,1100.0,800.0,900.0,1700.0,1000.0,600.0,600.0,2500.0,650.0,1400.0,750.0,400.0,900.0,700.0,700.0,500.0,700.0,800.0,800.0,750.0,650.0,750.0,500.0,1000.0,1000.0,400.0,1200.0,500.0,500.0,600.0,800.0,1000.0,500.0,600.0,700.0,900.0,1300.0,750.0,1000.0,750.0,300.0,300.0,300.0,500.0,450.0,150.0,600.0,800.0,550.0,350.0,250.0,500.0,500.0,350.0,500.0,650.0,500.0,600.0,650.0,400.0,250.0,750.0,200.0,750.0,400.0,1200.0,400.0,200.0,750.0,400.0,450.0,400.0,800.0,250.0,800.0,500.0,750.0,400.0,650.0,400.0,750.0,650.0,1300.0,1600.0,1200.0,1200.0,500.0,300.0,600.0,450.0,750.0,1300.0,600.0,350.0,600.0,500.0,500.0,700.0,1500.0,400.0,400.0,800.0,900.0,400.0,400.0,1600.0,800.0,300.0,400.0,1300.0,350.0,400.0,500.0,900.0,1600.0,250.0,1100.0,400.0,700.0,700.0,650.0,700.0,700.0,500.0,300.0,400.0,300.0,400.0,100.0,400.0,250.0,350.0,800.0,400.0,600.0,3000.0,700.0,500.0,700.0,1500.0,450.0,700.0,300.0,400.0,500.0,500.0,800.0,40.0,180.0,300.0,150.0,750.0,400.0,500.0,200.0,750.0,150.0,1300.0,1300.0,600.0,150.0,850.0,500.0,1000.0,1000.0,700.0,700.0,1000.0,300.0,800.0,950.0,300.0,900.0,800.0,500.0,1000.0,500.0,300.0,1400.0,1300.0,1500.0,500.0,550.0,600.0,750.0,550.0,2000.0,550.0,1000.0,700.0,600.0,250.0,1400.0,1500.0,200.0,700.0,400.0,400.0,600.0,400.0,200.0,450.0,450.0,500.0,500.0,500.0,1000.0,700.0,300.0,700.0,350.0,450.0,250.0,200.0,400.0,400.0,2000.0,400.0,400.0,700.0,600.0,750.0,700.0,300.0,700.0,1200.0,400.0,800.0,200.0,600.0,1000.0,500.0,700.0,1500.0,600.0,550.0,300.0,500.0,650.0,800.0,650.0,500.0,500.0,650.0,2000.0,300.0,600.0,750.0,650.0,1000.0,700.0,200.0,800.0,800.0,300.0,700.0,600.0,550.0,1000.0,1500.0,150.0,400.0,500.0,1200.0,700.0,750.0,1200.0,800.0,900.0,650.0,800.0,1700.0,1700.0,800.0,1900.0,1300.0,300.0,2100.0,600.0,1000.0,1700.0,2100.0,1500.0,500.0,1700.0,1100.0,1400.0,650.0,800.0,450.0,1000.0,600.0,600.0,700.0,1000.0,2000.0,750.0,1000.0,1400.0,1500.0,1200.0,850.0,1500.0,850.0,1000.0,600.0,1200.0,300.0,1000.0,1400.0,1400.0,1800.0,400.0,1400.0,350.0,800.0,300.0,1800.0,500.0,1300.0,800.0,2100.0,400.0,550.0,800.0,1000.0,300.0,800.0,550.0,600.0,1000.0,500.0,1300.0,1000.0,1200.0,1300.0,300.0,550.0,250.0,500.0,700.0,1200.0,1000.0,1200.0,1000.0,1500.0,550.0,800.0,900.0,1700.0,1400.0,550.0,400.0,750.0,400.0,900.0,500.0,800.0,500.0,800.0,400.0,800.0,150.0,750.0,600.0,1200.0,500.0,400.0,500.0,800.0,1100.0,500.0,150.0,300.0,350.0,100.0,300.0,250.0,300.0,550.0,500.0,600.0,1600.0,1800.0,1600.0,550.0,400.0,450.0,250.0,450.0,180.0,400.0,200.0,300.0,800.0,800.0,2000.0,1000.0,600.0,400.0,1250.0,1400.0,300.0,150.0,700.0,700.0,500.0,300.0,400.0,400.0,2000.0,700.0,1000.0,500.0,400.0,300.0,350.0,400.0,300.0,800.0,400.0,400.0,300.0,150.0,900.0,150.0,250.0,400.0,400.0,150.0,300.0,300.0,500.0,350.0,600.0,900.0,1300.0,200.0,750.0,300.0,700.0,1300.0,1100.0,2000.0,1500.0,1500.0,2000.0,750.0,1500.0,1500.0,1600.0,1500.0,1200.0,800.0,1100.0,1100.0,2000.0,500.0,750.0,1500.0,800.0,700.0,650.0,650.0,350.0,400.0,650.0,700.0,500.0,1300.0,1000.0,600.0,500.0,500.0,800.0,800.0,550.0,450.0,250.0,300.0,400.0,600.0,500.0,300.0,450.0,600.0,1700.0,1500.0,1800.0,1500.0,1500.0,2500.0,3000.0,2200.0,3000.0,800.0,2800.0,550.0,1100.0,2100.0,1500.0,3000.0,2500.0,3500.0,1700.0,1700.0,1500.0,1200.0,1200.0,1300.0,1500.0,1300.0,2800.0,2100.0,1200.0,800.0,1600.0,1700.0,1600.0,3000.0,1000.0,1500.0,800.0,2000.0,1500.0,700.0,1500.0,2500.0,1000.0,2100.0,1900.0,1700.0,2000.0,2200.0,1400.0,1500.0,600.0,800.0,900.0,1200.0,1700.0,2500.0,1600.0,1300.0,1400.0,1000.0,1000.0,600.0,2500.0,1400.0,200.0,1500.0,4000.0,550.0,3000.0,1500.0,3000.0,500.0,1000.0,1100.0,650.0,1200.0,2500.0,1500.0,2000.0,1500.0,1000.0,1400.0,1500.0,1100.0,600.0,1300.0,1000.0,1300.0,650.0,850.0,750.0,1800.0,500.0,1800.0,1000.0,1000.0,1200.0,3400.0,750.0,1800.0,2000.0,3000.0,1000.0,1400.0,3500.0,400.0,900.0,1200.0,800.0,1500.0,1200.0,4000.0,500.0,700.0,1300.0,4000.0,1200.0,1000.0,1200.0,1000.0,700.0,1700.0,2000.0,1200.0,1600.0,800.0,2000.0,3000.0,2000.0,2000.0,3500.0,1200.0,1000.0,700.0,1300.0,800.0,1000.0,500.0,750.0,800.0,1800.0,800.0,2800.0,800.0,1000.0,500.0,3000.0,750.0,800.0,2000.0,2200.0,650.0,1800.0,950.0,750.0,3000.0,1000.0,1500.0,500.0,400.0,550.0,1000.0,600.0,700.0,2000.0,550.0,1200.0,1000.0,300.0,1300.0,500.0,1000.0,500.0,1600.0,500.0,3000.0,1000.0,450.0,1000.0,400.0,650.0,550.0,1200.0,1200.0,1000.0,1000.0,2000.0,1500.0,400.0,300.0,1200.0,3000.0,500.0,500.0,1800.0,2500.0,800.0,2500.0,700.0,1400.0,600.0,600.0,800.0,550.0,850.0,2400.0,500.0,1400.0,1900.0,800.0,1000.0,1200.0,1500.0,250.0,600.0,700.0,500.0,3000.0,500.0,800.0,600.0,800.0,1200.0,550.0,800.0,800.0,1200.0,800.0,600.0,350.0,2000.0,700.0,600.0,2500.0,900.0,600.0,1000.0,600.0,400.0,250.0,700.0,400.0,300.0,500.0,200.0,150.0,150.0,150.0,500.0,300.0,500.0,300.0,300.0,150.0,300.0,250.0,500.0,150.0,300.0,400.0,250.0,350.0,800.0,200.0,400.0,350.0,400.0,500.0,500.0,200.0,400.0,500.0,350.0,250.0,400.0,500.0,250.0,300.0,300.0,300.0,300.0,100.0,500.0,1300.0,1100.0,1300.0,750.0,1300.0,1700.0,600.0,1000.0,750.0,550.0,850.0,200.0,700.0,700.0,750.0,1800.0,1600.0,400.0,300.0,150.0,400.0,400.0,1100.0,600.0,300.0,1300.0,2000.0,1200.0,2000.0,1500.0,1500.0,1500.0,1600.0,1100.0,1100.0,2000.0,1500.0,1700.0,1500.0,2500.0,3000.0,3000.0,1500.0,2500.0,1700.0,1700.0,1200.0,1300.0,1300.0,1700.0,1500.0,2000.0,1500.0,2500.0,1900.0,1300.0,1000.0,3000.0,1100.0,1200.0,1000.0,1400.0,1100.0,1000.0,1000.0,1200.0,1200.0,1500.0,1000.0,2000.0,1200.0,2800.0,3000.0,1500.0,600.0,1000.0,1000.0,1000.0,2000.0,1500.0,3000.0,1200.0,2500.0,2400.0,1400.0,1200.0,1500.0,1300.0,1300.0,800.0,700.0,350.0,150.0,200.0,200.0,400.0,500.0,250.0,1200.0,1300.0,2100.0,1700.0,1500.0,2500.0,1900.0,1700.0,1000.0,1000.0,1100.0,1200.0,1000.0,1400.0,1100.0,1300.0,1000.0,1000.0,1000.0,1200.0,1500.0,4000.0,1200.0,1000.0,1700.0,2000.0,2000.0,3500.0,1200.0,1300.0,1800.0,1000.0,1800.0,1500.0,600.0,1000.0,1000.0,1200.0,1000.0,3000.0,1200.0,1800.0,1400.0,1200.0,1500.0,800.0,1300.0,600.0,700.0,750.0,1600.0,1400.0,1100.0,1000.0,1800.0,1700.0,1500.0,1200.0,2500.0,1000.0,1500.0,2000.0,800.0,1500.0,2000.0,1900.0,1200.0,1200.0,1200.0,600.0,1100.0,400.0,600.0,300.0,600.0,500.0,500.0,650.0,900.0,600.0,900.0,1400.0,2000.0,1000.0,700.0,600.0,300.0,400.0,700.0,400.0,700.0,600.0,450.0,450.0,250.0,500.0,400.0,400.0,700.0,300.0,850.0,500.0,500.0,650.0,600.0,400.0,400.0,500.0,400.0,600.0,800.0,400.0,300.0,450.0,1000.0,800.0,800.0,500.0,500.0,300.0,350.0,500.0,400.0,400.0,300.0,300.0,700.0,150.0,600.0,500.0,250.0,650.0,250.0,750.0,800.0,500.0,350.0,500.0,500.0,400.0,500.0,350.0,400.0,1400.0,700.0,300.0,600.0,450.0,600.0,600.0,300.0,300.0,550.0,750.0,300.0,800.0,400.0,200.0,300.0,500.0,450.0,450.0,400.0,200.0,400.0,800.0,600.0,400.0,300.0,400.0,650.0,450.0,400.0,400.0,750.0,650.0,150.0,800.0,200.0,300.0,450.0,600.0,350.0,400.0,300.0,550.0,1400.0,300.0,300.0,1300.0,250.0,500.0,800.0,600.0,400.0,600.0,750.0,1000.0,600.0,1000.0,300.0,300.0,400.0,400.0,700.0,700.0,700.0,400.0,650.0,1400.0,900.0,350.0,750.0,900.0,400.0,750.0,900.0,500.0,600.0,500.0,750.0,800.0,600.0,300.0,1500.0,450.0,800.0,550.0,500.0,400.0,550.0,700.0,1000.0,450.0,250.0,500.0,2000.0,1000.0,1200.0,300.0,600.0,600.0,400.0,800.0,700.0,900.0,1000.0,350.0,800.0,300.0,2000.0,450.0,350.0,200.0,250.0,400.0,550.0,1100.0,250.0,400.0,1500.0,800.0,400.0,600.0,1500.0,500.0,800.0,1500.0,200.0,400.0,300.0,600.0,600.0,200.0,1100.0,500.0,600.0,300.0,800.0,900.0,1500.0,800.0,600.0,1100.0,200.0,200.0,350.0,500.0,400.0,450.0,1200.0,1000.0,700.0,700.0,650.0,500.0,300.0,600.0,400.0,400.0,350.0,1100.0,400.0,250.0,800.0,750.0,400.0,450.0,300.0,300.0,600.0,650.0,600.0,800.0,700.0,250.0,500.0,1000.0,350.0,700.0,200.0,400.0,350.0,500.0,800.0,2000.0,350.0,600.0,700.0,800.0,300.0,550.0,400.0,550.0,400.0,750.0,150.0,700.0,300.0,600.0,600.0,500.0,1000.0,250.0,1000.0,1100.0,300.0,1200.0,500.0,600.0,450.0,300.0,400.0,800.0,400.0,800.0,500.0,300.0,300.0,800.0,200.0,800.0,900.0,600.0,1600.0,800.0,650.0,750.0,500.0,750.0,750.0,500.0,500.0,350.0,1000.0,1200.0,550.0,200.0,750.0,900.0,400.0,700.0,550.0,500.0,500.0,700.0,200.0,200.0,250.0,800.0,1000.0,600.0,1500.0,150.0,750.0,150.0,500.0,450.0,400.0,300.0,900.0,1000.0,500.0,850.0,800.0,500.0,250.0,400.0,1000.0,1000.0,1100.0,700.0,1700.0,400.0,300.0,600.0,500.0,400.0,400.0,450.0,400.0,550.0,900.0,400.0,500.0,300.0,1000.0,200.0,600.0,400.0,350.0,250.0,400.0,450.0,1200.0,800.0,1000.0,600.0,700.0,600.0,300.0,750.0,1500.0,600.0,600.0,800.0,800.0,800.0,700.0,750.0,750.0,550.0,400.0,250.0,500.0,500.0,850.0,500.0,600.0,400.0,650.0,750.0,550.0,350.0,500.0,800.0,450.0,500.0,900.0,750.0,800.0,600.0,500.0,400.0,300.0,450.0,600.0,500.0,200.0,900.0,200.0,450.0,450.0,200.0,450.0,250.0,500.0,400.0,350.0,450.0,300.0,550.0,350.0,800.0,650.0,150.0,150.0,500.0,250.0,300.0,300.0,2400.0,2500.0,1600.0,1400.0,1700.0,1100.0,1000.0,1800.0,1300.0,1700.0,800.0,800.0,800.0,1500.0,800.0,900.0,700.0,1200.0,2500.0,500.0,850.0,900.0,700.0,1000.0,850.0,700.0,1500.0,1000.0,1400.0,1450.0,1400.0,800.0,3000.0,700.0,2000.0,1000.0,1000.0,450.0,1000.0,900.0,900.0,1500.0,800.0,2000.0,750.0,400.0,800.0,250.0,200.0,800.0,600.0,1000.0,1000.0,600.0,700.0,1100.0,800.0,150.0,700.0,300.0,200.0,1000.0,800.0,350.0,250.0,500.0,400.0,300.0,500.0,1500.0,300.0,2000.0,1000.0,750.0,300.0,350.0,600.0,400.0,600.0,600.0,300.0,250.0,1900.0,600.0,3000.0,1200.0,350.0,450.0,500.0,350.0,800.0,400.0,750.0,700.0,200.0,400.0,500.0,300.0,1200.0,1000.0,1000.0,700.0,700.0,650.0,1200.0,400.0,300.0,400.0,500.0,400.0,300.0,600.0,600.0,700.0,350.0,400.0,500.0,300.0,200.0,450.0,400.0,300.0,650.0,500.0,250.0,700.0,350.0,600.0,700.0,400.0,700.0,250.0,300.0,1100.0,300.0,600.0,1000.0,500.0,1200.0,1500.0,2400.0,2500.0,1000.0,1450.0,2000.0,1200.0,1600.0,1300.0,1600.0,1100.0,800.0,600.0,1100.0,1400.0,2000.0,1500.0,1200.0,900.0,1600.0,1300.0,1500.0,1300.0,1000.0,1500.0,1500.0,1500.0,1500.0,600.0,1100.0,750.0,700.0,1400.0,800.0,1000.0,900.0,2000.0,900.0,1000.0,400.0,950.0,1000.0,900.0,500.0,700.0,500.0,200.0,600.0,650.0,600.0,400.0,500.0,650.0,700.0,500.0,200.0,600.0,900.0,800.0,1300.0,600.0,600.0,800.0,900.0,500.0,800.0,900.0,800.0,550.0,800.0,900.0,600.0,1000.0,900.0,500.0,700.0,600.0,800.0,1200.0,600.0,1200.0,650.0,1000.0,600.0,900.0,600.0,450.0,750.0,650.0,600.0,400.0,600.0,500.0,700.0,400.0,350.0,700.0,700.0,300.0,400.0,800.0,600.0,400.0,400.0,500.0,500.0,500.0,450.0,450.0,300.0,400.0,400.0,200.0,400.0,400.0,250.0,300.0,200.0,250.0,600.0,600.0,100.0,250.0,400.0,500.0,150.0,500.0,400.0,450.0,550.0,400.0,400.0,650.0,600.0,250.0,150.0,600.0,400.0,600.0,250.0,250.0,400.0,600.0,600.0,200.0,200.0,300.0,250.0,400.0,300.0,400.0,300.0,250.0,300.0,600.0,350.0,300.0,400.0,400.0,800.0,300.0,500.0,500.0,350.0,400.0,300.0,500.0,600.0,400.0,500.0,350.0,300.0,400.0,500.0,800.0,800.0,700.0,500.0,650.0,300.0,300.0,450.0,600.0,600.0,250.0,750.0,650.0,550.0,500.0,400.0,100.0,400.0,800.0,500.0,600.0,200.0,400.0,600.0,1000.0,200.0,200.0,250.0,700.0,400.0,450.0,800.0,300.0,500.0,100.0,450.0,300.0,450.0,500.0,400.0,400.0,550.0,700.0,400.0,400.0,600.0,550.0,200.0,300.0,400.0,300.0,200.0,650.0,200.0,500.0,500.0,300.0,400.0,800.0,200.0,400.0,800.0,400.0,800.0,450.0,400.0,200.0,600.0,750.0,300.0,400.0,600.0,600.0,300.0,250.0,300.0,800.0,250.0,500.0,200.0,1200.0,300.0,100.0,400.0,400.0,350.0,400.0,700.0,350.0,1200.0,1000.0,300.0,1500.0,300.0,600.0,500.0,400.0,600.0,600.0,300.0,150.0,800.0,350.0,200.0,700.0,150.0,600.0,600.0,600.0,400.0,700.0,500.0,700.0,500.0,100.0,600.0,500.0,800.0,700.0,500.0,400.0,800.0,400.0,400.0,800.0,750.0,600.0,500.0,250.0,900.0,200.0,850.0,400.0,400.0,400.0,300.0,850.0,150.0,800.0,700.0,250.0,750.0,600.0,1000.0,300.0,600.0,500.0,400.0,600.0,500.0,500.0,500.0,700.0,200.0,200.0,600.0,400.0,500.0,800.0,200.0,250.0,150.0,300.0,500.0,900.0,1000.0,700.0,300.0,450.0,800.0,500.0,1000.0,1200.0,450.0,230.0,500.0,500.0,300.0,700.0,500.0,400.0,400.0,500.0,400.0,400.0,300.0,650.0,300.0,300.0,250.0,500.0,400.0,600.0,600.0,300.0,150.0,300.0,500.0,300.0,250.0,400.0,600.0,700.0,550.0,400.0,800.0,900.0,300.0,700.0,950.0,500.0,200.0,1200.0,900.0,150.0,800.0,300.0,750.0,400.0,350.0,200.0,400.0,800.0,600.0,450.0,500.0,500.0,500.0,400.0,300.0,1500.0,500.0,550.0,900.0,500.0,900.0,400.0,550.0,400.0,1300.0,300.0,400.0,300.0,400.0,400.0,700.0,1000.0,600.0,800.0,400.0,300.0,600.0,600.0,150.0,750.0,550.0,250.0,300.0,750.0,650.0,500.0,400.0,450.0,400.0,400.0,600.0,500.0,650.0,800.0,800.0,600.0,650.0,700.0,400.0,600.0,450.0,250.0,1200.0,1000.0,150.0,700.0,400.0,800.0,500.0,800.0,1100.0,1300.0,700.0,600.0,500.0,600.0,1200.0,500.0,400.0,600.0,1500.0,600.0,300.0,550.0,500.0,1000.0,600.0,500.0,1100.0,1000.0,300.0,500.0,1000.0,400.0,650.0,300.0,400.0,500.0,1200.0,300.0,500.0,800.0,250.0,500.0,800.0,450.0,600.0,400.0,500.0,350.0,250.0,600.0,200.0,550.0,600.0,450.0,400.0,750.0,750.0,400.0,600.0,700.0,500.0,450.0,400.0,550.0,300.0,750.0,1600.0,600.0,600.0,1000.0,800.0,1600.0,500.0,1000.0,800.0,700.0,800.0,650.0,300.0,600.0,400.0,1000.0,800.0,300.0,600.0,1300.0,200.0,400.0,1000.0,600.0,600.0,700.0,600.0,600.0,1500.0,400.0,1200.0,1200.0,600.0,500.0,1300.0,300.0,1100.0,800.0,500.0,1200.0,400.0,800.0,250.0,500.0,450.0,900.0,500.0,350.0,600.0,1000.0,300.0,1300.0,1000.0,800.0,1000.0,600.0,1200.0,350.0,1000.0,1000.0,2500.0,800.0,300.0,450.0,450.0,700.0,900.0,600.0,650.0,700.0,1500.0,500.0,900.0,350.0,1500.0,550.0,1100.0,700.0,500.0,600.0,700.0,1200.0,500.0,500.0,550.0,1200.0,750.0,650.0,300.0,400.0,300.0,300.0,800.0,1000.0,900.0,650.0,1400.0,700.0,1200.0,600.0,1500.0,1600.0,550.0,250.0,300.0,1400.0,500.0,1000.0,800.0,250.0,1200.0,700.0,600.0,1500.0,700.0,400.0,400.0,250.0,750.0,1500.0,1000.0,400.0,750.0,600.0,1500.0,450.0,1100.0,1000.0,200.0,400.0,700.0,350.0,1500.0,650.0,400.0,250.0,600.0,1000.0,1200.0,900.0,750.0,900.0,300.0,400.0,600.0,500.0,800.0,1000.0,900.0,400.0,300.0,300.0,1100.0,400.0,700.0,300.0,700.0,400.0,550.0,500.0,400.0,200.0,500.0,500.0,550.0,300.0,1700.0,1200.0,500.0,550.0,400.0,400.0,600.0,600.0,650.0,1000.0,400.0,400.0,600.0,500.0,200.0,650.0,600.0,250.0,350.0,750.0,400.0,1100.0,700.0,600.0,900.0,1100.0,500.0,500.0,200.0,450.0,800.0,500.0,800.0,650.0,350.0,200.0,600.0,600.0,600.0,600.0,450.0,1000.0,800.0,400.0,500.0,600.0,500.0,400.0,200.0,500.0,450.0,150.0,650.0,600.0,400.0,300.0,400.0,150.0,600.0,500.0,1300.0,500.0,300.0,100.0,400.0,600.0,1000.0,500.0,300.0,550.0,1200.0,900.0,400.0,400.0,800.0,1300.0,1200.0,450.0,1400.0,800.0,650.0,1100.0,350.0,1200.0,400.0,700.0,900.0,500.0,500.0,300.0,450.0,500.0,750.0,800.0,300.0,800.0,200.0,350.0,500.0,450.0,900.0,400.0,450.0,700.0,200.0,600.0,300.0,800.0,1000.0,350.0,1000.0,1400.0,700.0,600.0,400.0,400.0,500.0,550.0,800.0,600.0,900.0,650.0,800.0,650.0,150.0,500.0,650.0,350.0,200.0,400.0,800.0,150.0,200.0,800.0,700.0,150.0,500.0,600.0,200.0,400.0,900.0,700.0,600.0,800.0,150.0,400.0,1500.0,500.0,400.0,900.0,400.0,300.0,400.0,300.0,500.0,300.0,200.0,200.0,200.0,150.0,300.0,500.0,250.0,400.0,800.0,400.0,500.0,500.0,200.0,200.0,400.0,100.0,600.0,1100.0,400.0,1300.0,600.0,700.0,500.0,800.0,550.0,400.0,450.0,500.0,600.0,300.0,400.0,1200.0,400.0,650.0,500.0,900.0,350.0,600.0,400.0,400.0,400.0,400.0,250.0,300.0,200.0,450.0,500.0,300.0,500.0,200.0,500.0,500.0,350.0,400.0,400.0,400.0,400.0,800.0,700.0,350.0,150.0,400.0,200.0,800.0,700.0,400.0,150.0,400.0,500.0,600.0,400.0,250.0,200.0,500.0,400.0,400.0,200.0,1600.0,1300.0,1600.0,1100.0,800.0,900.0,800.0,1500.0,900.0,500.0,850.0,550.0,550.0,300.0,800.0,800.0,300.0,800.0,600.0,1100.0,500.0,550.0,500.0,400.0,500.0,700.0,600.0,400.0,600.0,700.0,900.0,1000.0,600.0,500.0,600.0,400.0,350.0,700.0,350.0,600.0,600.0,500.0,200.0,600.0,600.0,650.0,600.0,400.0,800.0,500.0,600.0,600.0,500.0,550.0,600.0,1000.0,600.0,500.0,650.0,450.0,500.0,650.0,700.0,500.0,250.0,500.0,300.0,1000.0,300.0,500.0,250.0,400.0,300.0,200.0,300.0,400.0,250.0,300.0,400.0,400.0,500.0,300.0,300.0,400.0,500.0,400.0,150.0,250.0,500.0,150.0,200.0,250.0,300.0,200.0,300.0,700.0,500.0,300.0,200.0,300.0,300.0,400.0,600.0,500.0,400.0,500.0,300.0,500.0,300.0,200.0,400.0,400.0,250.0,300.0,300.0,400.0,350.0,450.0,250.0,450.0,400.0,300.0,550.0,600.0,400.0,400.0,500.0,400.0,650.0,250.0,400.0,350.0,400.0,300.0,300.0,250.0,1100.0,200.0,600.0,900.0,1400.0,1500.0,2000.0,1000.0,1100.0,1500.0,1200.0,900.0,1600.0,1300.0,1300.0,1400.0,800.0,1600.0,1600.0,700.0,1500.0,1600.0,750.0,1300.0,1500.0,1000.0,1000.0,1300.0,1500.0,1500.0,1400.0,1800.0,600.0,1400.0,1300.0,600.0,1200.0,1500.0,1400.0,1200.0,1300.0,1500.0,1500.0,1000.0,1000.0,1000.0,600.0,650.0,1400.0,800.0,1200.0,800.0,1000.0,1100.0,1500.0,1200.0,1400.0,650.0,550.0,600.0,1100.0,700.0,1000.0,800.0,600.0,900.0,750.0,500.0,1500.0,800.0,1200.0,550.0,900.0,800.0,550.0,1200.0,800.0,600.0,900.0,600.0,800.0,750.0,650.0,1200.0,800.0,550.0,1200.0,1000.0,1000.0,900.0,500.0,1200.0,750.0,900.0,500.0,800.0,700.0,800.0,1200.0,600.0,800.0,650.0,600.0,800.0,750.0,500.0,1200.0,600.0,1500.0,700.0,1200.0,700.0,750.0,1400.0,1000.0,700.0,650.0,750.0,1300.0,1300.0,500.0,1000.0,1000.0,800.0,650.0,600.0,1100.0,800.0,600.0,450.0,500.0,1000.0,800.0,1300.0,550.0,300.0,650.0,700.0,400.0,500.0,800.0,1400.0,600.0,350.0,750.0,650.0,700.0,750.0,700.0,400.0,1300.0,650.0,600.0,500.0,400.0,300.0,300.0,600.0,800.0,450.0,350.0,700.0,500.0,800.0,300.0,200.0,600.0,1000.0,400.0,600.0,900.0,450.0,250.0,600.0,700.0,2000.0,500.0,550.0,150.0,450.0,600.0,600.0,1500.0,200.0,700.0,400.0,350.0,900.0,350.0,800.0,600.0,1000.0,400.0,500.0,900.0,400.0,400.0,500.0,650.0,650.0,800.0,1100.0,700.0,900.0,200.0,600.0,500.0,400.0,250.0,200.0,400.0,300.0,600.0,450.0,200.0,700.0,1000.0,800.0,200.0,600.0,600.0,300.0,400.0,700.0,600.0,300.0,400.0,250.0,400.0,400.0,200.0,300.0,400.0,1300.0,200.0,400.0,200.0,950.0,400.0,400.0,750.0,500.0,400.0,700.0,650.0,200.0,300.0,200.0,100.0,800.0,600.0,1000.0,400.0,400.0,600.0,700.0,400.0,450.0,600.0,500.0,500.0,650.0,900.0,350.0,400.0,200.0,400.0,400.0,350.0,300.0,200.0,400.0,450.0,300.0,300.0,300.0,450.0,500.0,600.0,300.0,800.0,300.0,300.0,600.0,550.0,200.0,750.0,300.0,400.0,200.0,500.0,400.0,900.0,250.0,400.0,550.0,350.0,800.0,450.0,500.0,1000.0,1100.0,1500.0,1100.0,1500.0,2000.0,1100.0,900.0,1600.0,1600.0,1600.0,1000.0,1500.0,1400.0,1800.0,1400.0,1200.0,1300.0,1000.0,1200.0,1400.0,1200.0,1200.0,1200.0,1200.0,1500.0,1400.0,1000.0,1300.0,1300.0,1400.0,1500.0,1100.0,1300.0,1100.0,1600.0,1500.0,1100.0,1400.0,1000.0,1100.0,1500.0,900.0,1400.0,1600.0,1500.0,1000.0,1500.0,1800.0,1500.0,1200.0,1300.0,1000.0,1200.0,1400.0,1000.0,1500.0,1200.0,800.0,1200.0,1200.0,1200.0,1200.0,1400.0,1000.0,1300.0,1000.0,1300.0,1300.0,1500.0,1100.0,1300.0,1200.0,1500.0,1200.0,1700.0,750.0,1800.0,1500.0,2200.0,3000.0,2100.0,2800.0,1400.0,1600.0,2500.0,3000.0,500.0,1500.0,1000.0,3400.0,2000.0,1500.0,1300.0,1700.0,1200.0,1600.0,800.0,2200.0,2000.0,1200.0,1000.0,1900.0,650.0,1400.0,1000.0,800.0,1000.0,1300.0,1600.0,3000.0,500.0,1000.0,1200.0,650.0,2500.0,1300.0,1200.0,1700.0,1800.0,1600.0,1100.0,750.0,1200.0,500.0,1100.0,1000.0,600.0,650.0,900.0,700.0,500.0,700.0,800.0,1700.0,900.0,600.0,2500.0,1400.0,400.0,750.0,700.0,700.0,500.0,1100.0,800.0,750.0,500.0,650.0,500.0,1000.0,650.0,1200.0,800.0,800.0,400.0,800.0,600.0,400.0,1000.0,500.0,600.0,1000.0,800.0,900.0,700.0,350.0,1300.0,750.0,300.0,1000.0,750.0,750.0,1100.0,500.0,650.0,400.0,750.0,750.0,500.0,750.0,600.0,750.0,300.0,600.0,400.0,650.0,400.0,500.0,550.0,150.0,500.0,1500.0,800.0,400.0,400.0,200.0,600.0,800.0,300.0,850.0,400.0,400.0,300.0,450.0,650.0,250.0,450.0,600.0,1600.0,400.0,1300.0,1200.0,1200.0,450.0,600.0,700.0,500.0,400.0,700.0,350.0,200.0,400.0,500.0,400.0,550.0,500.0,400.0,900.0,800.0,400.0,200.0,1300.0,1200.0,600.0,550.0,1100.0,500.0,600.0,400.0,800.0,1300.0,200.0,1700.0,150.0,2100.0,1700.0,1500.0,750.0,500.0,300.0,150.0,2000.0,250.0,750.0,400.0,600.0,650.0,500.0,800.0,1400.0,2100.0,1500.0,1200.0,450.0,1000.0,400.0,1500.0,600.0,1400.0,200.0,2000.0,1000.0,500.0,300.0,250.0,300.0,400.0,800.0,700.0,700.0,900.0,200.0,1700.0,500.0,1200.0,650.0,500.0,300.0,1500.0,950.0,1600.0,1500.0,1000.0,300.0,300.0,500.0,900.0,700.0,1000.0,1200.0,700.0,1000.0,800.0,1500.0,1400.0,900.0,700.0,250.0,700.0,1000.0,750.0,600.0,1300.0,400.0,250.0,350.0,800.0,300.0,1400.0,500.0,180.0,500.0,800.0,750.0,250.0,500.0,700.0,200.0,600.0,800.0,550.0,2100.0,900.0,1100.0,550.0,1400.0,600.0,400.0,400.0,400.0,750.0,800.0,500.0,150.0,600.0,750.0,600.0,1200.0,500.0,600.0,500.0,550.0,400.0,400.0,200.0,800.0,800.0,500.0,800.0,1000.0,500.0,300.0,500.0,500.0,500.0,550.0,300.0,450.0,350.0,150.0,100.0,300.0,600.0,800.0,350.0,1600.0,650.0,750.0,300.0,400.0,450.0,500.0,200.0,700.0,500.0,1000.0,200.0,300.0,850.0,800.0,1000.0,1000.0,850.0,800.0,800.0,800.0,700.0,1000.0,600.0,300.0,600.0,300.0,250.0,400.0,600.0,700.0,450.0,500.0,700.0,800.0,1000.0,600.0,400.0,500.0,900.0,700.0,650.0,500.0,800.0,500.0,350.0,1800.0,1300.0,500.0,300.0,550.0,200.0,1200.0,1200.0,1300.0,1600.0,600.0,1400.0,550.0,1200.0,1000.0,600.0,400.0,1000.0,500.0,1200.0,600.0,40.0,250.0,250.0,500.0,600.0,400.0,700.0,350.0,600.0,1700.0,550.0,600.0,1100.0,1000.0,150.0,250.0,700.0,400.0,300.0,400.0,400.0,700.0,700.0,1800.0,750.0,1900.0,1300.0,1000.0,500.0,1600.0,700.0,300.0,800.0,300.0,1000.0,600.0,650.0,750.0,500.0,1300.0,800.0,1400.0,650.0,1000.0,2000.0,150.0,2000.0,750.0,700.0,1500.0,1700.0,1100.0,1800.0,1000.0,150.0,400.0,250.0,400.0,2000.0,800.0,400.0,600.0,550.0,400.0,1400.0,700.0,300.0,1250.0,700.0,500.0,400.0,450.0,2000.0,1000.0,700.0,500.0,400.0,300.0,300.0,350.0,400.0,800.0,400.0,250.0,900.0,400.0,300.0,400.0,150.0,300.0,180.0,150.0,450.0,400.0,400.0,900.0,300.0,150.0,300.0,600.0,300.0,500.0,350.0,1300.0,800.0,200.0,750.0,300.0,500.0,1500.0,300.0,1100.0,1500.0,1200.0,1000.0,1000.0,1700.0,1000.0,600.0,650.0,1300.0,1100.0,1100.0,750.0,750.0,1400.0,650.0,1300.0,1200.0,900.0,600.0,800.0,700.0,1000.0,800.0,1500.0,950.0,500.0,800.0,1200.0,600.0,600.0,500.0,200.0,150.0,500.0,250.0,400.0,250.0,350.0,1700.0,2500.0,1500.0,1800.0,1500.0,2000.0,3000.0,2200.0,3000.0,800.0,550.0,2800.0,2500.0,1500.0,2000.0,1500.0,1500.0,3000.0,2100.0,3500.0,1700.0,1700.0,1300.0,1600.0,2800.0,1700.0,1500.0,1200.0,1500.0,1600.0,1300.0,1200.0,2000.0,3000.0,800.0,700.0,2100.0,1500.0,2500.0,1900.0,2200.0,1500.0,1400.0,2000.0,1200.0,1400.0,1500.0,600.0,1300.0,2100.0,1700.0,900.0,1100.0,1600.0,2500.0,1500.0,2500.0,550.0,1000.0,3000.0,1200.0,1300.0,1400.0,4000.0,500.0,1800.0,1300.0,1500.0,200.0,1000.0,2000.0,1500.0,1000.0,1800.0,1000.0,500.0,1000.0,1500.0,1200.0,2500.0,400.0,3400.0,3000.0,2000.0,850.0,2000.0,750.0,700.0,3500.0,600.0,1800.0,1500.0,3000.0,1300.0,1500.0,700.0,1600.0,1200.0,1300.0,1500.0,1200.0,1100.0,1700.0,2000.0,500.0,800.0,4000.0,3000.0,1100.0,1000.0,1500.0,700.0,2800.0,1000.0,1200.0,1000.0,1200.0,4000.0,2000.0,3500.0,1200.0,550.0,1000.0,1600.0,500.0,300.0,2000.0,650.0,1800.0,3000.0,800.0,2200.0,1100.0,800.0,2000.0,500.0,800.0,750.0,1500.0,1000.0,800.0,1000.0,650.0,750.0,500.0,1800.0,1000.0,400.0,550.0,600.0,700.0,700.0,2000.0,1000.0,1000.0,3000.0,2000.0,800.0,550.0,400.0,650.0,800.0,450.0,650.0,550.0,1200.0,1800.0,800.0,800.0,1200.0,1000.0,1000.0,700.0,2000.0,500.0,1500.0,300.0,350.0,600.0,3000.0,400.0,1900.0,500.0,2500.0,650.0,800.0,2500.0,1400.0,800.0,1200.0,800.0,600.0,3000.0,1000.0,550.0,400.0,800.0,800.0,400.0,850.0,800.0,1000.0,500.0,1300.0,1600.0,3000.0,600.0,1000.0,1400.0,700.0,3000.0,500.0,1000.0,2400.0,600.0,1500.0,500.0,1000.0,500.0,800.0,1300.0,800.0,1200.0,800.0,250.0,600.0,350.0,500.0,500.0,900.0,2000.0,700.0,2500.0,600.0,400.0,600.0,550.0,400.0,300.0,250.0,150.0,700.0,150.0,500.0,150.0,300.0,500.0,250.0,300.0,450.0,400.0,400.0,500.0,150.0,300.0,400.0,300.0,200.0,350.0,500.0,400.0,400.0,250.0,350.0,300.0,500.0,200.0,600.0,600.0,500.0,300.0,300.0,500.0,300.0,450.0,300.0,100.0,300.0,500.0,1300.0,800.0,1100.0,1100.0,1400.0,1300.0,600.0,3200.0,750.0,2500.0,1500.0,1300.0,1200.0,300.0,4000.0,1700.0,1000.0,2500.0,750.0,600.0,850.0,550.0,600.0,400.0,700.0,1000.0,200.0,700.0,750.0,500.0,700.0,750.0,1800.0,1200.0,900.0,1600.0,700.0,400.0,150.0,550.0,700.0,300.0,500.0,600.0,400.0,400.0,1100.0,500.0,400.0,500.0,250.0,250.0,550.0,500.0,1100.0,600.0,300.0,1200.0,1500.0,2000.0,1300.0,1100.0,1100.0,1200.0,1000.0,1500.0,1700.0,2500.0,1500.0,2000.0,3000.0,3000.0,2500.0,1500.0,1500.0,1700.0,1700.0,1300.0,1700.0,1500.0,1300.0,1200.0,2000.0,1500.0,2500.0,1900.0,1300.0,1500.0,1000.0,1200.0,1400.0,1300.0,1000.0,3000.0,1600.0,1500.0,1100.0,1100.0,1000.0,2800.0,1000.0,2000.0,1200.0,2000.0,3000.0,1500.0,600.0,1000.0,1000.0,1000.0,2000.0,1500.0,2500.0,3000.0,1400.0,2400.0,1500.0,1300.0,1300.0,1200.0,2500.0,1200.0,1200.0,1200.0,1100.0,1100.0,1200.0,1000.0,1500.0,2000.0,2500.0,1500.0,1700.0,1300.0,1700.0,1500.0,1200.0,2100.0,2500.0,1900.0,1300.0,1500.0,1000.0,1200.0,1300.0,1400.0,1300.0,1000.0,1000.0,1000.0,1600.0,1200.0,1300.0,1500.0,1100.0,1700.0,2000.0,1100.0,1000.0,1000.0,1000.0,1200.0,4000.0,2000.0,3500.0,1200.0,2000.0,1800.0,1800.0,600.0,1000.0,1000.0,1800.0,1200.0,1000.0,3000.0,800.0,1400.0,1500.0,1300.0,1300.0,1200.0,1200.0,1500.0,1200.0,1600.0,600.0,1100.0,3000.0,2200.0,1200.0,1400.0,800.0,2000.0,900.0,850.0,800.0,1500.0,600.0,700.0,650.0,500.0,400.0,600.0,600.0,700.0,400.0,400.0,700.0,200.0,450.0,200.0,250.0,300.0,400.0,500.0,500.0,500.0,500.0,200.0,700.0,600.0,600.0,300.0,500.0,800.0,800.0,300.0,250.0,500.0,700.0,300.0,650.0,400.0,450.0,500.0,400.0,600.0,200.0,400.0,500.0,400.0,400.0,400.0,750.0,500.0,400.0,450.0,400.0,150.0,400.0,450.0,400.0,650.0,800.0,250.0,450.0,600.0,550.0,250.0,250.0,900.0,750.0,700.0,400.0,500.0,300.0,500.0,150.0,800.0,500.0,700.0,800.0,750.0,350.0,400.0,900.0,300.0,400.0,700.0,900.0,350.0,400.0,700.0,500.0,400.0,300.0,600.0,600.0,450.0,750.0,400.0,600.0,250.0,650.0,600.0,500.0,450.0,400.0,600.0,600.0,1500.0,1200.0,400.0,400.0,500.0,400.0,400.0,650.0,400.0,500.0,1000.0,1200.0,700.0,900.0,200.0,500.0,1100.0,1000.0,700.0,600.0,1500.0,400.0,500.0,700.0,500.0,350.0,450.0,400.0,400.0,500.0,500.0,600.0,2000.0,600.0,200.0,250.0,400.0,450.0,400.0,500.0,600.0,400.0,250.0,400.0,400.0,700.0,500.0,500.0,1500.0,1200.0,1200.0,1200.0,1600.0,600.0,1100.0,1500.0,900.0,800.0,1400.0,600.0,650.0,700.0,800.0,3000.0,1500.0,1300.0,2200.0,450.0,500.0,500.0,800.0,600.0,1200.0,1400.0,400.0,700.0,800.0,400.0,450.0,2000.0,400.0,600.0,1200.0,700.0,600.0,400.0,500.0,600.0,900.0,750.0,700.0,2500.0,2200.0,700.0,900.0,1500.0,650.0,750.0,400.0,1000.0,700.0,850.0,1200.0,450.0,2500.0,850.0,500.0,500.0,1000.0,700.0,400.0,600.0,1500.0,800.0,700.0,600.0,550.0,1500.0,400.0,800.0,500.0,700.0,500.0,500.0,500.0,300.0,450.0,500.0,550.0,400.0,500.0,400.0,400.0,350.0,400.0,650.0,400.0,250.0,300.0,400.0,250.0,400.0,250.0,400.0,500.0,450.0,400.0,500.0,300.0,200.0,350.0,400.0,400.0,300.0,450.0,150.0,600.0,400.0,400.0,300.0,400.0,300.0,600.0,400.0,600.0,750.0,400.0,500.0,500.0,250.0,350.0,400.0,500.0,400.0,350.0,500.0,250.0,300.0,1200.0,1200.0,1200.0,1500.0,1400.0,1300.0,1200.0,2500.0,900.0,1500.0,1500.0,1200.0,1200.0,1200.0,1500.0,1400.0,1300.0,1200.0,1200.0,900.0,1500.0,1500.0,750.0,1300.0,2800.0,1300.0,1700.0,2200.0,1800.0,1600.0,1100.0,1100.0,700.0,700.0,350.0,600.0,1300.0,1200.0,750.0,750.0,700.0,300.0,1000.0,750.0,800.0,650.0,800.0,650.0,750.0,800.0,700.0,1000.0,500.0,500.0,800.0,400.0,1100.0,600.0,450.0,500.0,450.0,500.0,600.0,750.0,300.0,300.0,600.0,300.0,600.0,650.0,600.0,200.0,400.0,350.0,400.0,800.0,750.0,250.0,500.0,750.0,800.0,1000.0,500.0,750.0,400.0,550.0,400.0,950.0,400.0,600.0,400.0,300.0,800.0,150.0,200.0,750.0,250.0,300.0,750.0,400.0,500.0,400.0,700.0,600.0,800.0,550.0,650.0,400.0,500.0,1200.0,900.0,1500.0,800.0,1100.0,500.0,1400.0,650.0,450.0,400.0,1300.0,800.0,700.0,750.0,1500.0,600.0,600.0,400.0,1600.0,500.0,500.0,600.0,650.0,300.0,800.0,600.0,1700.0,1200.0,1300.0,500.0,400.0,700.0,400.0,600.0,1600.0,650.0,700.0,400.0,400.0,500.0,300.0,1000.0,1500.0,650.0,1300.0,600.0,1200.0,550.0,300.0,600.0,1100.0,500.0,800.0,400.0,700.0,900.0,400.0,450.0,500.0,900.0,450.0,400.0,450.0,40.0,550.0,300.0,3000.0,350.0,700.0,250.0,650.0,700.0,200.0,800.0,300.0,550.0,750.0,600.0,450.0,100.0,500.0,350.0,600.0,1300.0,1700.0,180.0,1700.0,600.0,2100.0,600.0,700.0,300.0,500.0,1000.0,550.0,2000.0,500.0,1500.0,450.0,1500.0,700.0,400.0,750.0,1300.0,1000.0,400.0,1000.0,700.0,500.0,800.0,1300.0,500.0,750.0,500.0,1300.0,700.0,500.0,700.0,750.0,800.0,1000.0,2100.0,1000.0,500.0,1900.0,450.0,150.0,150.0,700.0,300.0,2000.0,400.0,1000.0,650.0,950.0,150.0,500.0,300.0,1400.0,800.0,1200.0,1000.0,1000.0,150.0,700.0,750.0,1500.0,300.0,200.0,700.0,800.0,250.0,1800.0,500.0,350.0,1500.0,800.0,1000.0,200.0,550.0,400.0,500.0,400.0,250.0,1000.0,1400.0,400.0,800.0,700.0,600.0,550.0,600.0,350.0,1500.0,1500.0,500.0,200.0,550.0,300.0,1100.0,850.0,400.0,150.0,850.0,700.0,300.0,1800.0,800.0,1800.0,600.0,1000.0,800.0,2000.0,400.0,300.0,600.0,1500.0,750.0,1000.0,1500.0,700.0,400.0,700.0,300.0,600.0,300.0,900.0,400.0,450.0,650.0,500.0,800.0,800.0,2000.0,750.0,1700.0,700.0,850.0,1000.0,650.0,500.0,600.0,500.0,250.0,200.0,250.0,500.0,200.0,350.0,100.0,1200.0,550.0,600.0,500.0,300.0,700.0,300.0,300.0,800.0,700.0,300.0,800.0,1200.0,400.0,600.0,300.0,1700.0,550.0,1300.0,250.0,1100.0,750.0,800.0,750.0,700.0,400.0,200.0,1100.0,300.0,300.0,300.0,400.0,500.0,600.0,1600.0,600.0,200.0,150.0,400.0,150.0,700.0,500.0,100.0,500.0,300.0,250.0,250.0,350.0,500.0,500.0,300.0,300.0,350.0,300.0,400.0,150.0,1300.0,400.0,750.0,700.0,700.0,400.0,500.0,400.0,300.0,300.0,300.0,700.0,600.0,750.0,800.0,700.0,700.0,700.0,600.0,1100.0,550.0,600.0,1100.0,1500.0,800.0,850.0,700.0,600.0,750.0,500.0,1000.0,500.0,500.0,700.0,700.0,600.0,700.0,1000.0,300.0,500.0,1000.0,750.0,600.0,1000.0,200.0,300.0,500.0,300.0,600.0,400.0,400.0,150.0,700.0,400.0,400.0,200.0,250.0,500.0,300.0,600.0,500.0,500.0,1300.0,800.0,550.0,550.0,450.0,800.0,650.0,700.0,300.0,600.0,800.0,300.0,150.0,600.0,350.0,400.0,500.0,300.0,300.0,1300.0,2800.0,1200.0,1600.0,1000.0,2500.0,2500.0,1100.0,1100.0,1300.0,1300.0,600.0,1000.0,1300.0,750.0,1800.0,750.0,700.0,1800.0,3000.0,1300.0,1700.0,300.0,600.0,1200.0,1000.0,750.0,650.0,2000.0,3000.0,2000.0,750.0,800.0,650.0,800.0,2200.0,650.0,850.0,800.0,700.0,700.0,1000.0,1000.0,700.0,750.0,1800.0,500.0,400.0,500.0,1600.0,500.0,150.0,500.0,400.0,1500.0,400.0,250.0,500.0,550.0,800.0,800.0,400.0,300.0,400.0,1100.0,600.0,200.0,450.0,1100.0,250.0,300.0,800.0,400.0,400.0,1500.0,1300.0,2500.0,1300.0,1300.0,1000.0,1500.0,1500.0,1000.0,1300.0,1300.0,2500.0,1300.0,1000.0,1200.0,2000.0,1000.0,1400.0,1500.0,1800.0,600.0,1200.0,1000.0,850.0,750.0,600.0,800.0,400.0,1000.0,1600.0,1500.0,1500.0,900.0,1200.0,1500.0,1900.0,700.0,800.0,600.0,750.0,500.0,700.0,800.0,1200.0,800.0,950.0,650.0,750.0,300.0,600.0,700.0,700.0,600.0,300.0,700.0,600.0,500.0,450.0,650.0,1300.0,350.0,550.0,600.0,1000.0,250.0,500.0,600.0,1000.0,400.0,700.0,500.0,600.0,500.0,600.0,400.0,500.0,500.0,600.0,500.0,500.0,450.0,350.0,500.0,400.0,250.0,250.0,400.0,750.0,800.0,650.0,450.0,400.0,600.0,450.0,450.0,300.0,500.0,500.0,500.0,400.0,800.0,250.0,600.0,300.0,500.0,600.0,750.0,400.0,400.0,300.0,650.0,400.0,400.0,400.0,900.0,200.0,400.0,450.0,600.0,750.0,400.0,800.0,800.0,800.0,750.0,400.0,150.0,500.0,600.0,500.0,200.0,750.0,600.0,600.0,500.0,550.0,400.0,400.0,300.0,900.0,400.0,250.0,600.0,650.0,300.0,800.0,600.0,450.0,700.0,200.0,400.0,650.0,300.0,500.0,350.0,550.0,300.0,150.0,400.0,500.0,100.0,300.0,500.0,400.0,500.0,600.0,200.0,350.0,450.0,500.0,600.0,600.0,650.0,200.0,400.0,400.0,400.0,300.0,750.0,800.0,200.0,300.0,800.0,500.0,1500.0,1400.0,300.0,500.0,400.0,550.0,300.0,550.0,1400.0,200.0,600.0,450.0,800.0,600.0,400.0,700.0,400.0,400.0,1700.0,1900.0,500.0,350.0,180.0,200.0,1000.0,900.0,400.0,400.0,400.0,550.0,300.0,800.0,150.0,600.0,400.0,700.0,1400.0,250.0,200.0,400.0,350.0,250.0,1200.0,700.0,1000.0,400.0,650.0,500.0,500.0,1000.0,450.0,600.0,400.0,1000.0,800.0,600.0,1000.0,600.0,150.0,200.0,600.0,550.0,350.0,400.0,350.0,550.0,250.0,200.0,400.0,550.0,500.0,450.0,1000.0,600.0,400.0,700.0,1000.0,300.0,600.0,700.0,550.0,300.0,300.0,800.0,300.0,900.0,500.0,1200.0,500.0,750.0,350.0,1400.0,1700.0,400.0,300.0,800.0,400.0,950.0,450.0,300.0,1200.0,1500.0,300.0,250.0,200.0,700.0,600.0,200.0,600.0,800.0,300.0,700.0,300.0,900.0,850.0,500.0,750.0,650.0,350.0,500.0,500.0,300.0,800.0,400.0,600.0,400.0,650.0,100.0,500.0,800.0,200.0,1800.0,500.0,250.0,1500.0,300.0,400.0,150.0,250.0,400.0,450.0,450.0,800.0,450.0,700.0,600.0,650.0,400.0,400.0,300.0,350.0,800.0,500.0,250.0,600.0,400.0,900.0,400.0,100.0,250.0,400.0,150.0,1300.0,700.0,800.0,300.0,450.0,500.0,500.0,400.0,700.0,350.0,500.0,400.0,600.0,450.0,400.0,300.0,400.0,600.0,800.0,500.0,700.0,800.0,250.0,600.0,500.0,1100.0,900.0,200.0,1400.0,400.0,400.0,200.0,500.0,250.0,550.0,800.0,500.0,300.0,550.0,500.0,400.0,400.0,500.0,300.0,800.0,500.0,500.0,550.0,400.0,550.0,600.0,400.0,1300.0,400.0,1200.0,1200.0,300.0,400.0,250.0,600.0,300.0,800.0,1000.0,500.0,1100.0,250.0,1200.0,300.0,1300.0,600.0,1000.0,400.0,450.0,1200.0,200.0,600.0,400.0,700.0,750.0,800.0,700.0,600.0,600.0,400.0,850.0,300.0,700.0,1000.0,400.0,700.0,400.0,500.0,600.0,800.0,600.0,950.0,1300.0,700.0,1200.0,150.0,600.0,1000.0,1500.0,1500.0,550.0,1100.0,500.0,800.0,600.0,500.0,500.0,400.0,800.0,400.0,950.0,200.0,350.0,400.0,400.0,300.0,300.0,400.0,500.0,600.0,400.0,300.0,400.0,450.0,200.0,100.0,300.0,600.0,350.0,180.0,500.0,500.0,400.0,500.0,350.0,500.0,100.0,150.0,400.0,450.0,350.0,300.0,1000.0,500.0,150.0,500.0,300.0,400.0,600.0,650.0,500.0,500.0,1200.0,500.0,800.0,1000.0,700.0,1500.0,1500.0,1000.0,1800.0,600.0,1200.0,850.0,1400.0,1200.0,1000.0,550.0,750.0,1100.0,800.0,1200.0,700.0,900.0,1000.0,600.0,750.0,1200.0,800.0,800.0,850.0,700.0,1200.0,600.0,800.0,850.0,200.0,800.0,750.0,800.0,950.0,700.0,1200.0,600.0,800.0,900.0,600.0,650.0,1000.0,1000.0,400.0,550.0,750.0,400.0,800.0,500.0,500.0,800.0,800.0,600.0,800.0,1400.0,700.0,800.0,900.0,700.0,750.0,450.0,300.0,700.0,650.0,1300.0,600.0,500.0,800.0,500.0,600.0,700.0,400.0,500.0,500.0,550.0,800.0,1000.0,450.0,400.0,250.0,650.0,550.0,700.0,800.0,550.0,800.0,400.0,400.0,500.0,700.0,650.0,1300.0,550.0,550.0,750.0,600.0,700.0,500.0,750.0,900.0,1000.0,250.0,600.0,300.0,600.0,450.0,600.0,450.0,900.0,500.0,1000.0,600.0,500.0,600.0,400.0,400.0,450.0,500.0,400.0,300.0,250.0,400.0,500.0,150.0,400.0,300.0,400.0,400.0,500.0,300.0,400.0,300.0,350.0,350.0,400.0,500.0,400.0,300.0,150.0,400.0,600.0,400.0,500.0,600.0,400.0,200.0,400.0,400.0,300.0,200.0,500.0,450.0,500.0,400.0,450.0,400.0,400.0,250.0,250.0,600.0,300.0,500.0,400.0,600.0,200.0,250.0,300.0,400.0,400.0,400.0,400.0,300.0,300.0,750.0,300.0,300.0,700.0,200.0,400.0,800.0,200.0,150.0,350.0,250.0,500.0,500.0,300.0,500.0,400.0,200.0,400.0,250.0,1400.0,1900.0,1000.0,1600.0,1500.0,600.0,1500.0,1000.0,2000.0,700.0,750.0,1200.0,800.0,550.0,550.0,900.0,250.0,550.0,1200.0,400.0,1500.0,450.0,300.0,500.0,1900.0,350.0,300.0,250.0,600.0,300.0,350.0,100.0,450.0,1000.0,1000.0,1500.0,1500.0,850.0,1400.0,1100.0,900.0,1900.0,1000.0,1200.0,1500.0,1000.0,850.0,1000.0,1500.0,1400.0,1100.0,900.0,1200.0,1200.0,1400.0,1300.0,1400.0,1900.0,1500.0,1200.0,1500.0,1000.0,1200.0,1800.0,1600.0,2100.0,1200.0,1700.0,1400.0,1100.0,1300.0,800.0,1000.0,1300.0,750.0,1600.0,900.0,1700.0,1100.0,1200.0,1200.0,400.0,850.0,1200.0,1500.0,1700.0,1000.0,1100.0,3500.0,3000.0,2100.0,2800.0,2200.0,3000.0,1400.0,1500.0,3000.0,1000.0,900.0,800.0,600.0,800.0,900.0,600.0,1000.0,600.0,1300.0,600.0,200.0,500.0,550.0,700.0,800.0,600.0,900.0,1000.0,700.0,400.0,600.0,800.0,400.0,700.0,650.0,500.0,700.0,450.0,800.0,500.0,650.0,800.0,850.0,800.0,750.0,500.0,450.0,500.0,500.0,700.0,500.0,1100.0,900.0,200.0,500.0,700.0,600.0,500.0,600.0,500.0,1600.0,500.0,1700.0,2500.0,700.0,700.0,700.0,500.0,300.0,300.0,300.0,200.0,800.0,500.0,600.0,300.0,600.0,400.0,400.0,450.0,150.0,400.0,350.0,350.0,400.0,500.0,200.0,400.0,650.0,500.0,400.0,300.0,1000.0,350.0,150.0,200.0,800.0,650.0,800.0,400.0,800.0,400.0,850.0,600.0,300.0,500.0,500.0,550.0,250.0,550.0,750.0,400.0,800.0,600.0,250.0,300.0,150.0,1000.0,950.0,250.0,200.0,600.0,1200.0,800.0,650.0,600.0,800.0,700.0,500.0,900.0,700.0,600.0,500.0,500.0,450.0,600.0,1200.0,300.0,400.0,750.0,700.0,600.0,400.0,1600.0,600.0,400.0,1200.0,650.0,400.0,500.0,600.0,300.0,800.0,150.0,300.0,1200.0,800.0,600.0,900.0,40.0,300.0,750.0,400.0,250.0,500.0,700.0,650.0,500.0,350.0,600.0,750.0,200.0,600.0,400.0,1500.0,450.0,650.0,100.0,500.0,500.0,350.0,800.0,250.0,500.0,500.0,1300.0,850.0,1400.0,700.0,800.0,550.0,600.0,1000.0,1100.0,1200.0,1500.0,600.0,500.0,1000.0,1200.0,900.0,1600.0,500.0,300.0,300.0,300.0,500.0,1800.0,900.0,250.0,450.0,700.0,800.0,850.0,800.0,450.0,700.0,550.0,500.0,600.0,800.0,200.0,300.0,1100.0,450.0,400.0,350.0,800.0,500.0,400.0,750.0,500.0,900.0,650.0,400.0,1100.0,1600.0,600.0,900.0,350.0,800.0,1300.0,800.0,300.0,400.0,400.0,500.0,800.0,400.0,550.0,1500.0,250.0,150.0,400.0,600.0,650.0,750.0,800.0,1000.0,1500.0,450.0,350.0,700.0,300.0,500.0,300.0,2100.0,1300.0,180.0,400.0,200.0,450.0,300.0,500.0,400.0,750.0,700.0,700.0,800.0,700.0,1000.0,200.0,500.0,300.0,2000.0,1000.0,700.0,1000.0,700.0,250.0,200.0,600.0,950.0,1000.0,550.0,400.0,500.0,650.0,800.0,1200.0,2000.0,250.0,550.0,250.0,1400.0,200.0,900.0,850.0,1500.0,700.0,400.0,700.0,200.0,1000.0,1600.0,1500.0,2100.0,350.0,450.0,1000.0,300.0,300.0,1200.0,300.0,400.0,550.0,900.0,150.0,700.0,800.0,2000.0,500.0,350.0,300.0,800.0,1400.0,700.0,450.0,500.0,1200.0,700.0,600.0,350.0,500.0,800.0,1200.0,300.0,500.0,450.0,600.0,600.0,600.0,400.0,400.0,350.0,800.0,900.0,200.0,2000.0,1700.0,650.0,450.0,500.0,500.0,200.0,400.0,500.0,700.0,600.0,500.0,1500.0,350.0,300.0,1000.0,500.0,650.0,1400.0,1400.0,700.0,200.0,400.0,700.0,300.0,400.0,450.0,300.0,500.0,750.0,500.0,450.0,750.0,1200.0,200.0,1800.0,800.0,200.0,200.0,400.0,1000.0,700.0,400.0,200.0,1100.0,1500.0,800.0,300.0,650.0,400.0,400.0,300.0,350.0,450.0,600.0,1000.0,600.0,1200.0,400.0,800.0,300.0,1000.0,500.0,1500.0,400.0,700.0,150.0,350.0,1400.0,600.0,400.0,500.0,1900.0,400.0,500.0,1700.0,1400.0,650.0,450.0,500.0,600.0,1600.0,250.0,300.0,800.0,1700.0,500.0,450.0,400.0,150.0,500.0,450.0,700.0,500.0,250.0,1100.0,400.0,150.0,200.0,500.0,500.0,500.0,500.0,850.0,500.0,1600.0,600.0,600.0,200.0,1200.0,800.0,400.0,600.0,800.0,900.0,400.0,1000.0,500.0,550.0,500.0,150.0,500.0,800.0,700.0,300.0,400.0,800.0,400.0,300.0,400.0,300.0,400.0,300.0,200.0,800.0,400.0,400.0,300.0,300.0,400.0,800.0,800.0,500.0,300.0,500.0,750.0,150.0,500.0,450.0,500.0,400.0,300.0,400.0,200.0,1100.0,200.0,200.0,200.0,650.0,300.0,250.0,500.0,600.0,400.0,300.0,500.0,200.0,250.0,300.0,200.0,400.0,450.0,300.0,2000.0,700.0,400.0,800.0,1200.0,700.0,200.0,200.0,2500.0,1600.0,1500.0,1000.0,800.0,1500.0,2000.0,1400.0,1800.0,1200.0,1200.0,1500.0,1500.0,1600.0,1200.0,1300.0,900.0,2100.0,2500.0,1500.0,1400.0,1000.0,1300.0,800.0,1300.0,900.0,1200.0,1700.0,800.0,1500.0,1400.0,1400.0,1100.0,1100.0,1600.0,1000.0,1200.0,600.0,800.0,1000.0,1500.0,1000.0,850.0,1300.0,1200.0,600.0,1200.0,800.0,750.0,1500.0,1000.0,1000.0,1300.0,1500.0,800.0,1200.0,1000.0,600.0,1200.0,800.0,200.0,1000.0,1200.0,750.0,1600.0,1100.0,500.0,1500.0,1200.0,900.0,1000.0,800.0,1500.0,900.0,1200.0,1700.0,650.0,1400.0,700.0,1300.0,1500.0,1100.0,900.0,800.0,800.0,600.0,900.0,1000.0,1100.0,1500.0,1100.0,900.0,1000.0,700.0,700.0,500.0,600.0,1500.0,800.0,700.0,650.0,650.0,500.0,500.0,950.0,1400.0,750.0,800.0,800.0,400.0,1200.0,800.0,450.0,500.0,1200.0,500.0,750.0,1700.0,850.0,800.0,1600.0,500.0,1800.0,1200.0,600.0,800.0,850.0,800.0,350.0,800.0,1500.0,800.0,650.0,850.0,700.0,1000.0,1100.0,650.0,450.0,800.0,250.0,600.0,650.0,650.0,550.0,500.0,1100.0,500.0,650.0,700.0,1200.0,1500.0,700.0,400.0,1100.0,500.0,600.0,700.0,650.0,600.0,600.0,700.0,650.0,600.0,450.0,500.0,1000.0,700.0,550.0,600.0,300.0,500.0,150.0,450.0,350.0,300.0,400.0,600.0,150.0,800.0,200.0,300.0,200.0,600.0,300.0,300.0,400.0,500.0,650.0,800.0,150.0,200.0,350.0,350.0,500.0,200.0,500.0,200.0,600.0,40.0,400.0,500.0,600.0,500.0,400.0,200.0,400.0,350.0,400.0,700.0,400.0,200.0,350.0,250.0,250.0,400.0,600.0,200.0,400.0,200.0,400.0,500.0,500.0,350.0,300.0,300.0,1600.0,600.0,1700.0,1500.0,750.0,600.0,600.0,1800.0,850.0,1700.0,750.0,600.0,1000.0,800.0,500.0,500.0,500.0,700.0,500.0,550.0,600.0,600.0,500.0,1800.0,1300.0,400.0,450.0,700.0,250.0,1100.0,600.0,500.0,500.0,500.0,450.0,300.0,150.0,400.0,350.0,150.0,300.0,250.0,200.0,150.0,450.0,350.0,450.0,300.0,250.0,200.0,450.0,500.0,500.0,150.0,500.0,350.0,450.0,300.0,250.0,350.0,400.0,200.0,400.0,500.0,600.0,1800.0,2800.0,3500.0,3000.0,2100.0,2800.0,4000.0,1000.0,1000.0,1700.0,2200.0,2500.0,3000.0,1000.0,1400.0,1000.0,2500.0,3500.0,2000.0,550.0,600.0,3000.0,2400.0,1500.0,6000.0,3000.0,2800.0,1200.0,1000.0,1500.0,1800.0,3000.0,2000.0,700.0,2000.0,700.0,450.0,400.0,150.0,3000.0,2500.0,3000.0,250.0,3000.0,400.0,550.0,150.0,1200.0,3000.0,400.0,1400.0,2400.0,700.0,1900.0,1000.0,450.0,500.0,500.0,400.0,300.0,700.0,2500.0,800.0,1300.0,1500.0,1400.0,1500.0,2000.0,1500.0,2100.0,1400.0,1300.0,1300.0,1400.0,1000.0,1500.0,1500.0,1400.0,1200.0,1100.0,1000.0,1200.0,1400.0,1300.0,1500.0,1100.0,1500.0,1400.0,750.0,1700.0,1600.0,1800.0,1500.0,1000.0,1200.0,1000.0,1600.0,1700.0,1300.0,1800.0,1000.0,1000.0,1800.0,2400.0,1500.0,2800.0,3000.0,3000.0,3000.0,1200.0,1400.0,2400.0,1400.0,1300.0,1000.0,2000.0,1200.0,1500.0,1500.0,2500.0,1400.0,1300.0,1300.0,1400.0,1100.0,1500.0,1500.0,800.0,1200.0,1100.0,1000.0,1200.0,1300.0,1500.0,1100.0,900.0,1500.0,1400.0,750.0,1700.0,1000.0,1200.0,1000.0,1700.0,1700.0,1300.0,1800.0,1000.0,1000.0,1400.0,1000.0,1800.0,1500.0,1200.0,1800.0,3000.0,1200.0,1400.0,1100.0,1000.0,950.0,1000.0,1500.0,750.0,600.0,550.0,1350.0,1200.0,1600.0,900.0,1600.0,1200.0,1000.0,800.0,1100.0,1000.0,800.0,600.0,800.0,900.0,1000.0,950.0,800.0,800.0,800.0,800.0,500.0,400.0,800.0,800.0,850.0,700.0,800.0,400.0,650.0,700.0,750.0,400.0,300.0,150.0,400.0,650.0,550.0,650.0,400.0,450.0,400.0,600.0,600.0,600.0,1000.0,600.0,600.0,500.0,600.0,600.0,650.0,400.0,550.0,400.0,700.0,500.0,600.0,700.0,600.0,650.0,600.0,400.0,500.0,500.0,700.0,500.0,500.0,250.0,300.0,200.0,300.0,400.0,400.0,450.0,900.0,400.0,450.0,400.0,400.0,150.0,500.0,300.0,500.0,150.0,800.0,600.0,600.0,200.0,500.0,550.0,250.0,300.0,400.0,400.0,200.0,300.0,500.0,200.0,450.0,600.0,800.0,250.0,500.0,400.0,400.0,200.0,400.0,250.0,300.0,700.0,400.0,400.0,200.0,600.0,600.0,800.0,600.0,500.0,300.0,400.0,700.0,150.0,550.0,150.0,300.0,100.0,300.0,800.0,300.0,300.0,350.0,400.0,400.0,500.0,800.0,750.0,600.0,500.0,350.0,400.0,300.0,400.0,700.0,500.0,100.0,200.0,600.0,500.0,450.0,250.0,800.0,300.0,300.0,750.0,650.0,200.0,800.0,1000.0,300.0,250.0,500.0,500.0,300.0,600.0,350.0,650.0,600.0,200.0,650.0,400.0,1200.0,300.0,700.0,200.0,250.0,400.0,400.0,300.0,400.0,1000.0,100.0,600.0,800.0,1000.0,400.0,1200.0,600.0,500.0,800.0,500.0,400.0,200.0,500.0,600.0,900.0,400.0,450.0,650.0,400.0,450.0,800.0,600.0,200.0,400.0,300.0,1600.0,500.0,400.0,650.0,800.0,500.0,600.0,300.0,600.0,500.0,800.0,800.0,250.0,500.0,1500.0,800.0,350.0,300.0,1600.0,400.0,500.0,600.0,250.0,500.0,250.0,300.0,400.0,400.0,200.0,600.0,250.0,200.0,500.0,350.0,800.0,300.0,1200.0,1200.0,450.0,300.0,600.0,800.0,500.0,400.0,400.0,400.0,600.0,1000.0,600.0,700.0,600.0,600.0,400.0,350.0,450.0,200.0,500.0,200.0,1000.0,600.0,500.0,500.0,800.0,900.0,400.0,150.0,400.0,500.0,800.0,800.0,200.0,750.0,500.0,450.0,700.0,230.0,600.0,650.0,1500.0,1500.0,200.0,700.0,800.0,500.0,500.0,200.0,500.0,300.0,250.0,1600.0,200.0,600.0,700.0,300.0,300.0,450.0,200.0,300.0,200.0,900.0,400.0,600.0,450.0,1100.0,500.0,400.0,300.0,1000.0,700.0,300.0,600.0,400.0,150.0,500.0,1200.0,200.0,1200.0,300.0,400.0,200.0,750.0,650.0,300.0,550.0,400.0,800.0,650.0,600.0,700.0,500.0,1200.0,600.0,700.0,800.0,600.0,700.0,300.0,500.0,800.0,150.0,250.0,250.0,100.0,1200.0,200.0,500.0,900.0,350.0,100.0,1200.0,800.0,1500.0,300.0,300.0,500.0,350.0,500.0,250.0,600.0,450.0,400.0,1500.0,500.0,300.0,800.0,1000.0,500.0,750.0,200.0,200.0,800.0,1300.0,700.0,300.0,1500.0,400.0,200.0,600.0,1000.0,400.0,600.0,450.0,450.0,1100.0,300.0,500.0,300.0,700.0,1000.0,400.0,400.0,650.0,800.0,500.0,400.0,400.0,600.0,1300.0,300.0,700.0,600.0,300.0,300.0,400.0,600.0,800.0,650.0,650.0,600.0,1200.0,300.0,200.0,800.0,500.0,500.0,750.0,1000.0,1100.0,400.0,400.0,200.0,800.0,300.0,600.0,650.0,600.0,100.0,400.0,300.0,400.0,800.0,450.0,400.0,900.0,400.0,350.0,400.0,1200.0,1100.0,600.0,800.0,400.0,600.0,750.0,400.0,700.0,250.0,350.0,400.0,400.0,700.0,400.0,500.0,750.0,800.0,400.0,300.0,600.0,950.0,550.0,900.0,400.0,1400.0,500.0,300.0,750.0,700.0,300.0,550.0,450.0,300.0,1000.0,700.0,600.0,900.0,600.0,600.0,500.0,600.0,1000.0,500.0,600.0,300.0,600.0,1500.0,650.0,250.0,1100.0,750.0,400.0,600.0,800.0,500.0,600.0,150.0,700.0,1500.0,300.0,750.0,750.0,600.0,500.0,800.0,500.0,150.0,700.0,1000.0,1200.0,350.0,600.0,150.0,350.0,400.0,800.0,800.0,350.0,300.0,400.0,1000.0,400.0,550.0,600.0,300.0,700.0,900.0,600.0,800.0,850.0,100.0,400.0,700.0,600.0,300.0,550.0,400.0,700.0,1500.0,1400.0,800.0,1350.0,800.0,1200.0,1350.0,550.0,650.0,750.0,800.0,600.0,600.0,400.0,1100.0,1300.0,900.0,250.0,500.0,900.0,700.0,150.0,700.0,1500.0,400.0,300.0,800.0,1300.0,700.0,900.0,1000.0,1000.0,300.0,300.0,1000.0,500.0,600.0,1000.0,800.0,450.0,800.0,400.0,600.0,600.0,650.0,550.0,1200.0,600.0,1200.0,800.0,550.0,700.0,450.0,900.0,500.0,300.0,500.0,500.0,450.0,550.0,550.0,600.0,600.0,450.0,1000.0,600.0,1000.0,1300.0,600.0,200.0,300.0,550.0,900.0,100.0,700.0,200.0,350.0,400.0,600.0,600.0,650.0,1200.0,800.0,650.0,1200.0,800.0,300.0,400.0,200.0,600.0,800.0,800.0,450.0,200.0,650.0,700.0,350.0,250.0,600.0,650.0,200.0,300.0,300.0,150.0,450.0,400.0,600.0,650.0,500.0,900.0,400.0,350.0,500.0,400.0,750.0,400.0,800.0,400.0,800.0,200.0,200.0,200.0,400.0,500.0,800.0,400.0,250.0,400.0,400.0,400.0,200.0,600.0,400.0,350.0,500.0,700.0,400.0,400.0,300.0,400.0,300.0,150.0,300.0,250.0,300.0,200.0,400.0,400.0,400.0,400.0,300.0,700.0,600.0,150.0,600.0,500.0,150.0,500.0,150.0,500.0,600.0,400.0,400.0,230.0,550.0,400.0,100.0,400.0,700.0,500.0,500.0,700.0,200.0,400.0,250.0,600.0,300.0,200.0,200.0,800.0,500.0,400.0,300.0,800.0,1100.0,700.0,1000.0,600.0,1200.0,950.0,800.0,1000.0,1500.0,800.0,650.0,350.0,800.0,800.0,1000.0,1700.0,700.0,1000.0,500.0,1500.0,400.0,750.0,550.0,900.0,600.0,750.0,1200.0,800.0,800.0,800.0,600.0,650.0,1200.0,1200.0,250.0,600.0,850.0,700.0,1000.0,800.0,400.0,1000.0,900.0,600.0,800.0,800.0,500.0,700.0,350.0,900.0,700.0,750.0,400.0,800.0,600.0,450.0,800.0,400.0,550.0,750.0,1350.0,600.0,450.0,750.0,750.0,1000.0,400.0,900.0,500.0,300.0,550.0,550.0,700.0,600.0,500.0,400.0,100.0,1350.0,650.0,400.0,1200.0,650.0,450.0,700.0,300.0,800.0,900.0,850.0,400.0,400.0,200.0,200.0,500.0,1200.0,400.0,150.0,200.0,100.0,400.0,600.0,400.0,200.0,500.0,600.0,400.0,100.0,400.0,500.0,200.0,200.0,400.0,300.0,400.0,200.0,400.0,250.0,300.0,200.0,400.0,150.0,250.0,500.0,350.0,200.0,350.0,650.0,300.0,600.0,400.0,550.0,1500.0,1600.0,1600.0,1200.0,1600.0,1200.0,1500.0,1500.0,1300.0,800.0,600.0,1000.0,800.0,800.0,1200.0,800.0,600.0,1000.0,800.0,800.0,1000.0,800.0,1000.0,800.0,1200.0,1100.0,1500.0,800.0,900.0,600.0,600.0,600.0,1000.0,700.0,700.0,800.0,300.0,1300.0,1300.0,600.0,1000.0,1000.0,800.0,600.0,500.0,500.0,600.0,500.0,300.0,650.0,1100.0,750.0,150.0,400.0,300.0,650.0,650.0,400.0,300.0,650.0,200.0,1000.0,550.0,600.0,250.0,450.0,800.0,900.0,900.0,400.0,400.0,350.0,1000.0,850.0,300.0,100.0,500.0,500.0,700.0,650.0,750.0,400.0,1100.0,400.0,300.0,600.0,300.0,600.0,450.0,450.0,500.0,150.0,150.0,700.0,400.0,1100.0,250.0,200.0,600.0,600.0,700.0,400.0,500.0,400.0,500.0,600.0,600.0,400.0,650.0,600.0,400.0,950.0,400.0,300.0,300.0,400.0,500.0,600.0,600.0,100.0,300.0,300.0,350.0,650.0,300.0,200.0,400.0,500.0,250.0,650.0,600.0,600.0,400.0,600.0,600.0,350.0,300.0,300.0,150.0,200.0,550.0,400.0,450.0,450.0,250.0,300.0,800.0,500.0,600.0,300.0,800.0,400.0,300.0,300.0,300.0,300.0,300.0,150.0,450.0,400.0,400.0,200.0,400.0,650.0,500.0,500.0,400.0,500.0,300.0,700.0,250.0,250.0,500.0,1000.0,1300.0,1200.0,1500.0,1200.0,1350.0,1000.0,1500.0,1500.0,900.0,1600.0,1200.0,1100.0,1200.0,1100.0,1500.0,1000.0,1300.0,1100.0,1100.0,800.0,1100.0,1600.0,1200.0,1000.0,800.0,1000.0,600.0,1000.0,800.0,900.0,1000.0,950.0,900.0,1000.0,1600.0,1000.0,1100.0,600.0,1200.0,1350.0,800.0,600.0,600.0,1000.0,600.0,600.0,700.0,800.0,550.0,650.0,600.0,400.0,600.0,450.0,550.0,700.0,400.0,500.0,500.0,400.0,500.0,600.0,800.0,500.0,850.0,500.0,650.0,500.0,300.0,400.0,750.0,400.0,550.0,650.0,600.0,400.0,400.0,700.0,500.0,250.0,300.0,450.0,600.0,900.0,800.0,400.0,300.0,500.0,400.0,500.0,400.0,200.0,200.0,400.0,600.0,300.0,700.0,400.0,250.0,400.0,600.0,250.0,300.0,400.0,450.0,300.0,250.0,300.0,200.0,400.0,350.0,800.0,250.0,200.0,300.0,150.0,400.0,600.0,350.0,300.0,600.0,300.0,550.0,100.0,750.0,300.0,300.0,500.0,200.0,300.0,700.0,500.0,400.0,400.0,400.0,650.0,800.0,300.0,500.0,400.0,500.0,600.0,750.0,800.0,400.0,250.0,350.0,600.0,500.0,200.0,400.0,200.0,300.0,250.0,600.0,500.0,250.0,1000.0,500.0,700.0,600.0,1200.0,300.0,400.0,400.0,650.0,700.0,400.0,400.0,200.0,400.0,600.0,400.0,400.0,100.0,750.0,400.0,250.0,1200.0,1000.0,900.0,400.0,600.0,800.0,900.0,400.0,400.0,450.0,400.0,700.0,300.0,650.0,350.0,300.0,400.0,300.0,800.0,600.0,300.0,500.0,300.0,300.0,500.0,700.0,400.0,500.0,1600.0,600.0,500.0,600.0,200.0,250.0,1500.0,500.0,300.0,600.0,400.0,400.0,350.0,500.0,1200.0,650.0,600.0,500.0,400.0,500.0,600.0,350.0,1200.0,200.0,200.0,500.0,450.0,600.0,400.0,800.0,400.0,600.0,750.0,1000.0,800.0,450.0,500.0,400.0,450.0,250.0,250.0,700.0,750.0,230.0,500.0,100.0,250.0,500.0,750.0,300.0,250.0,300.0,600.0,300.0,400.0,600.0,400.0,1100.0,700.0,1200.0,1200.0,750.0,400.0,500.0,1000.0,800.0,600.0,200.0,800.0,200.0,600.0,700.0,800.0,100.0,150.0,500.0,450.0,300.0,600.0,400.0,1000.0,200.0,350.0,600.0,700.0,500.0,400.0,250.0,400.0,800.0,500.0,250.0,1500.0,400.0,500.0,300.0,700.0,500.0,1300.0,300.0,300.0,300.0,300.0,450.0,650.0,800.0,400.0,800.0,500.0,600.0,1200.0,300.0,650.0,400.0,400.0,800.0,700.0,1100.0,400.0,400.0,650.0,900.0,1200.0,650.0,300.0,650.0,800.0,350.0,300.0,400.0,1300.0,400.0,1200.0,700.0,350.0,650.0,800.0,1100.0,550.0,400.0,500.0,750.0,400.0,900.0,300.0,700.0,450.0,650.0,500.0,300.0,1200.0,400.0,400.0,300.0,1000.0,200.0,200.0,400.0,500.0,200.0,800.0,750.0,500.0,900.0,300.0,700.0,700.0,500.0,600.0,350.0,150.0,800.0,750.0,1000.0,500.0,600.0,800.0,600.0,600.0,800.0,700.0,250.0,700.0,400.0,800.0,350.0,600.0,1700.0,300.0,400.0,600.0,400.0,700.0,500.0,200.0,700.0,600.0,600.0,1000.0,450.0,650.0,600.0,600.0,550.0,900.0,300.0,300.0,500.0,400.0,1200.0,450.0,650.0,800.0,800.0,400.0,600.0,1100.0,750.0,500.0,800.0,500.0,600.0,150.0,700.0,100.0,500.0,900.0,1000.0,800.0,400.0,1000.0,1700.0,1000.0,800.0,550.0,500.0,600.0,1200.0,600.0,600.0,450.0,350.0,800.0,550.0,500.0,650.0,800.0,450.0,1350.0,1000.0,600.0,550.0,500.0,600.0,1000.0,300.0,550.0,600.0,450.0,650.0,500.0,600.0,1350.0,300.0,500.0,200.0,800.0,500.0,400.0,200.0,500.0,450.0,400.0,550.0,300.0,750.0,900.0,250.0,400.0,500.0,500.0,900.0,700.0,600.0,500.0,300.0,400.0,600.0,500.0,400.0,500.0,400.0,550.0,200.0,200.0,200.0,250.0,600.0,500.0,500.0,400.0,600.0,250.0,800.0,400.0,100.0,500.0,300.0,400.0,200.0,400.0,400.0,400.0,800.0,400.0,500.0,400.0,600.0,300.0,400.0,700.0,150.0,300.0,500.0,400.0,300.0,250.0,200.0,400.0,400.0,300.0,230.0,300.0,1200.0,1500.0,1200.0,1600.0,1200.0,1600.0,1000.0,1500.0,1300.0,1200.0,1200.0,800.0,1300.0,800.0,1000.0,800.0,1500.0,800.0,600.0,750.0,1200.0,700.0,800.0,1100.0,900.0,800.0,550.0,1300.0,1100.0,600.0,1000.0,800.0,1200.0,1300.0,1100.0,600.0,1000.0,600.0,750.0,1000.0,1000.0,800.0,500.0,600.0,750.0,700.0,700.0,600.0,300.0,400.0,700.0,700.0,500.0,350.0,500.0,950.0,400.0,450.0,300.0,800.0,650.0,450.0,400.0,650.0,900.0,550.0,600.0,850.0,600.0,500.0,400.0,400.0,1000.0,400.0,600.0,1100.0,650.0,1000.0,500.0,450.0,950.0,600.0,650.0,500.0,700.0,550.0,750.0,450.0,400.0,750.0,750.0,500.0,800.0,650.0,800.0,600.0,700.0,750.0,300.0,500.0,500.0,300.0,300.0,400.0,700.0,300.0,400.0,300.0,400.0,100.0,450.0,500.0,500.0,400.0,400.0,500.0,200.0,500.0,450.0,100.0,250.0,400.0,250.0,200.0,400.0,600.0,300.0,300.0,200.0,600.0,350.0,200.0,150.0,300.0,800.0,300.0,200.0,400.0,300.0,900.0,1200.0,1500.0,1200.0,1000.0,800.0,1000.0,1000.0,550.0,800.0,1000.0,800.0,800.0,500.0,600.0,400.0,500.0,500.0,600.0,500.0,450.0,1000.0,600.0,650.0,600.0,800.0,800.0,750.0,250.0,400.0,400.0,250.0,350.0,600.0,400.0,600.0,600.0,1100.0,400.0,300.0,300.0,250.0,1600.0,450.0,1100.0,800.0,1000.0,1100.0,1000.0,800.0,800.0,500.0,800.0,650.0,1000.0,1700.0,250.0,1200.0,550.0,800.0,850.0,600.0,600.0,350.0,500.0,500.0,600.0,900.0,400.0,500.0,500.0,650.0,600.0,700.0,550.0,400.0,1350.0,1200.0,500.0,300.0,250.0,750.0,300.0,400.0,750.0,1000.0,200.0,100.0,300.0,400.0,700.0,500.0,200.0,300.0,400.0,150.0,500.0,450.0,700.0,300.0,300.0,500.0,600.0,200.0,400.0,500.0,500.0,500.0,400.0,400.0,800.0,300.0,350.0,300.0,200.0,500.0,400.0,550.0,550.0,650.0,600.0,400.0,500.0,400.0,350.0,250.0,450.0,550.0,250.0,300.0,300.0,300.0,1350.0,900.0,400.0,400.0,400.0,300.0,700.0,650.0,250.0,1000.0,1300.0,1500.0,1200.0,1600.0,1200.0,1500.0,1200.0,1200.0,1300.0,1100.0,1100.0,1000.0,1100.0,900.0,1200.0,1100.0,1350.0,1400.0,1400.0,1600.0,800.0,600.0,750.0,1500.0,800.0,1000.0,1400.0,750.0,800.0,900.0,1200.0,700.0,700.0,500.0,700.0,600.0,700.0,900.0,700.0,500.0,650.0,650.0,350.0,600.0,700.0,800.0,1000.0,800.0,650.0,500.0,500.0,500.0,550.0,500.0,400.0,450.0,350.0,300.0,400.0,800.0,400.0,800.0,600.0,400.0,300.0,350.0,450.0,600.0,200.0,300.0,300.0,400.0,600.0,600.0,650.0,100.0,400.0,450.0,600.0,300.0,500.0,400.0,500.0,750.0,650.0,400.0,400.0,450.0,400.0,300.0,600.0,500.0,600.0,550.0,400.0,500.0,700.0,1500.0,600.0,550.0,300.0,500.0,500.0,450.0,700.0,500.0,700.0,600.0,600.0,500.0,400.0,150.0,600.0,400.0,500.0,400.0,400.0,800.0,1300.0,750.0,400.0,250.0,900.0,1400.0,500.0,450.0,500.0,400.0,450.0,300.0,800.0,500.0,500.0,650.0,400.0,450.0,500.0,1200.0,600.0,650.0,500.0,200.0,350.0,1200.0,400.0,500.0,350.0,800.0,300.0,400.0,400.0,700.0,500.0,600.0,1050.0,500.0,750.0,600.0,800.0,750.0,500.0,600.0,1400.0,200.0,800.0,400.0,400.0,900.0,300.0,700.0,1500.0,300.0,700.0,550.0,300.0,500.0,650.0,800.0,300.0,750.0,500.0,500.0,350.0,400.0,1000.0,400.0,600.0,600.0,400.0,600.0,750.0,1400.0,250.0,250.0,800.0,150.0,800.0,250.0,1100.0,200.0,550.0,500.0,600.0,900.0,450.0,400.0,700.0,500.0,750.0,600.0,750.0,700.0,150.0,700.0,750.0,500.0,300.0,550.0,500.0,300.0,1400.0,800.0,800.0,650.0,750.0,1200.0,600.0,1800.0,700.0,500.0,400.0,600.0,400.0,900.0,400.0,700.0,1100.0,550.0,650.0,1000.0,1500.0,500.0,1000.0,600.0,1000.0,700.0,400.0,600.0,350.0,500.0,700.0,1000.0,500.0,600.0,500.0,800.0,1400.0,700.0,800.0,500.0,1300.0,650.0,600.0,400.0,1500.0,450.0,400.0,650.0,1000.0,550.0,800.0,500.0,700.0,600.0,800.0,1000.0,600.0,300.0,600.0,800.0,450.0,600.0,450.0,300.0,1200.0,500.0,250.0,300.0,650.0,600.0,700.0,350.0,500.0,250.0,300.0,300.0,400.0,300.0,1200.0,250.0,700.0,250.0,400.0,700.0,400.0,300.0,200.0,400.0,500.0,500.0,600.0,700.0,500.0,300.0,300.0,600.0,650.0,1000.0,400.0,400.0,800.0,350.0,400.0,300.0,150.0,500.0,650.0,450.0,150.0,1400.0,1800.0,1200.0,1400.0,1400.0,1400.0,1600.0,900.0,1100.0,800.0,800.0,600.0,800.0,1200.0,800.0,750.0,1000.0,700.0,800.0,1400.0,1300.0,1500.0,700.0,600.0,750.0,750.0,1500.0,1300.0,650.0,1400.0,800.0,1200.0,600.0,600.0,800.0,1100.0,700.0,500.0,700.0,1200.0,900.0,1000.0,1300.0,700.0,600.0,700.0,500.0,600.0,1000.0,400.0,600.0,400.0,800.0,600.0,900.0,600.0,700.0,800.0,400.0,500.0,750.0,650.0,500.0,650.0,500.0,750.0,800.0,700.0,600.0,600.0,1000.0,350.0,500.0,750.0,700.0,250.0,500.0,500.0,350.0,400.0,400.0,250.0,300.0,500.0,300.0,600.0,450.0,300.0,200.0,500.0,650.0,350.0,200.0,150.0,200.0,400.0,600.0,800.0,600.0,1500.0,450.0,800.0,1200.0,1500.0,600.0,600.0,1400.0,800.0,700.0,300.0,450.0,650.0,550.0,400.0,650.0,800.0,1400.0,700.0,750.0,700.0,650.0,750.0,600.0,1000.0,800.0,600.0,700.0,700.0,500.0,700.0,550.0,450.0,300.0,400.0,400.0,600.0,250.0,300.0,600.0,450.0,500.0,350.0,300.0,450.0,500.0,550.0,400.0,300.0,250.0,300.0,550.0,400.0,300.0,500.0,450.0,350.0,750.0,450.0,650.0,1100.0,700.0,1000.0,600.0,500.0,500.0,300.0,300.0,600.0,1050.0,200.0,250.0,600.0,500.0,600.0,600.0,500.0,200.0,600.0,400.0,400.0,1200.0,500.0,400.0,250.0,600.0,550.0,500.0,500.0,300.0,300.0,400.0,400.0,400.0,1400.0,1800.0,1400.0,1200.0,1300.0,1500.0,1200.0,1200.0,1300.0,1500.0,500.0,1100.0,1200.0,800.0,600.0,800.0,1000.0,800.0,900.0,1200.0,700.0,700.0,500.0,700.0,700.0,500.0,600.0,700.0,500.0,900.0,700.0,500.0,650.0,450.0,550.0,350.0,650.0,700.0,500.0,400.0,450.0,350.0,350.0,600.0,500.0,400.0,300.0,750.0,300.0,250.0,400.0,600.0,300.0,800.0,800.0,450.0,300.0,400.0,400.0,500.0,650.0,500.0,400.0,600.0,300.0,400.0,450.0,300.0,750.0,100.0,600.0,200.0,600.0,300.0,400.0,400.0,450.0,400.0,400.0,400.0,500.0,750.0,650.0,750.0,500.0,400.0,700.0,300.0,1500.0,1400.0,500.0,400.0,150.0,350.0,700.0,700.0,500.0,450.0,400.0,700.0,500.0,600.0,200.0,400.0,600.0,800.0,450.0,500.0,500.0,400.0,600.0,300.0,600.0,500.0,600.0,1300.0,300.0,800.0,150.0,650.0,400.0,250.0,650.0,750.0,500.0,600.0,1200.0,650.0,500.0,550.0,300.0,450.0,600.0,400.0,1400.0,350.0,600.0,700.0,400.0,1400.0,700.0,700.0,500.0,450.0,1000.0,500.0,400.0,550.0,500.0,200.0,600.0,800.0,750.0,400.0,450.0,400.0,650.0,1000.0,800.0,700.0,500.0,500.0,300.0,600.0,500.0,300.0,400.0,1300.0,300.0,600.0,700.0,450.0,200.0,750.0,650.0,500.0,1500.0,500.0,350.0,450.0,500.0,750.0,800.0,600.0,300.0,400.0,400.0,900.0,900.0,450.0,600.0,1000.0,150.0,1000.0,550.0,600.0,750.0,500.0,350.0,600.0,500.0,550.0,800.0,600.0,300.0,400.0,800.0,600.0,250.0,400.0,600.0,700.0,350.0,800.0,600.0,450.0,500.0,500.0,250.0,600.0,300.0,1100.0,500.0,500.0,700.0,550.0,250.0,400.0,700.0,800.0,500.0,600.0,600.0,500.0,400.0,900.0,500.0,800.0,1050.0,650.0,700.0,400.0,750.0,1500.0,400.0,1000.0,400.0,400.0,600.0,800.0,700.0,700.0,800.0,450.0,1200.0,1100.0,800.0,300.0,500.0,800.0,1400.0,850.0,800.0,300.0,1400.0,500.0,500.0,400.0,550.0,1000.0,200.0,1200.0,300.0,600.0,200.0,1800.0,800.0,900.0,1200.0,750.0,500.0,600.0,500.0,200.0,500.0,700.0,400.0,100.0,350.0,300.0,650.0,700.0,300.0,600.0,400.0,650.0,1000.0,300.0,250.0,700.0,1200.0,800.0,400.0,350.0,400.0,150.0,400.0,700.0,400.0,400.0,300.0,200.0,400.0,500.0,500.0,600.0,700.0,400.0,450.0,300.0,500.0,300.0,300.0,300.0,150.0,600.0,650.0,1000.0,650.0,500.0,100.0,500.0,600.0,800.0,600.0,1500.0,450.0,800.0,1200.0,600.0,800.0,1400.0,300.0,450.0,650.0,550.0,400.0,800.0,550.0,1400.0,700.0,750.0,700.0,750.0,800.0,600.0,700.0,700.0,500.0,700.0,600.0,550.0,450.0,300.0,250.0,400.0,400.0,600.0,250.0,300.0,450.0,600.0,500.0,350.0,450.0,500.0,600.0,400.0,300.0,300.0,550.0,400.0,300.0,500.0,450.0,1400.0,1400.0,1800.0,2000.0,1600.0,900.0,1100.0,800.0,800.0,800.0,1200.0,800.0,1200.0,350.0,800.0,750.0,1000.0,700.0,400.0,800.0,1400.0,1400.0,750.0,1500.0,1300.0,700.0,600.0,450.0,750.0,750.0,1500.0,1500.0,600.0,1300.0,200.0,650.0,700.0,1400.0,800.0,1100.0,1200.0,700.0,1000.0,600.0,600.0,800.0,800.0,1100.0,650.0,700.0,500.0,600.0,700.0,1200.0,500.0,900.0,650.0,500.0,1000.0,1300.0,600.0,600.0,600.0,500.0,600.0,1000.0,600.0,400.0,600.0,800.0,500.0,600.0,900.0,600.0,700.0,1050.0,800.0,1300.0,400.0,500.0,600.0,600.0,600.0,750.0,500.0,600.0,650.0,1200.0,500.0,400.0,500.0,450.0,650.0,500.0,750.0,800.0,600.0,700.0,500.0,550.0,600.0,1000.0,350.0,500.0,750.0,700.0,250.0,500.0,300.0,500.0,400.0,200.0,250.0,400.0,250.0,200.0,300.0,500.0,450.0,300.0,300.0,500.0,200.0,600.0,300.0,400.0,450.0,300.0,200.0,400.0,250.0,500.0,650.0,500.0,500.0,400.0,300.0,200.0,300.0,400.0,150.0,400.0,400.0,500.0,300.0,700.0,400.0,1400.0,1800.0,2000.0,500.0,1200.0,1500.0,1300.0,1500.0,1100.0,1200.0,1200.0,1300.0,1200.0,1300.0,1500.0,1400.0,600.0,1000.0,1700.0,1500.0,2000.0,1200.0,1000.0,1500.0,1600.0,1500.0,1300.0,1500.0,1500.0,2000.0,1500.0,750.0,900.0,1100.0,1100.0,600.0,1000.0,1400.0,700.0,800.0,2000.0,1000.0,900.0,1000.0,3000.0,1000.0,1200.0,1500.0,800.0,400.0,600.0,800.0,1100.0,1000.0,800.0,600.0,600.0,800.0,600.0,850.0,700.0,700.0,700.0,650.0,650.0,500.0,300.0,450.0,900.0,800.0,1300.0,500.0,400.0,600.0,600.0,600.0,900.0,500.0,1000.0,600.0,900.0,800.0,800.0,900.0,1000.0,800.0,700.0,550.0,700.0,600.0,800.0,700.0,800.0,300.0,700.0,900.0,600.0,1200.0,600.0,650.0,800.0,200.0,1200.0,900.0,650.0,700.0,600.0,700.0,450.0,350.0,500.0,400.0,800.0,600.0,600.0,600.0,600.0,600.0,800.0,500.0,450.0,600.0,250.0,700.0,600.0,1600.0,750.0,900.0,700.0,800.0,450.0,600.0,600.0,500.0,500.0,300.0,250.0,800.0,450.0,400.0,900.0,500.0,800.0,100.0,600.0,800.0,200.0,400.0,450.0,500.0,300.0,250.0,400.0,500.0,500.0,200.0,600.0,200.0,650.0,600.0,400.0,250.0,150.0,600.0,300.0,400.0,400.0,300.0,400.0,250.0,250.0,300.0,550.0,400.0,300.0,600.0,400.0,750.0,250.0,450.0,600.0,400.0,500.0,600.0,400.0,700.0,400.0,150.0,750.0,300.0,250.0,400.0,350.0,300.0,400.0,400.0,650.0,300.0,800.0,600.0,200.0,550.0,500.0,500.0,400.0,300.0,450.0,650.0,300.0,400.0,150.0,800.0,500.0,500.0,150.0,200.0,750.0,250.0,350.0,500.0,350.0,600.0,500.0,600.0,200.0,650.0,300.0,300.0,300.0,500.0,800.0,500.0,300.0,100.0,750.0,600.0,500.0,300.0,300.0,300.0,500.0,600.0,800.0,400.0,400.0,250.0,200.0,300.0,300.0,700.0,700.0,1000.0,400.0,400.0,500.0,450.0,300.0,400.0,700.0,400.0,450.0,550.0,400.0,600.0,600.0,600.0,400.0,400.0,300.0,600.0,450.0,300.0,450.0,300.0,400.0,650.0,400.0,300.0,1000.0,450.0,600.0,200.0,700.0,300.0,600.0,800.0,600.0,400.0,800.0,400.0,1200.0,700.0,800.0,500.0,200.0,500.0,500.0,1200.0,750.0,400.0,350.0,300.0,550.0,750.0,300.0,800.0,250.0,1500.0,500.0,400.0,350.0,250.0,400.0,400.0,600.0,200.0,600.0,800.0,1000.0,600.0,650.0,600.0,1000.0,250.0,750.0,400.0,400.0,600.0,150.0,800.0,350.0,600.0,600.0,500.0,600.0,800.0,300.0,450.0,500.0,450.0,600.0,400.0,400.0,450.0,1000.0,600.0,900.0,1200.0,300.0,800.0,750.0,400.0,550.0,550.0,200.0,300.0,600.0,600.0,750.0,500.0,500.0,600.0,400.0,400.0,350.0,500.0,600.0,450.0,400.0,400.0,250.0,800.0,300.0,1300.0,150.0,500.0,600.0,900.0,500.0,200.0,500.0,1500.0,300.0,500.0,200.0,500.0,500.0,230.0,400.0,500.0,300.0,250.0,1500.0,300.0,750.0,300.0,200.0,700.0,900.0,400.0,1600.0,300.0,900.0,500.0,200.0,500.0,500.0,600.0,1200.0,300.0,600.0,400.0,500.0,700.0,150.0,300.0,1000.0,700.0,200.0,700.0,180.0,450.0,400.0,40.0,200.0,200.0,600.0,700.0,600.0,650.0,650.0,700.0,1000.0,300.0,600.0,200.0,550.0,1800.0,250.0,800.0,950.0,850.0,750.0,250.0,900.0,650.0,1000.0,1500.0,1500.0,300.0,500.0,600.0,300.0,250.0,1000.0,1400.0,400.0,1200.0,800.0,600.0,1200.0,700.0,1400.0,300.0,1000.0,500.0,700.0,250.0,750.0,800.0,350.0,800.0,400.0,500.0,200.0,300.0,400.0,300.0,650.0,1500.0,350.0,700.0,1300.0,1500.0,500.0,700.0,500.0,500.0,800.0,650.0,300.0,600.0,1000.0,500.0,300.0,350.0,850.0,300.0,1300.0,500.0,700.0,600.0,600.0,1100.0,450.0,600.0,600.0,600.0,600.0,700.0,600.0,250.0,700.0,800.0,600.0,400.0,400.0,700.0,450.0,1200.0,500.0,150.0,1000.0,900.0,600.0,800.0,500.0,800.0,700.0,350.0,1000.0,1400.0,400.0,700.0,800.0,400.0,1100.0,350.0,250.0,400.0,400.0,900.0,650.0,250.0,400.0,400.0,200.0,500.0,700.0,600.0,500.0,1000.0,200.0,1500.0,900.0,1200.0,450.0,450.0,600.0,400.0,450.0,400.0,300.0,750.0,400.0,600.0,250.0,600.0,1200.0,800.0,600.0,400.0,500.0,500.0,400.0,600.0,750.0,500.0,600.0,400.0,1200.0,400.0,400.0,700.0,300.0,600.0,1000.0,550.0,800.0,400.0,350.0,350.0,1500.0,600.0,1000.0,400.0,400.0,400.0,450.0,800.0,800.0,500.0,1200.0,650.0,500.0,750.0,900.0,300.0,600.0,600.0,1000.0,900.0,300.0,700.0,1000.0,800.0,300.0,900.0,250.0,600.0,250.0,1000.0,600.0,600.0,550.0,900.0,600.0,1500.0,300.0,800.0,350.0,250.0,650.0,500.0,800.0,1400.0,450.0,700.0,750.0,600.0,700.0,400.0,400.0,400.0,800.0,450.0,1300.0,400.0,800.0,350.0,700.0,1300.0,700.0,550.0,500.0,500.0,500.0,1100.0,300.0,500.0,800.0,600.0,900.0,2500.0,500.0,400.0,1700.0,350.0,700.0,150.0,300.0,600.0,400.0,900.0,400.0,400.0,500.0,600.0,450.0,350.0,800.0,650.0,1100.0,150.0,500.0,300.0,500.0,450.0,600.0,800.0,400.0,600.0,600.0,500.0,400.0,300.0,700.0,600.0,800.0,300.0,1100.0,200.0,1300.0,500.0,1000.0,1200.0,1000.0,800.0,600.0,650.0,1000.0,1600.0,2000.0,1400.0,900.0,600.0,400.0,800.0,1300.0,600.0,200.0,1400.0,400.0,500.0,350.0,800.0,900.0,700.0,400.0,650.0,150.0,650.0,1200.0,300.0,200.0,350.0,200.0,200.0,400.0,500.0,250.0,200.0,150.0,500.0,250.0,350.0,150.0,1000.0,1100.0,200.0,400.0,500.0,600.0,550.0,500.0,300.0,200.0,400.0,650.0,300.0,800.0,350.0,500.0,250.0,900.0,200.0,350.0,800.0,900.0,400.0,500.0,550.0,1500.0,700.0,450.0,450.0,2000.0,350.0,1300.0,600.0,500.0,600.0,600.0,400.0,500.0,800.0,1100.0,550.0,1100.0,400.0,400.0,400.0,450.0,650.0,500.0,300.0,400.0,500.0,650.0,200.0,400.0,900.0,400.0,400.0,250.0,400.0,1200.0,500.0,350.0,200.0,250.0,500.0,700.0,200.0,400.0,500.0,300.0,700.0,800.0,150.0,350.0,200.0,200.0,400.0,500.0,200.0,400.0,250.0,400.0,500.0,600.0,450.0,500.0,150.0,200.0,350.0,250.0,500.0,200.0,300.0,400.0,300.0,400.0,500.0,800.0,200.0,400.0,400.0,200.0,350.0,500.0,150.0,350.0,1000.0,1200.0,2100.0,600.0,1800.0,600.0,1400.0,1200.0,800.0,1200.0,1400.0,1300.0,1300.0,600.0,1000.0,800.0,850.0,650.0,1500.0,750.0,800.0,800.0,700.0,1700.0,750.0,1000.0,700.0,750.0,700.0,1500.0,800.0,1200.0,600.0,650.0,1500.0,650.0,500.0,450.0,1300.0,1000.0,250.0,250.0,800.0,450.0,600.0,450.0,400.0,500.0,400.0,400.0,400.0,600.0,600.0,400.0,1400.0,900.0,2000.0,1500.0,2000.0,1000.0,1100.0,1500.0,1200.0,1300.0,1400.0,900.0,1300.0,1600.0,1600.0,700.0,750.0,800.0,1000.0,1000.0,1500.0,1600.0,1500.0,1500.0,1200.0,1800.0,600.0,1300.0,600.0,1500.0,1400.0,1300.0,1500.0,1000.0,600.0,1500.0,1200.0,800.0,500.0,1000.0,1000.0,1400.0,400.0,600.0,1400.0,1200.0,1400.0,600.0,2500.0,650.0,2000.0,1100.0,1500.0,600.0,900.0,750.0,1200.0,1000.0,500.0,1000.0,1000.0,900.0,600.0,1200.0,1500.0,800.0,600.0,1200.0,800.0,800.0,800.0,900.0,1000.0,1000.0,750.0,700.0,550.0,1100.0,550.0,900.0,1100.0,700.0,500.0,1100.0,650.0,650.0,600.0,600.0,1200.0,600.0,800.0,1000.0,500.0,700.0,650.0,750.0,1200.0,800.0,800.0,850.0,800.0,1400.0,1000.0,700.0,700.0,900.0,600.0,650.0,600.0,750.0,1200.0,800.0,600.0,900.0,650.0,1500.0,800.0,1000.0,750.0,1000.0,800.0,500.0,500.0,800.0,200.0,1100.0,1000.0,750.0,1200.0,650.0,700.0,600.0,1400.0,1400.0,700.0,1300.0,750.0,500.0,800.0,700.0,650.0,700.0,1200.0,600.0,750.0,650.0,1700.0,2000.0,700.0,600.0,450.0,150.0,250.0,1000.0,700.0,350.0,800.0,500.0,900.0,250.0,800.0,550.0,600.0,600.0,500.0,800.0,1000.0,500.0,1300.0,250.0,600.0,1000.0,600.0,600.0,750.0,600.0,600.0,500.0,600.0,500.0,400.0,800.0,600.0,1000.0,250.0,500.0,500.0,800.0,700.0,450.0,800.0,700.0,650.0,600.0,400.0,1500.0,600.0,500.0,800.0,500.0,350.0,500.0,900.0,700.0,700.0,500.0,750.0,1200.0,600.0,600.0,400.0,600.0,400.0,500.0,400.0,200.0,350.0,350.0,550.0,300.0,450.0,250.0,400.0,300.0,400.0,200.0,200.0,450.0,250.0,500.0,600.0,500.0,200.0,400.0,600.0,500.0,450.0,300.0,250.0,300.0,250.0,200.0,900.0,250.0,300.0,400.0,600.0,500.0,500.0,400.0,300.0,500.0,400.0,300.0,200.0,500.0,200.0,400.0,300.0,200.0,500.0,350.0,400.0,300.0,300.0,200.0,200.0,600.0,600.0,500.0,600.0,500.0,300.0,200.0,250.0,400.0,300.0,400.0,300.0,600.0,400.0,350.0,300.0,300.0,500.0,550.0,200.0,150.0,450.0,300.0,300.0,400.0,450.0,550.0,300.0,200.0,400.0,350.0,300.0,250.0,400.0,250.0,200.0,800.0,100.0,1200.0,850.0,800.0,1200.0,1600.0,3000.0,1000.0,750.0,1200.0,1200.0,900.0,1700.0,1250.0,700.0,800.0,800.0,800.0,600.0,1500.0,800.0,550.0,650.0,300.0,700.0,1800.0,600.0,900.0,2000.0,800.0,800.0,800.0,800.0,450.0,1300.0,700.0,150.0,400.0,700.0,600.0,1000.0,200.0,900.0,3000.0,600.0,550.0,650.0,1000.0,450.0,400.0,350.0,300.0,600.0,150.0,1200.0,550.0,350.0,800.0,500.0,400.0,400.0,400.0,900.0,800.0,200.0,500.0,600.0,500.0,600.0,600.0,300.0,1800.0,1000.0,500.0,600.0,350.0,600.0,350.0,500.0,300.0,400.0,300.0,1000.0,1100.0,300.0,600.0,500.0,250.0,300.0,400.0,650.0,350.0,300.0,500.0,250.0,400.0,400.0,600.0,300.0,700.0,1400.0,1200.0,1200.0,1800.0,1200.0,1400.0,1300.0,1500.0,1200.0,1500.0,1300.0,2000.0,1500.0,2000.0,1000.0,1100.0,1600.0,2100.0,1600.0,1000.0,1000.0,1500.0,1800.0,1400.0,1000.0,1200.0,1000.0,1200.0,1400.0,2000.0,1200.0,1200.0,1000.0,1400.0,1000.0,1500.0,1000.0,1400.0,1400.0,1300.0,1200.0,1700.0,1300.0,1500.0,1200.0,1200.0,850.0,1600.0,1200.0,1700.0,1400.0,1200.0,1300.0,2000.0,1500.0,1300.0,1500.0,750.0,1100.0,1400.0,700.0,1000.0,1000.0,600.0,1600.0,1500.0,1500.0,1500.0,2000.0,1500.0,1000.0,900.0,1100.0,600.0,1700.0,1500.0,1000.0,800.0,2000.0,1000.0,900.0,1300.0,800.0,900.0,800.0,1300.0,600.0,600.0,900.0,500.0,900.0,800.0,800.0,900.0,800.0,600.0,800.0,300.0,1200.0,650.0,1200.0,450.0,800.0,600.0,300.0,600.0,800.0,650.0,700.0,600.0,600.0,800.0,500.0,400.0,600.0,1000.0,600.0,600.0,1000.0,850.0,1000.0,700.0,500.0,450.0,800.0,800.0,250.0,300.0,200.0,450.0,400.0,900.0,500.0,250.0,400.0,800.0,400.0,600.0,400.0,500.0,600.0,300.0,600.0,400.0,650.0,500.0,250.0,450.0,300.0,250.0,200.0,450.0,400.0,500.0,300.0,300.0,650.0,150.0,400.0,400.0,200.0,250.0,150.0,250.0,250.0,550.0,400.0,600.0,400.0,400.0,300.0,600.0,400.0,750.0,600.0,300.0,300.0,350.0,400.0,900.0,600.0,700.0,600.0,400.0,400.0,600.0,650.0,250.0,400.0,250.0,150.0,800.0,650.0,300.0,500.0,300.0,400.0,500.0,800.0,300.0,500.0,750.0,300.0,500.0,800.0,600.0,500.0,600.0,400.0,350.0,400.0,650.0,300.0,550.0,500.0,450.0,300.0,600.0,150.0,750.0,300.0,500.0,500.0,650.0,400.0,750.0,200.0,600.0,200.0,600.0,500.0,400.0,200.0,450.0,250.0,400.0,700.0,400.0,600.0,800.0,250.0,400.0,450.0,400.0,800.0,300.0,700.0,100.0,600.0,650.0,600.0,600.0,400.0,600.0,400.0,450.0,400.0,550.0,700.0,500.0,400.0,300.0,400.0,800.0,200.0,600.0,300.0,500.0,500.0,600.0,1500.0,300.0,550.0,350.0,800.0,600.0,200.0,600.0,600.0,500.0,600.0,1000.0,600.0,300.0,300.0,200.0,800.0,400.0,1000.0,450.0,300.0,800.0,400.0,650.0,400.0,300.0,750.0,300.0,600.0,400.0,300.0,300.0,1200.0,250.0,500.0,300.0,400.0,250.0,400.0,800.0,450.0,800.0,600.0,500.0,600.0,300.0,300.0,250.0,450.0,350.0,500.0,1200.0,1300.0,800.0,600.0,500.0,1000.0,400.0,750.0,300.0,450.0,550.0,900.0,200.0,500.0,1500.0,400.0,600.0,400.0,600.0,400.0,300.0,450.0,1200.0,500.0,700.0,200.0,700.0,200.0,1000.0,1000.0,300.0,600.0,400.0,600.0,600.0,500.0,300.0,600.0,700.0,500.0,1000.0,500.0,600.0,350.0,500.0,650.0,700.0,350.0,400.0,400.0,800.0,400.0,600.0,800.0,700.0,800.0,600.0,800.0,1300.0,700.0,500.0,250.0,1000.0,1000.0,500.0,300.0,500.0,400.0,300.0,200.0,750.0,700.0,750.0,600.0,300.0,400.0,900.0,1400.0,500.0,600.0,200.0,1000.0,500.0,1300.0,600.0,450.0,300.0,40.0,900.0,300.0,500.0,650.0,1200.0,150.0,250.0,1000.0,450.0,900.0,1000.0,500.0,600.0,1000.0,650.0,800.0,600.0,600.0,500.0,300.0,400.0,700.0,450.0,450.0,800.0,700.0,400.0,500.0,500.0,700.0,300.0,200.0,1000.0,200.0,200.0,300.0,400.0,700.0,1000.0,500.0,600.0,1000.0,600.0,900.0,500.0,500.0,350.0,230.0,1500.0,500.0,1200.0,1200.0,1100.0,650.0,900.0,900.0,250.0,700.0,650.0,2500.0,300.0,1500.0,200.0,1000.0,500.0,1000.0,450.0,500.0,500.0,400.0,1300.0,400.0,750.0,800.0,300.0,500.0,1000.0,700.0,800.0,300.0,400.0,1100.0,300.0,300.0,700.0,900.0,550.0,600.0,500.0,400.0,400.0,800.0,150.0,300.0,350.0,700.0,650.0,700.0,1600.0,600.0,1500.0,400.0,1500.0,750.0,250.0,400.0,650.0,150.0,750.0,750.0,200.0,250.0,750.0,250.0,1400.0,900.0,1200.0,200.0,300.0,600.0,800.0,700.0,600.0,450.0,400.0,900.0,600.0,300.0,1500.0,500.0,750.0,1000.0,1200.0,600.0,400.0,1000.0,1000.0,400.0,350.0,350.0,900.0,650.0,1500.0,600.0,400.0,900.0,1500.0,600.0,1200.0,400.0,1100.0,300.0,1500.0,400.0,800.0,1000.0,250.0,600.0,250.0,700.0,450.0,700.0,500.0,150.0,500.0,700.0,400.0,500.0,650.0,600.0,800.0,1300.0,300.0,300.0,700.0,900.0,1100.0,250.0,200.0,750.0,750.0,500.0,550.0,1700.0,500.0,200.0,350.0,800.0,1400.0,300.0,400.0,150.0,350.0,350.0,1200.0,1000.0,400.0,150.0,1200.0,400.0,900.0,600.0,600.0,500.0,400.0,1400.0,1000.0,250.0,300.0,600.0,600.0,250.0,400.0,400.0,1200.0,400.0,700.0,300.0,350.0,1100.0,600.0,200.0,500.0,650.0,400.0,500.0,400.0,400.0,500.0,400.0,600.0,600.0,600.0,800.0,800.0,500.0,200.0,350.0,400.0,300.0,500.0,600.0,800.0,650.0,300.0,150.0,450.0,300.0,400.0,200.0,300.0,600.0,400.0,600.0,300.0,500.0,700.0,400.0,800.0,300.0,500.0,800.0,500.0,700.0,200.0,700.0,600.0,1300.0,500.0,400.0,300.0,550.0,250.0,600.0,350.0,1400.0,2000.0,1100.0,550.0,700.0,600.0,800.0,850.0,650.0,700.0,800.0,800.0,650.0,300.0,200.0,350.0,800.0,600.0,200.0,500.0,500.0,200.0,400.0,500.0,250.0,400.0,200.0,700.0,600.0,450.0,250.0,150.0,500.0,350.0,400.0,600.0,550.0,1000.0,400.0,400.0,400.0,500.0,600.0,550.0,500.0,300.0,200.0,200.0,650.0,300.0,250.0,800.0,500.0,500.0,200.0,800.0,350.0,900.0,400.0,450.0,1500.0,200.0,900.0,500.0,400.0,1300.0,600.0,500.0,400.0,800.0,400.0,400.0,400.0,450.0,500.0,300.0,400.0,650.0,400.0,250.0,400.0,1200.0,500.0,350.0,500.0,200.0,400.0,350.0,400.0,200.0,200.0,400.0,400.0,200.0,350.0,250.0,200.0,400.0,800.0,2000.0,600.0,800.0,600.0,500.0,600.0,400.0,550.0,1100.0,500.0,1100.0,650.0,450.0,500.0,200.0,300.0,400.0,400.0,900.0,200.0,300.0,300.0,250.0,700.0,500.0,300.0,700.0,800.0,150.0,300.0,500.0,200.0,400.0,250.0,400.0,500.0,600.0,450.0,500.0,150.0,500.0,600.0,450.0,300.0,300.0,400.0,500.0,450.0,200.0,250.0,200.0,700.0,700.0,500.0,400.0,1200.0,1300.0,1200.0,1400.0,900.0,2000.0,1000.0,1500.0,1300.0,1400.0,1300.0,900.0,2100.0,1600.0,700.0,750.0,800.0,1000.0,1500.0,1500.0,1500.0,1800.0,1300.0,600.0,1400.0,1000.0,600.0,1200.0,800.0,1400.0,600.0,1400.0,600.0,650.0,900.0,750.0,1200.0,500.0,1000.0,900.0,1200.0,1500.0,800.0,800.0,1200.0,600.0,800.0,900.0,800.0,750.0,550.0,1100.0,650.0,600.0,600.0,500.0,750.0,1200.0,800.0,850.0,800.0,1000.0,700.0,600.0,750.0,1200.0,800.0,650.0,1500.0,1000.0,800.0,500.0,500.0,800.0,1200.0,700.0,1400.0,700.0,750.0,1300.0,750.0,700.0,450.0,150.0,350.0,800.0,550.0,800.0,1000.0,600.0,600.0,500.0,600.0,800.0,600.0,1000.0,500.0,600.0,650.0,500.0,900.0,700.0,500.0,400.0,200.0,350.0,400.0,200.0,500.0,600.0,200.0,600.0,750.0,500.0,250.0,500.0,300.0,250.0,600.0,200.0,300.0,300.0,450.0,250.0,800.0,2000.0,1500.0,1100.0,600.0,1600.0,1800.0,1200.0,1000.0,600.0,1600.0,1200.0,600.0,1400.0,1500.0,1000.0,1200.0,800.0,1500.0,1200.0,1500.0,1400.0,500.0,1000.0,400.0,1200.0,1400.0,1300.0,2500.0,2000.0,1100.0,1500.0,600.0,1300.0,1000.0,1000.0,600.0,1000.0,600.0,800.0,850.0,1000.0,650.0,1000.0,700.0,1500.0,550.0,750.0,800.0,1100.0,900.0,700.0,800.0,500.0,700.0,650.0,1100.0,600.0,1200.0,800.0,1000.0,700.0,650.0,800.0,1700.0,1400.0,750.0,1000.0,900.0,900.0,650.0,600.0,600.0,700.0,750.0,700.0,900.0,1500.0,800.0,1000.0,800.0,200.0,1200.0,1100.0,1000.0,750.0,600.0,650.0,600.0,1400.0,500.0,500.0,800.0,650.0,650.0,700.0,1200.0,750.0,600.0,650.0,1700.0,2000.0,700.0,600.0,250.0,1000.0,1500.0,700.0,500.0,900.0,250.0,600.0,600.0,800.0,500.0,1000.0,500.0,500.0,1300.0,250.0,600.0,600.0,750.0,600.0,450.0,1300.0,500.0,400.0,1000.0,500.0,250.0,250.0,800.0,800.0,700.0,450.0,800.0,700.0,650.0,400.0,1500.0,600.0,500.0,800.0,500.0,350.0,700.0,500.0,1200.0,600.0,450.0,600.0,400.0,600.0,400.0,350.0,550.0,600.0,300.0,450.0,250.0,400.0,300.0,450.0,200.0,450.0,250.0,500.0,400.0,450.0,300.0,250.0,500.0,300.0,200.0,400.0,900.0,300.0,400.0,250.0,600.0,500.0,400.0,500.0,400.0,400.0,300.0,200.0,500.0,200.0,400.0,300.0,200.0,500.0,300.0,350.0,400.0,300.0,300.0,400.0,200.0,600.0,500.0,600.0,500.0,200.0,400.0,400.0,300.0,300.0,400.0,600.0,350.0,300.0,600.0,500.0,550.0,200.0,150.0,600.0,300.0,300.0,400.0,450.0,550.0,300.0,200.0,350.0,300.0,400.0,400.0,250.0,200.0,100.0,1300.0,800.0,900.0,900.0,800.0,800.0,300.0,700.0,1100.0,650.0,900.0,800.0,800.0,1300.0,400.0,600.0,400.0,500.0,800.0,600.0,1000.0,200.0,500.0,600.0,900.0,1000.0,400.0,350.0,700.0,150.0,700.0,900.0,800.0,600.0,300.0,200.0,600.0,400.0,500.0,600.0,300.0,200.0,500.0,600.0,250.0,200.0,350.0,500.0,300.0,400.0,300.0,1000.0,300.0,600.0,500.0,600.0,250.0,300.0,550.0,350.0,400.0,400.0,650.0,300.0,500.0,250.0,400.0,400.0,200.0,500.0,300.0,700.0,200.0,1500.0,1800.0,1000.0,2000.0,2100.0,1600.0,1000.0,1400.0,1000.0,1200.0,1200.0,1000.0,1500.0,1000.0,1400.0,1300.0,2000.0,1500.0,1100.0,1600.0,1800.0,1200.0,1000.0,1400.0,1200.0,1200.0,1400.0,1000.0,1200.0,1400.0,2000.0,1300.0,1200.0,1000.0,1400.0,1500.0,1200.0,1400.0,1200.0,1700.0,1500.0,1300.0,1300.0,1500.0,1200.0,1100.0,2100.0,1000.0,1000.0,1400.0,1000.0,1500.0,1300.0,1400.0,1500.0,1800.0,1200.0,1500.0,1200.0,1000.0,1200.0,1000.0,1300.0,1100.0,1600.0,1800.0,1200.0,1200.0,1500.0,1200.0,1200.0,1400.0,1000.0,1200.0,1400.0,1300.0,800.0,1200.0,1000.0,1400.0,1500.0,1000.0,1200.0,1400.0,1200.0,1700.0,1500.0,1300.0,1300.0,1500.0,1100.0,1300.0,1300.0,2000.0,1400.0,2000.0,600.0,1000.0,900.0,1500.0,1200.0,1500.0,1300.0,1000.0,600.0,1500.0,1500.0,1500.0,1500.0,1100.0,750.0,900.0,1700.0,1000.0,700.0,1500.0,1400.0,800.0,1000.0,2000.0,1000.0,1500.0,800.0,1100.0,1000.0,500.0,600.0,600.0,800.0,700.0,700.0,400.0,600.0,600.0,450.0,250.0,900.0,600.0,800.0,600.0,1300.0,800.0,400.0,600.0,600.0,600.0,1000.0,800.0,1000.0,900.0,600.0,500.0,800.0,900.0,800.0,550.0,800.0,900.0,850.0,900.0,300.0,700.0,700.0,600.0,700.0,800.0,800.0,1200.0,600.0,1200.0,650.0,700.0,900.0,450.0,200.0,700.0,650.0,600.0,600.0,600.0,800.0,700.0,650.0,350.0,500.0,700.0,300.0,600.0,500.0,700.0,500.0,800.0,600.0,600.0,450.0,900.0,1600.0,600.0,500.0,500.0,450.0,500.0,450.0,800.0,400.0,800.0,300.0,900.0,200.0,250.0,400.0,250.0,300.0,600.0,400.0,400.0,650.0,500.0,600.0,500.0,600.0,600.0,400.0,800.0,500.0,400.0,300.0,300.0,600.0,200.0,500.0,300.0,150.0,300.0,400.0,600.0,400.0,550.0,750.0,150.0,450.0,650.0,500.0,400.0,400.0,300.0,500.0,400.0,400.0,600.0,600.0,800.0,700.0,250.0,400.0,700.0,250.0,800.0,250.0,250.0,750.0,350.0,600.0,600.0,600.0,200.0,350.0,600.0,1000.0,400.0,700.0,400.0,300.0,500.0,400.0,500.0,650.0,500.0,300.0,500.0,300.0,500.0,1000.0,200.0,750.0,400.0,350.0,800.0,400.0,450.0,300.0,500.0,400.0,600.0,550.0,600.0,650.0,300.0,500.0,150.0,300.0,600.0,250.0,500.0,600.0,500.0,800.0,250.0,600.0,600.0,800.0,750.0,300.0,600.0,600.0,450.0,750.0,450.0,500.0,400.0,200.0,250.0,700.0,500.0,300.0,400.0,800.0,600.0,400.0,300.0,400.0,200.0,800.0,1500.0,800.0,300.0,200.0,450.0,300.0,450.0,500.0,500.0,400.0,400.0,550.0,450.0,1000.0,600.0,300.0,550.0,300.0,650.0,500.0,500.0,1200.0,650.0,400.0,200.0,450.0,300.0,500.0,400.0,600.0,500.0,1600.0,600.0,300.0,800.0,300.0,400.0,40.0,500.0,500.0,600.0,400.0,400.0,300.0,800.0,900.0,600.0,1800.0,300.0,400.0,800.0,500.0,650.0,300.0,700.0,450.0,300.0,500.0,200.0,800.0,500.0,500.0,300.0,300.0,350.0,600.0,800.0,400.0,350.0,600.0,350.0,200.0,700.0,1000.0,1200.0,1500.0,350.0,1300.0,600.0,450.0,1200.0,650.0,400.0,500.0,400.0,400.0,1000.0,600.0,600.0,400.0,250.0,1000.0,250.0,300.0,500.0,500.0,600.0,450.0,600.0,1300.0,400.0,600.0,300.0,800.0,300.0,1000.0,500.0,300.0,400.0,800.0,600.0,300.0,500.0,1000.0,600.0,450.0,1600.0,600.0,400.0,800.0,400.0,1300.0,650.0,800.0,200.0,300.0,700.0,250.0,600.0,700.0,600.0,500.0,500.0,600.0,700.0,600.0,400.0,1100.0,750.0,1500.0,400.0,230.0,800.0,500.0,700.0,1500.0,400.0,300.0,300.0,2500.0,600.0,300.0,500.0,1500.0,900.0,700.0,200.0,600.0,600.0,500.0,900.0,900.0,500.0,400.0,600.0,200.0,500.0,1000.0,1200.0,200.0,400.0,500.0,250.0,700.0,500.0,300.0,250.0,600.0,650.0,650.0,500.0,250.0,1200.0,1200.0,800.0,400.0,500.0,1500.0,150.0,700.0,1000.0,350.0,1000.0,700.0,900.0,750.0,700.0,300.0,650.0,500.0,700.0,400.0,400.0,500.0,800.0,400.0,1000.0,1500.0,300.0,600.0,100.0,1000.0,800.0,700.0,700.0,400.0,350.0,350.0,450.0,200.0,400.0,900.0,450.0,300.0,300.0,300.0,600.0,1000.0,1000.0,550.0,200.0,500.0,1500.0,1000.0,400.0,600.0,900.0,150.0,1400.0,750.0,400.0,900.0,300.0,1200.0,600.0,400.0,500.0,1500.0,450.0,450.0,200.0,1100.0,500.0,1700.0,600.0,400.0,350.0,250.0,600.0,700.0,600.0,400.0,400.0,600.0,750.0,600.0,250.0,2000.0,500.0,1500.0,700.0,1000.0,700.0,1300.0,500.0,500.0,800.0,800.0,500.0,600.0,300.0,700.0,450.0,750.0,350.0,150.0,300.0,1200.0,600.0,1200.0,400.0,300.0,1100.0,700.0,300.0,650.0,700.0,300.0,650.0,400.0,1100.0,900.0,450.0,550.0,400.0,750.0,250.0,1200.0,350.0,400.0,800.0,1000.0,400.0,700.0,1200.0,500.0,1000.0,750.0,550.0,600.0,150.0,1400.0,350.0,700.0,300.0,250.0,400.0,250.0,250.0,450.0,200.0,600.0,600.0,1000.0,200.0,300.0,750.0,250.0,250.0,200.0,600.0,600.0,600.0,600.0,600.0,500.0,150.0,600.0,1000.0,600.0,200.0,800.0,350.0,350.0,650.0,500.0,400.0,400.0,500.0,550.0,300.0,300.0,500.0,1300.0,250.0,500.0,600.0,650.0,150.0,900.0,200.0,700.0,550.0,400.0,800.0,450.0,1400.0,800.0,600.0,150.0,300.0,400.0,200.0,800.0,600.0,300.0,600.0,700.0,250.0,300.0,1000.0,1000.0,1000.0,1400.0,1600.0,300.0,700.0,450.0,900.0,1400.0,800.0,900.0,900.0,1300.0,800.0,1400.0,800.0,650.0,1100.0,400.0,650.0,500.0,800.0,900.0,800.0,850.0,800.0,350.0,1200.0,400.0,650.0,300.0,650.0,200.0,350.0,400.0,150.0,200.0,500.0,400.0,400.0,500.0,600.0,450.0,250.0,150.0,500.0,600.0,300.0,200.0,1000.0,1100.0,400.0,400.0,600.0,500.0,200.0,400.0,650.0,800.0,350.0,700.0,500.0,500.0,250.0,200.0,800.0,350.0,500.0,1500.0,200.0,400.0,600.0,2000.0,500.0,600.0,1100.0,400.0,500.0,250.0,500.0,250.0,300.0,300.0,250.0,400.0,1300.0,600.0,800.0,600.0,600.0,400.0,500.0,800.0,550.0,450.0,450.0,400.0,400.0,300.0,500.0,500.0,400.0,650.0,400.0,1200.0,400.0,1100.0,650.0,300.0,500.0,900.0,350.0,400.0,400.0,300.0,200.0,400.0,250.0,200.0,450.0,300.0,500.0,350.0,200.0,500.0,500.0,200.0,500.0,400.0,400.0,400.0,800.0,700.0,350.0,150.0,200.0,200.0,300.0,400.0,400.0,500.0,400.0,600.0,150.0,700.0,500.0,600.0,200.0,450.0,400.0,400.0,200.0,800.0,450.0,200.0,400.0,200.0,500.0,2000.0,1000.0,500.0,2500.0,1100.0,2000.0,600.0,1100.0,700.0,1000.0,600.0,650.0,800.0,700.0,1000.0,600.0,700.0,1000.0,1400.0,750.0,1000.0,250.0,900.0,1700.0,250.0,250.0,600.0,700.0,800.0,500.0,600.0,250.0,800.0,1500.0,450.0,1300.0,400.0,500.0,1200.0,500.0,750.0,600.0,400.0,600.0,400.0,250.0,300.0,400.0,400.0,200.0,550.0,450.0,400.0,300.0,200.0,400.0,400.0,200.0,600.0,600.0,350.0,200.0,550.0,300.0,400.0,1400.0,900.0,1500.0,2000.0,1000.0,1100.0,1500.0,2100.0,1200.0,600.0,1300.0,1300.0,1400.0,800.0,1800.0,1600.0,1200.0,1600.0,700.0,900.0,1500.0,750.0,1300.0,1500.0,1000.0,1000.0,600.0,1300.0,1500.0,1500.0,1400.0,1800.0,600.0,1200.0,1600.0,1400.0,600.0,1400.0,1000.0,1200.0,800.0,1500.0,1500.0,1200.0,400.0,1000.0,1000.0,1400.0,600.0,1400.0,800.0,1200.0,600.0,1300.0,1200.0,600.0,1300.0,1500.0,1400.0,1200.0,650.0,600.0,550.0,1000.0,1100.0,1000.0,800.0,1000.0,650.0,900.0,600.0,750.0,500.0,1500.0,1500.0,1200.0,800.0,900.0,800.0,550.0,800.0,900.0,800.0,900.0,1700.0,600.0,800.0,750.0,850.0,750.0,800.0,1200.0,1000.0,1200.0,900.0,1000.0,500.0,900.0,750.0,500.0,800.0,700.0,600.0,700.0,1200.0,800.0,600.0,700.0,800.0,650.0,600.0,800.0,800.0,850.0,750.0,1200.0,500.0,600.0,1500.0,750.0,1100.0,1200.0,750.0,1000.0,650.0,1000.0,700.0,700.0,750.0,1200.0,800.0,650.0,800.0,1100.0,650.0,500.0,1500.0,1000.0,450.0,500.0,800.0,1300.0,200.0,750.0,1200.0,600.0,1400.0,800.0,600.0,1000.0,750.0,650.0,700.0,700.0,600.0,650.0,500.0,600.0,600.0,800.0,500.0,1000.0,600.0,600.0,700.0,2000.0,600.0,150.0,250.0,500.0,600.0,800.0,1500.0,700.0,350.0,500.0,800.0,650.0,600.0,550.0,650.0,650.0,700.0,900.0,500.0,600.0,1000.0,800.0,400.0,450.0,1000.0,1300.0,500.0,750.0,700.0,500.0,500.0,700.0,650.0,800.0,1000.0,600.0,700.0,250.0,800.0,500.0,600.0,500.0,600.0,700.0,350.0,450.0,400.0,500.0,600.0,200.0,450.0,250.0,350.0,300.0,450.0,350.0,500.0,300.0,200.0,600.0,400.0,250.0,450.0,600.0,200.0,500.0,500.0,900.0,500.0,250.0,200.0,500.0,300.0,400.0,400.0,600.0,300.0,300.0,400.0,500.0,400.0,400.0,450.0,200.0,200.0,500.0,400.0,500.0,300.0,500.0,300.0,200.0,300.0,600.0,400.0,500.0,400.0,500.0,350.0,300.0,200.0,400.0,300.0,300.0,600.0,150.0,500.0,300.0,400.0,300.0,450.0,250.0,600.0,300.0,600.0,400.0,550.0,200.0,300.0,300.0,350.0,400.0,250.0,800.0,300.0,250.0,350.0,200.0,100.0,1200.0,800.0,1700.0,900.0,1600.0,800.0,700.0,1500.0,1800.0,300.0,800.0,800.0,1000.0,1300.0,900.0,400.0,200.0,1000.0,600.0,600.0,800.0,400.0,500.0,200.0,250.0,400.0,500.0,600.0,200.0,300.0,300.0,300.0,600.0,600.0,1800.0,400.0,250.0,900.0,350.0,300.0,1000.0,1100.0,350.0,600.0,500.0,300.0,400.0,400.0,650.0,500.0,400.0,700.0,400.0,500.0,200.0,300.0,2100.0,1100.0,1300.0,2000.0,1000.0,2000.0,1000.0,1400.0,1700.0,1500.0,1200.0,1500.0,2000.0,1000.0,1800.0,1600.0,1200.0,1600.0,1000.0,1000.0,1500.0,1400.0,1800.0,1400.0,1200.0,1200.0,1000.0,1400.0,1200.0,1200.0,1300.0,1400.0,1200.0,1200.0,1500.0,1000.0,1000.0,1200.0,1500.0,1300.0,1200.0,1400.0,1500.0,1300.0,1200.0,1700.0,1600.0,1400.0,1200.0,2000.0,1500.0,1500.0,1500.0,800.0,1000.0,1500.0,1300.0,1500.0,1300.0,1000.0,600.0,1500.0,2000.0,600.0,1100.0,750.0,900.0,1700.0,1000.0,700.0,1100.0,1500.0,1000.0,1400.0,2000.0,900.0,1000.0,1300.0,1100.0,800.0,1000.0,800.0,1000.0,550.0,700.0,600.0,900.0,650.0,700.0,350.0,600.0,650.0,900.0,600.0,800.0,600.0,1300.0,800.0,500.0,400.0,600.0,600.0,600.0,800.0,1000.0,900.0,600.0,500.0,800.0,900.0,800.0,900.0,850.0,600.0,900.0,300.0,700.0,800.0,600.0,700.0,800.0,800.0,700.0,1200.0,1200.0,650.0,700.0,450.0,200.0,700.0,600.0,600.0,600.0,800.0,650.0,500.0,700.0,400.0,300.0,500.0,600.0,600.0,700.0,500.0,800.0,450.0,250.0,450.0,600.0,900.0,1000.0,700.0,700.0,600.0,600.0,500.0,600.0,500.0,450.0,500.0,450.0,250.0,800.0,300.0,400.0,400.0,400.0,800.0,900.0,200.0,250.0,300.0,600.0,400.0,400.0,650.0,500.0,250.0,600.0,500.0,600.0,600.0,400.0,800.0,450.0,500.0,400.0,300.0,200.0,500.0,300.0,150.0,300.0,600.0,400.0,550.0,150.0,450.0,500.0,400.0,400.0,500.0,400.0,400.0,400.0,600.0,600.0,800.0,250.0,700.0,250.0,300.0,400.0,900.0,700.0,250.0,450.0,300.0,800.0,250.0,250.0,750.0,350.0,600.0,600.0,600.0,200.0,350.0,600.0,400.0,700.0,500.0,600.0,200.0,400.0,300.0,500.0,650.0,500.0,300.0,500.0,350.0,500.0,600.0,200.0,300.0,750.0,800.0,400.0,350.0,800.0,400.0,450.0,400.0,300.0,300.0,500.0,400.0,600.0,550.0,600.0,650.0,300.0,500.0,150.0,300.0,600.0,250.0,650.0,400.0,800.0,200.0,1000.0,250.0,600.0,1200.0,700.0,600.0,800.0,400.0,750.0,400.0,300.0,600.0,450.0,750.0,450.0,500.0,400.0,200.0,100.0,250.0,650.0,500.0,300.0,400.0,500.0,1200.0,400.0,400.0,200.0,800.0,400.0,1500.0,800.0,400.0,300.0,200.0,450.0,400.0,400.0,450.0,1000.0,600.0,700.0,250.0,300.0,200.0,600.0,400.0,650.0,500.0,650.0,650.0,400.0,200.0,450.0,500.0,400.0,600.0,500.0,600.0,300.0,800.0,300.0,400.0,500.0,400.0,600.0,800.0,900.0,600.0,300.0,400.0,800.0,500.0,650.0,300.0,700.0,450.0,300.0,500.0,500.0,200.0,800.0,500.0,300.0,500.0,300.0,600.0,800.0,400.0,350.0,200.0,300.0,700.0,1000.0,1200.0,1500.0,350.0,200.0,1300.0,600.0,1000.0,450.0,1200.0,300.0,350.0,650.0,500.0,400.0,600.0,300.0,600.0,250.0,500.0,800.0,1000.0,600.0,250.0,300.0,500.0,500.0,500.0,600.0,450.0,600.0,1300.0,400.0,300.0,400.0,300.0,1000.0,500.0,800.0,300.0,500.0,200.0,800.0,600.0,300.0,500.0,600.0,450.0,1600.0,600.0,400.0,400.0,1300.0,1000.0,400.0,750.0,700.0,650.0,800.0,1000.0,300.0,700.0,600.0,600.0,1500.0,500.0,700.0,400.0,1100.0,750.0,1500.0,400.0,230.0,500.0,700.0,400.0,300.0,2500.0,1200.0,300.0,250.0,600.0,300.0,900.0,350.0,1500.0,200.0,900.0,700.0,200.0,600.0,600.0,900.0,900.0,500.0,500.0,400.0,600.0,500.0,500.0,1200.0,1000.0,200.0,400.0,500.0,700.0,500.0,180.0,300.0,550.0,400.0,250.0,600.0,650.0,500.0,250.0,300.0,450.0,600.0,1200.0,800.0,800.0,400.0,500.0,1500.0,150.0,700.0,1000.0,1000.0,700.0,900.0,750.0,700.0,500.0,650.0,500.0,700.0,400.0,150.0,400.0,400.0,400.0,400.0,1500.0,300.0,600.0,400.0,400.0,100.0,1200.0,300.0,1000.0,800.0,700.0,350.0,350.0,450.0,200.0,200.0,400.0,400.0,600.0,300.0,300.0,200.0,300.0,500.0,600.0,1000.0,1000.0,550.0,200.0,300.0,500.0,1500.0,1000.0,250.0,400.0,600.0,900.0,150.0,1400.0,750.0,400.0,1000.0,900.0,300.0,1200.0,300.0,600.0,400.0,300.0,1500.0,450.0,450.0,200.0,1100.0,400.0,800.0,1700.0,1500.0,600.0,400.0,600.0,800.0,600.0,400.0,700.0,400.0,1000.0,600.0,700.0,700.0,750.0,600.0,250.0,400.0,150.0,1200.0,400.0,700.0,100.0,1000.0,900.0,700.0,1300.0,500.0,500.0,800.0,550.0,800.0,500.0,600.0,300.0,700.0,750.0,500.0,350.0,300.0,650.0,600.0,1200.0,200.0,400.0,1100.0,700.0,300.0,650.0,700.0,400.0,300.0,650.0,400.0,1100.0,600.0,900.0,450.0,550.0,350.0,400.0,750.0,250.0,1200.0,200.0,500.0,350.0,400.0,800.0,500.0,650.0,1000.0,750.0,400.0,700.0,1200.0,500.0,500.0,1000.0,750.0,550.0,600.0,1400.0,400.0,300.0,1000.0,350.0,700.0,750.0,200.0,400.0,250.0,250.0,600.0,600.0,650.0,1000.0,200.0,800.0,300.0,750.0,600.0,600.0,600.0,600.0,600.0,250.0,550.0,400.0,500.0,400.0,150.0,600.0,1000.0,250.0,600.0,100.0,800.0,450.0,500.0,400.0,650.0,500.0,1300.0,400.0,600.0,650.0,350.0,150.0,200.0,700.0,550.0,400.0,800.0,600.0,450.0,500.0,800.0,600.0,300.0,400.0,900.0,200.0,200.0,800.0,900.0,600.0,300.0,600.0,700.0,250.0,1000.0,1000.0,1000.0,1400.0,2000.0,300.0,450.0,700.0,1100.0,900.0,1400.0,1000.0,800.0,900.0,900.0,1300.0,800.0,600.0,1400.0,800.0,650.0,1100.0,400.0,650.0,500.0,550.0,800.0,900.0,800.0,850.0,800.0,350.0,1200.0,400.0,650.0,600.0,150.0,700.0,300.0,200.0,800.0,150.0,500.0,200.0,500.0,200.0,500.0,400.0,400.0,500.0,250.0,200.0,700.0,450.0,250.0,350.0,400.0,600.0,500.0,300.0,200.0,550.0,1000.0,400.0,400.0,400.0,500.0,600.0,550.0,500.0,300.0,200.0,200.0,400.0,650.0,300.0,250.0,800.0,500.0,700.0,500.0,250.0,800.0,500.0,350.0,400.0,500.0,1500.0,500.0,400.0,550.0,400.0,900.0,400.0,300.0,200.0,450.0,250.0,500.0,500.0,800.0,700.0,150.0,600.0,150.0,400.0,2000.0,400.0,1300.0,600.0,800.0,500.0,600.0,600.0,400.0,500.0,800.0,1100.0,450.0,450.0,400.0,400.0,300.0,500.0,500.0,400.0,400.0,1200.0,400.0,1100.0,650.0,500.0,300.0,500.0,350.0,400.0,300.0,400.0,250.0,300.0,500.0,350.0,200.0,200.0,400.0,400.0,350.0,200.0,200.0,300.0,400.0,400.0,500.0,400.0,250.0,500.0,250.0,700.0,500.0,600.0,200.0,450.0,300.0,400.0,300.0,200.0,800.0,450.0,600.0,200.0,200.0,200.0,700.0,400.0,1600.0,2100.0,1500.0,1500.0,1100.0,1500.0,600.0,1500.0,1400.0,550.0,900.0,500.0,600.0,750.0,650.0,1100.0,1000.0,600.0,650.0,650.0,500.0,800.0,1000.0,750.0,700.0,800.0,650.0,750.0,800.0,400.0,750.0,700.0,650.0,700.0,650.0,500.0,700.0,450.0,350.0,300.0,450.0,600.0,900.0,200.0,400.0,400.0,200.0,500.0,200.0,450.0,600.0,400.0,500.0,200.0,250.0,400.0,500.0,300.0,400.0,550.0,200.0,300.0,400.0,300.0,600.0,1400.0,900.0,2000.0,2000.0,1000.0,1500.0,1200.0,600.0,1300.0,1300.0,1400.0,800.0,1200.0,1800.0,1600.0,700.0,900.0,1500.0,750.0,1300.0,1500.0,1000.0,1000.0,600.0,1300.0,1500.0,1400.0,1800.0,1400.0,600.0,1400.0,1000.0,1200.0,800.0,1000.0,1500.0,500.0,1200.0,400.0,1000.0,1000.0,1400.0,600.0,1400.0,800.0,1200.0,1300.0,2500.0,600.0,1300.0,1100.0,1200.0,650.0,550.0,600.0,2000.0,600.0,1100.0,1000.0,800.0,1000.0,650.0,900.0,600.0,500.0,1500.0,1500.0,800.0,1200.0,900.0,800.0,800.0,900.0,1100.0,800.0,900.0,700.0,1700.0,800.0,1000.0,600.0,750.0,850.0,750.0,1200.0,800.0,1000.0,600.0,1200.0,900.0,1000.0,650.0,500.0,750.0,800.0,700.0,700.0,1200.0,800.0,600.0,700.0,800.0,650.0,600.0,800.0,700.0,800.0,1000.0,750.0,600.0,1200.0,500.0,1500.0,750.0,1100.0,1200.0,1000.0,1000.0,650.0,700.0,750.0,700.0,1200.0,800.0,800.0,1300.0,1500.0,450.0,500.0,800.0,200.0,750.0,600.0,1000.0,1400.0,1400.0,800.0,1000.0,750.0,750.0,700.0,700.0,1000.0,600.0,500.0,250.0,600.0,600.0,700.0,2000.0,600.0,150.0,250.0,500.0,600.0,800.0,1500.0,350.0,900.0,600.0,550.0,650.0,1700.0,250.0,700.0,900.0,250.0,600.0,600.0,1000.0,700.0,800.0,450.0,500.0,1000.0,1300.0,600.0,500.0,250.0,700.0,500.0,500.0,800.0,1000.0,600.0,250.0,800.0,1500.0,800.0,450.0,1300.0,500.0,400.0,500.0,1200.0,500.0,350.0,450.0,600.0,400.0,600.0,400.0,400.0,500.0,600.0,200.0,200.0,450.0,250.0,350.0,300.0,400.0,500.0,400.0,200.0,600.0,400.0,250.0,200.0,550.0,200.0,500.0,500.0,400.0,250.0,500.0,300.0,400.0,400.0,600.0,300.0,300.0,200.0,200.0,500.0,200.0,300.0,400.0,500.0,400.0,300.0,200.0,600.0,400.0,600.0,300.0,600.0,350.0,300.0,450.0,200.0,600.0,300.0,600.0,550.0,300.0,250.0,800.0,400.0,350.0,200.0,1600.0,1300.0,1200.0,1100.0,800.0,600.0,1200.0,900.0,1000.0,550.0,800.0,900.0,600.0,800.0,600.0,700.0,300.0,800.0,700.0,400.0,800.0,1100.0,650.0,500.0,1000.0,550.0,650.0,700.0,600.0,250.0,1300.0,300.0,600.0,600.0,1000.0,500.0,900.0,600.0,900.0,800.0,400.0,200.0,1000.0,400.0,600.0,450.0,600.0,350.0,500.0,1000.0,500.0,350.0,200.0,400.0,500.0,500.0,1000.0,700.0,300.0,250.0,500.0,150.0,600.0,500.0,600.0,500.0,300.0,600.0,200.0,300.0,400.0,500.0,300.0,200.0,300.0,300.0,600.0,600.0,600.0,450.0,200.0,400.0,250.0,900.0,500.0,600.0,350.0,300.0,200.0,150.0,250.0,1000.0,400.0,350.0,600.0,600.0,500.0,300.0,400.0,150.0,300.0,550.0,400.0,300.0,400.0,400.0,650.0,500.0,400.0,700.0,400.0,600.0,500.0,250.0,200.0,300.0,1000.0,2000.0,2100.0,1500.0,1100.0,1600.0,1400.0,2000.0,1800.0,1200.0,1600.0,1000.0,1000.0,1500.0,1400.0,1800.0,1400.0,1200.0,1000.0,1200.0,1000.0,1400.0,1200.0,1300.0,1100.0,2000.0,1200.0,1200.0,1000.0,1500.0,1000.0,1000.0,1200.0,1500.0,1300.0,1400.0,1400.0,1500.0,1700.0,1300.0,1500.0,1300.0,1200.0,1100.0,1200.0,1100.0,1000.0,1000.0,1600.0,1100.0,1000.0,1500.0,1400.0,1000.0,1400.0,1500.0,2100.0,1300.0,1400.0,1800.0,1200.0,1500.0,1000.0,1800.0,1200.0,1000.0,1200.0,1400.0,1200.0,1300.0,1100.0,1000.0,1500.0,800.0,1200.0,1200.0,1000.0,1200.0,1000.0,1000.0,1200.0,1500.0,1300.0,1400.0,1500.0,1800.0,1300.0,1500.0,1300.0,1200.0,1100.0,1200.0,1100.0,1300.0,1000.0,1000.0,1600.0,2200.0,1200.0,1400.0,1000.0,1500.0,1600.0,1200.0,1800.0,1500.0,1500.0,2100.0,3000.0,1200.0,1700.0,750.0,3000.0,1500.0,500.0,2500.0,1500.0,3400.0,2000.0,1200.0,800.0,1700.0,1200.0,2000.0,1300.0,1300.0,1600.0,3000.0,1000.0,1000.0,650.0,1400.0,1900.0,800.0,1000.0,1000.0,500.0,1200.0,650.0,2800.0,1600.0,4100.0,3400.0,1300.0,1700.0,1800.0,1100.0,750.0,1200.0,750.0,600.0,1400.0,1100.0,1000.0,1200.0,1100.0,800.0,900.0,1700.0,1000.0,600.0,2500.0,650.0,400.0,900.0,700.0,450.0,700.0,800.0,750.0,650.0,500.0,500.0,400.0,650.0,500.0,600.0,800.0,1000.0,500.0,700.0,800.0,900.0,350.0,1300.0,1100.0,750.0,750.0,300.0,1000.0,750.0,1000.0,500.0,1100.0,600.0,2000.0,500.0,500.0,450.0,400.0,500.0,200.0,550.0,300.0,250.0,500.0,500.0,350.0,650.0,500.0,200.0,750.0,650.0,750.0,400.0,400.0,200.0,800.0,600.0,450.0,400.0,800.0,250.0,500.0,500.0,600.0,400.0,250.0,650.0,1300.0,1600.0,1200.0,500.0,300.0,450.0,750.0,1300.0,500.0,150.0,200.0,350.0,600.0,500.0,500.0,1500.0,400.0,400.0,250.0,800.0,900.0,1600.0,300.0,550.0,1300.0,400.0,900.0,1100.0,400.0,400.0,700.0,700.0,200.0,700.0,500.0,300.0,300.0,400.0,600.0,250.0,350.0,400.0,400.0,500.0,3000.0,700.0,700.0,400.0,1500.0,450.0,300.0,500.0,800.0,180.0,150.0,500.0,750.0,400.0,700.0,500.0,750.0,1200.0,1300.0,1300.0,300.0,850.0,500.0,600.0,1000.0,700.0,1000.0,300.0,800.0,950.0,300.0,800.0,900.0,600.0,800.0,350.0,500.0,1000.0,500.0,300.0,1400.0,1500.0,750.0,550.0,2000.0,550.0,1000.0,600.0,250.0,1400.0,200.0,1500.0,700.0,400.0,400.0,350.0,200.0,450.0,1000.0,700.0,300.0,350.0,400.0,250.0,400.0,2000.0,400.0,750.0,700.0,300.0,700.0,1200.0,800.0,600.0,1000.0,500.0,700.0,300.0,600.0,1200.0,800.0,600.0,650.0,500.0,400.0,2100.0,400.0,2000.0,300.0,600.0,600.0,1000.0,200.0,800.0,600.0,1000.0,1500.0,150.0,400.0,400.0,1200.0,700.0,1200.0,800.0,650.0,400.0,1700.0,600.0,1700.0,800.0,700.0,1500.0,1300.0,300.0,2100.0,600.0,600.0,1700.0,750.0,2100.0,700.0,1500.0,700.0,1700.0,1400.0,650.0,800.0,1000.0,600.0,1000.0,2000.0,750.0,1000.0,1000.0,1400.0,1200.0,850.0,1500.0,300.0,850.0,1000.0,1800.0,550.0,800.0,300.0,500.0,1800.0,1300.0,800.0,700.0,400.0,550.0,800.0,1000.0,550.0,600.0,1000.0,450.0,500.0,1300.0,1000.0,1200.0,1300.0,700.0,250.0,500.0,1300.0,1000.0,1000.0,1500.0,800.0,900.0,1700.0,1100.0,1400.0,550.0,400.0,600.0,750.0,400.0,900.0,500.0,800.0,450.0,800.0,500.0,800.0,150.0,1200.0,500.0,500.0,650.0,400.0,450.0,500.0,200.0,800.0,500.0,1100.0,500.0,200.0,500.0,300.0,450.0,350.0,100.0,300.0,250.0,550.0,500.0,400.0,600.0,1800.0,1600.0,1600.0,600.0,1400.0,300.0,400.0,300.0,400.0,550.0,800.0,800.0,2000.0,1000.0,550.0,400.0,1250.0,400.0,300.0,300.0,700.0,450.0,500.0,1000.0,500.0,450.0,300.0,350.0,400.0,800.0,400.0,400.0,250.0,450.0,300.0,150.0,150.0,250.0,180.0,400.0,500.0,200.0,300.0,200.0,300.0,300.0,500.0,350.0,600.0,900.0,1300.0,1100.0,750.0,700.0,500.0,200.0,300.0,400.0,2200.0,3000.0,1800.0,2500.0,3000.0,3000.0,1500.0,1200.0,1300.0,2100.0,1700.0,1600.0,1500.0,2200.0,1400.0,1500.0,1000.0,1000.0,1500.0,1500.0,1500.0,1300.0,1200.0,1600.0,1000.0,1100.0,600.0,1000.0,1200.0,1200.0,1800.0,2500.0,2000.0,600.0,400.0,350.0,500.0,1700.0,1800.0,1500.0,1500.0,1500.0,2000.0,800.0,2800.0,700.0,1100.0,1500.0,2100.0,1500.0,2000.0,3000.0,2500.0,3500.0,1700.0,1700.0,1500.0,1200.0,1500.0,1300.0,1200.0,700.0,800.0,1600.0,1000.0,1500.0,800.0,2000.0,1500.0,2500.0,2100.0,1000.0,1900.0,1700.0,2000.0,1100.0,1300.0,600.0,900.0,1200.0,1700.0,1400.0,1300.0,1000.0,600.0,2500.0,1400.0,200.0,1500.0,550.0,750.0,1000.0,1500.0,3000.0,1500.0,3000.0,1100.0,650.0,1200.0,2500.0,2000.0,600.0,1400.0,1100.0,3200.0,650.0,750.0,850.0,1800.0,500.0,2500.0,1000.0,1500.0,1000.0,1200.0,3400.0,2000.0,1000.0,1400.0,3500.0,700.0,1600.0,1200.0,400.0,900.0,1500.0,1200.0,800.0,1500.0,1200.0,4000.0,500.0,1300.0,700.0,4000.0,4000.0,1200.0,800.0,600.0,1100.0,1100.0,1000.0,1700.0,2000.0,1200.0,800.0,2000.0,3000.0,2000.0,800.0,2000.0,3500.0,1000.0,1300.0,700.0,1000.0,500.0,800.0,2800.0,2500.0,800.0,500.0,3000.0,750.0,800.0,650.0,1800.0,950.0,1500.0,3000.0,750.0,750.0,1500.0,1000.0,1500.0,550.0,500.0,700.0,500.0,600.0,700.0,800.0,700.0,1200.0,1000.0,300.0,700.0,1300.0,1000.0,500.0,1600.0,500.0,1600.0,3000.0,900.0,450.0,1000.0,650.0,550.0,650.0,1000.0,1000.0,2000.0,350.0,400.0,300.0,3000.0,1200.0,3000.0,400.0,500.0,650.0,800.0,2500.0,700.0,1400.0,500.0,600.0,500.0,800.0,600.0,850.0,700.0,500.0,1900.0,800.0,1000.0,500.0,1300.0,1500.0,250.0,1000.0,1000.0,700.0,500.0,3000.0,600.0,500.0,800.0,600.0,500.0,800.0,1200.0,500.0,550.0,800.0,800.0,1200.0,800.0,600.0,350.0,800.0,700.0,600.0,2500.0,800.0,600.0,1000.0,550.0,250.0,700.0,400.0,300.0,500.0,200.0,300.0,150.0,450.0,300.0,500.0,300.0,300.0,150.0,300.0,450.0,500.0,150.0,300.0,600.0,400.0,250.0,350.0,400.0,200.0,400.0,250.0,400.0,500.0,300.0,400.0,500.0,500.0,400.0,200.0,400.0,350.0,250.0,400.0,500.0,250.0,300.0,300.0,300.0,450.0,300.0,100.0,500.0,1300.0,2800.0,3000.0,2500.0,1600.0,1100.0,1100.0,4100.0,1300.0,3000.0,600.0,2000.0,2000.0,1000.0,1300.0,1100.0,750.0,3400.0,750.0,1800.0,3000.0,1300.0,700.0,1500.0,1700.0,300.0,600.0,1200.0,2300.0,1000.0,750.0,3000.0,2000.0,1000.0,500.0,3000.0,1300.0,750.0,850.0,450.0,700.0,1000.0,600.0,750.0,1800.0,400.0,650.0,500.0,750.0,400.0,500.0,400.0,450.0,150.0,200.0,2200.0,200.0,150.0,700.0,2400.0,350.0,400.0,400.0,1100.0,600.0,200.0,2000.0,1100.0,450.0,600.0,300.0,150.0,750.0,600.0,350.0,1200.0,1300.0,1800.0,1200.0,2100.0,1700.0,1000.0,1000.0,1300.0,1200.0,1800.0,1200.0,2000.0,1500.0,2500.0,1700.0,1200.0,1300.0,1500.0,2500.0,1900.0,1700.0,1000.0,1500.0,1100.0,1200.0,1400.0,1100.0,1000.0,1000.0,1600.0,1200.0,1200.0,1500.0,4000.0,1100.0,1100.0,1000.0,1700.0,2000.0,2000.0,2000.0,3500.0,1300.0,1800.0,1500.0,1500.0,600.0,1000.0,1000.0,1000.0,3000.0,1200.0,1300.0,1500.0,800.0,1300.0,3000.0,3000.0,2000.0,1000.0,3400.0,1200.0,1300.0,2200.0,1100.0,1200.0,2000.0,1700.0,1500.0,950.0,1000.0,1200.0,2400.0,800.0,4100.0,1500.0,1400.0,3000.0,1200.0,600.0,800.0,600.0,900.0,500.0,600.0,500.0,700.0,700.0,400.0,350.0,500.0,400.0,800.0,1000.0,400.0,800.0,600.0,650.0,500.0,500.0,650.0,200.0,120.0,350.0,400.0,450.0,400.0,600.0,400.0,750.0,300.0,250.0,500.0,400.0,600.0,500.0,400.0,600.0,400.0,250.0,400.0,450.0,250.0,300.0,300.0,300.0,300.0,700.0,750.0,500.0,400.0,500.0,400.0,300.0,200.0,350.0,600.0,500.0,150.0,250.0,800.0,400.0,500.0,700.0,350.0,150.0,450.0,700.0,750.0,500.0,600.0,300.0,500.0,250.0,100.0,450.0,800.0,600.0,650.0,300.0,550.0,450.0,1400.0,300.0,250.0,600.0,800.0,500.0,1200.0,2000.0,1100.0,1200.0,150.0,900.0,700.0,500.0,150.0,500.0,200.0,300.0,800.0,250.0,350.0,650.0,1000.0,1300.0,450.0,800.0,900.0,200.0,300.0,700.0,150.0,150.0,300.0,500.0,800.0,300.0,400.0,100.0,300.0,450.0,500.0,400.0,300.0,450.0,500.0,400.0,500.0,500.0,600.0,1100.0,1000.0,300.0,400.0,1500.0,500.0,600.0,400.0,750.0,400.0,800.0,400.0,600.0,300.0,300.0,600.0,300.0,1000.0,350.0,700.0,300.0,750.0,400.0,800.0,150.0,750.0,400.0,600.0,400.0,500.0,400.0,400.0,400.0,700.0,900.0,300.0,650.0,600.0,200.0,500.0,700.0,400.0,150.0,450.0,600.0,800.0,400.0,1000.0,1100.0,1200.0,200.0,550.0,200.0,500.0,500.0,500.0,350.0,800.0,500.0,650.0,200.0,600.0,300.0,400.0,700.0,500.0,350.0,600.0,450.0,1700.0,650.0,950.0,400.0,500.0,1100.0,600.0,600.0,650.0,400.0,150.0,600.0,1000.0,600.0,450.0,500.0,1700.0,1500.0,600.0,100.0,600.0,800.0,1200.0,500.0,750.0,800.0,900.0,500.0,500.0,1000.0,700.0,1000.0,850.0,900.0,300.0,1100.0,900.0,1200.0,1200.0,800.0,1400.0,600.0,1000.0,900.0,750.0,750.0,800.0,800.0,1000.0,300.0,500.0,700.0,1500.0,1400.0,650.0,1800.0,600.0,400.0,400.0,250.0,700.0,200.0,250.0,250.0,300.0,500.0,300.0,400.0,400.0,400.0,100.0,250.0,200.0,450.0,400.0,800.0,400.0,400.0,1250.0,800.0,200.0,600.0,450.0,500.0,500.0,1100.0,2600.0,2000.0,1800.0,2000.0,1300.0,2500.0,1200.0,1700.0,1400.0,700.0,1000.0,1400.0,1500.0,800.0,1000.0,1400.0,950.0,500.0,600.0,1100.0,1000.0,1500.0,500.0,600.0,1200.0,100.0,1500.0,650.0,700.0,500.0,500.0,2500.0,1500.0,700.0,1500.0,600.0,400.0,1100.0,750.0,1100.0,600.0,150.0,2000.0,400.0,500.0,600.0,800.0,600.0,250.0,150.0,250.0,300.0,250.0,300.0,200.0,200.0,350.0,150.0,300.0,400.0,800.0,400.0,300.0,350.0,250.0,600.0,400.0,600.0,200.0,500.0,200.0,250.0,200.0,300.0,500.0,300.0,400.0,300.0,500.0,300.0,100.0,300.0,300.0,550.0,400.0,500.0,800.0,500.0,150.0,500.0,1200.0,1200.0,1200.0,2400.0,1000.0,800.0,4100.0,1500.0,2000.0,900.0,5000.0,800.0,1400.0,3000.0,3000.0,1500.0,1000.0,1000.0,4000.0,2200.0,1800.0,4000.0,1200.0,700.0,800.0,700.0,600.0,2200.0,2500.0,450.0,650.0,3700.0,700.0,600.0,750.0,600.0,800.0,300.0,200.0,300.0,200.0,200.0,250.0,1650.0,1100.0,1300.0,400.0,1200.0,1200.0,600.0,600.0,800.0,700.0,1400.0,850.0,300.0,900.0,650.0,1100.0,800.0,450.0,700.0,400.0,600.0,300.0,600.0,400.0,600.0,900.0,500.0,450.0,450.0,600.0,750.0,300.0,450.0,1200.0,2600.0,1800.0,1200.0,1400.0,1400.0,1100.0,1500.0,1500.0,1100.0,2000.0,2000.0,3000.0,1500.0,2200.0,1650.0,1200.0,1100.0,1200.0,1400.0,1400.0,1100.0,1500.0,1100.0,2000.0,3000.0,2500.0,1650.0,1300.0,1400.0,2500.0,1400.0,1500.0,1500.0,1600.0,1300.0,1400.0,1100.0,1300.0,1200.0,2700.0,1000.0,1600.0,1500.0,1500.0,1700.0,1300.0,750.0,1000.0,1000.0,1200.0,600.0,700.0,750.0,1200.0,600.0,400.0,600.0,700.0,300.0,700.0,400.0,650.0,300.0,600.0,500.0,500.0,600.0,300.0,400.0,700.0,600.0,450.0,450.0,250.0,500.0,700.0,300.0,600.0,850.0,500.0,500.0,650.0,400.0,400.0,500.0,650.0,400.0,800.0,300.0,400.0,400.0,450.0,1000.0,800.0,500.0,400.0,300.0,250.0,350.0,400.0,400.0,300.0,700.0,150.0,600.0,800.0,250.0,650.0,250.0,500.0,350.0,800.0,200.0,1400.0,500.0,1100.0,350.0,650.0,400.0,1400.0,700.0,300.0,800.0,600.0,900.0,600.0,300.0,450.0,300.0,300.0,800.0,600.0,800.0,400.0,200.0,300.0,1100.0,450.0,400.0,450.0,400.0,200.0,500.0,200.0,700.0,650.0,600.0,400.0,1000.0,300.0,400.0,800.0,600.0,800.0,400.0,150.0,200.0,1000.0,1000.0,500.0,300.0,600.0,600.0,400.0,500.0,550.0,1400.0,300.0,300.0,500.0,300.0,350.0,1300.0,250.0,450.0,400.0,600.0,600.0,400.0,1000.0,600.0,1000.0,300.0,300.0,800.0,600.0,400.0,700.0,700.0,400.0,1400.0,900.0,750.0,750.0,400.0,500.0,500.0,750.0,200.0,800.0,300.0,600.0,300.0,1500.0,1500.0,450.0,700.0,1000.0,500.0,350.0,1000.0,1200.0,300.0,600.0,200.0,600.0,400.0,800.0,250.0,150.0,1000.0,800.0,350.0,250.0,550.0,800.0,400.0,650.0,200.0,400.0,300.0,600.0,600.0,200.0,300.0,1100.0,500.0,600.0,500.0,400.0,550.0,500.0,400.0,400.0,450.0,300.0,650.0,450.0,800.0,600.0,450.0,800.0,750.0,400.0,750.0,300.0,600.0,650.0,600.0,250.0,800.0,250.0,700.0,250.0,400.0,500.0,1000.0,350.0,700.0,900.0,300.0,200.0,400.0,350.0,500.0,800.0,500.0,800.0,300.0,700.0,650.0,750.0,150.0,750.0,600.0,500.0,700.0,300.0,300.0,250.0,450.0,1000.0,300.0,700.0,300.0,400.0,500.0,700.0,800.0,500.0,300.0,750.0,300.0,800.0,200.0,450.0,900.0,600.0,300.0,450.0,650.0,600.0,750.0,500.0,750.0,750.0,500.0,1200.0,600.0,350.0,400.0,750.0,400.0,600.0,650.0,800.0,500.0,600.0,500.0,200.0,750.0,200.0,250.0,800.0,600.0,1500.0,150.0,750.0,150.0,500.0,450.0,400.0,750.0,500.0,300.0,450.0,1000.0,500.0,850.0,800.0,400.0,500.0,250.0,400.0,600.0,1700.0,400.0,1000.0,1000.0,1100.0,500.0,400.0,1400.0,400.0,200.0,250.0,500.0,500.0,500.0,300.0,350.0,300.0,300.0,700.0,300.0,400.0,600.0,500.0,400.0,400.0,400.0,550.0,400.0,1100.0,1400.0,2500.0,1500.0,1600.0,1300.0,1400.0,1100.0,1500.0,1300.0,1300.0,1500.0,1800.0,650.0,1200.0,2700.0,800.0,1600.0,1000.0,600.0,1000.0,600.0,1600.0,1100.0,900.0,1000.0,800.0,750.0,800.0,800.0,1500.0,1500.0,1000.0,600.0,2500.0,1300.0,500.0,1400.0,800.0,2000.0,1100.0,700.0,1100.0,850.0,1700.0,650.0,1500.0,800.0,750.0,750.0,800.0,800.0,800.0,850.0,800.0,1000.0,600.0,800.0,650.0,1300.0,1000.0,900.0,750.0,400.0,900.0,700.0,700.0,4500.0,800.0,600.0,1000.0,800.0,600.0,800.0,400.0,1100.0,650.0,750.0,450.0,500.0,300.0,500.0,1000.0,750.0,1200.0,650.0,650.0,700.0,500.0,500.0,400.0,1000.0,1000.0,450.0,750.0,2500.0,600.0,600.0,800.0,800.0,1000.0,400.0,550.0,1000.0,1200.0,500.0,600.0,400.0,650.0,800.0,700.0,750.0,600.0,700.0,250.0,600.0,1000.0,800.0,600.0,200.0,450.0,150.0,400.0,450.0,200.0,300.0,300.0,250.0,400.0,300.0,500.0,600.0,400.0,350.0,350.0,600.0,350.0,400.0,300.0,250.0,400.0,300.0,300.0,200.0,500.0,400.0,350.0,400.0,200.0,200.0,250.0,150.0,400.0,450.0,250.0,300.0,700.0,400.0,400.0,500.0,300.0,400.0,150.0,500.0,300.0,500.0,300.0,250.0,200.0,200.0,600.0,500.0,350.0,450.0,400.0,400.0,300.0,300.0,600.0,450.0,1200.0,1000.0,700.0,600.0,300.0,750.0,1500.0,600.0,600.0,800.0,800.0,800.0,700.0,750.0,750.0,800.0,500.0,250.0,300.0,550.0,400.0,600.0,500.0,500.0,400.0,400.0,500.0,500.0,850.0,300.0,600.0,500.0,500.0,600.0,900.0,600.0,400.0,450.0,350.0,400.0,450.0,1200.0,250.0,750.0,600.0,150.0,350.0,500.0,500.0,500.0,350.0,450.0,550.0,350.0,650.0,300.0,450.0,600.0,500.0,150.0,500.0,250.0,300.0,750.0,300.0,800.0,600.0,1400.0,1800.0,4500.0,1100.0,1500.0,1300.0,1500.0,1200.0,1600.0,1000.0,1500.0,1300.0,1100.0,1200.0,2500.0,1000.0,1200.0,1200.0,1500.0,1500.0,1500.0,2200.0,2100.0,3000.0,3000.0,1500.0,1600.0,3000.0,800.0,1800.0,1200.0,2800.0,1700.0,1400.0,1600.0,1500.0,2500.0,750.0,500.0,1000.0,1500.0,3400.0,2000.0,1200.0,800.0,1700.0,1600.0,2000.0,1300.0,2200.0,1200.0,1000.0,1200.0,650.0,1400.0,1900.0,1000.0,1000.0,500.0,1200.0,650.0,1300.0,1700.0,1200.0,1300.0,1000.0,1100.0,750.0,1200.0,1700.0,2500.0,450.0,500.0,800.0,700.0,1100.0,800.0,900.0,1000.0,600.0,600.0,650.0,1400.0,750.0,700.0,400.0,900.0,700.0,700.0,800.0,750.0,800.0,500.0,1000.0,1000.0,400.0,650.0,1200.0,500.0,500.0,600.0,400.0,1000.0,500.0,600.0,800.0,350.0,1300.0,1100.0,750.0,1000.0,800.0,650.0,500.0,600.0,1200.0,500.0,300.0,200.0,500.0,450.0,400.0,600.0,800.0,300.0,500.0,300.0,650.0,600.0,200.0,400.0,400.0,350.0,750.0,500.0,800.0,500.0,300.0,800.0,800.0,1000.0,500.0,750.0,400.0,550.0,400.0,750.0,950.0,400.0,600.0,400.0,800.0,150.0,1500.0,450.0,200.0,250.0,300.0,750.0,400.0,800.0,250.0,700.0,150.0,800.0,650.0,400.0,1200.0,900.0,1200.0,300.0,1100.0,400.0,500.0,600.0,1400.0,650.0,900.0,400.0,1300.0,500.0,700.0,800.0,300.0,800.0,800.0,750.0,1500.0,400.0,700.0,350.0,850.0,1600.0,500.0,400.0,650.0,800.0,1700.0,500.0,1200.0,1300.0,500.0,500.0,700.0,400.0,350.0,400.0,600.0,1600.0,650.0,700.0,400.0,550.0,500.0,300.0,1000.0,1500.0,650.0,1300.0,600.0,1200.0,600.0,1100.0,500.0,1500.0,400.0,700.0,900.0,400.0,600.0,500.0,400.0,500.0,500.0,800.0,600.0,1600.0,400.0,250.0,3000.0,350.0,250.0,250.0,1700.0,900.0,350.0,400.0,600.0,300.0,200.0,800.0,200.0,300.0,550.0,750.0,600.0,450.0,600.0,100.0,350.0,600.0,1300.0,180.0,1700.0,500.0,2100.0,700.0,300.0,500.0,2000.0,1000.0,1500.0,300.0,150.0,800.0,1500.0,700.0,750.0,400.0,1300.0,600.0,400.0,1000.0,700.0,500.0,800.0,1300.0,500.0,450.0,500.0,750.0,500.0,400.0,1300.0,600.0,700.0,500.0,700.0,750.0,500.0,1000.0,1200.0,500.0,2100.0,1000.0,500.0,1900.0,400.0,450.0,300.0,1400.0,300.0,600.0,2000.0,400.0,1000.0,650.0,950.0,1000.0,500.0,300.0,1400.0,800.0,1200.0,1000.0,1000.0,150.0,700.0,700.0,700.0,750.0,500.0,1500.0,300.0,700.0,700.0,800.0,450.0,1200.0,1800.0,500.0,800.0,200.0,1500.0,500.0,200.0,700.0,700.0,400.0,500.0,400.0,450.0,1000.0,400.0,1400.0,800.0,600.0,700.0,350.0,1500.0,1500.0,200.0,500.0,300.0,600.0,400.0,700.0,300.0,1800.0,800.0,1800.0,1000.0,800.0,2000.0,1200.0,300.0,500.0,300.0,600.0,1200.0,1000.0,700.0,400.0,250.0,200.0,250.0,200.0,1700.0,300.0,1000.0,350.0,400.0,650.0,300.0,800.0,1000.0,800.0,750.0,2000.0,1700.0,850.0,1000.0,850.0,650.0,500.0,600.0,400.0,1200.0,800.0,350.0,300.0,1500.0,550.0,300.0,700.0,300.0,700.0,300.0,800.0,750.0,1000.0,550.0,2000.0,700.0,300.0,400.0,800.0,550.0,250.0,600.0,300.0,1700.0,500.0,1200.0,1300.0,700.0,1300.0,1000.0,1200.0,1000.0,1400.0,800.0,700.0,2100.0,800.0,900.0,550.0,400.0,750.0,400.0,500.0,900.0,500.0,800.0,500.0,800.0,600.0,800.0,150.0,750.0,600.0,1200.0,1300.0,600.0,500.0,650.0,500.0,400.0,500.0,200.0,800.0,350.0,1000.0,500.0,1100.0,500.0,500.0,200.0,500.0,300.0,450.0,100.0,600.0,500.0,1600.0,600.0,1600.0,450.0,500.0,800.0,900.0,300.0,800.0,2000.0,1000.0,600.0,550.0,400.0,1250.0,400.0,1400.0,700.0,300.0,300.0,700.0,500.0,300.0,400.0,2000.0,1000.0,700.0,400.0,450.0,300.0,350.0,400.0,300.0,400.0,400.0,250.0,450.0,400.0,300.0,150.0,250.0,200.0,180.0,400.0,150.0,500.0,400.0,200.0,300.0,300.0,500.0,350.0,600.0,1300.0,800.0,200.0,1100.0,750.0,500.0,2100.0,1800.0,1500.0,1700.0,2800.0,2100.0,3000.0,1200.0,1500.0,1500.0,1700.0,200.0,1500.0,1000.0,3000.0,1500.0,2500.0,2000.0,1500.0,600.0,2000.0,3000.0,1000.0,2800.0,3000.0,1800.0,500.0,1000.0,1600.0,3000.0,3000.0,3000.0,2500.0,800.0,800.0,1500.0,750.0,350.0,700.0,2500.0,2500.0,1000.0,700.0,450.0,500.0,400.0,500.0,200.0,250.0,1800.0,1500.0,1500.0,2500.0,2000.0,3000.0,2200.0,3000.0,800.0,700.0,1100.0,1500.0,1500.0,2000.0,1500.0,2500.0,3500.0,1700.0,1700.0,1500.0,1200.0,1200.0,1300.0,1500.0,1300.0,2800.0,2100.0,700.0,1700.0,1600.0,1000.0,3000.0,800.0,2000.0,1500.0,1000.0,1900.0,1700.0,2000.0,1100.0,1300.0,2200.0,1400.0,1500.0,600.0,900.0,1200.0,2500.0,1600.0,1400.0,1300.0,1500.0,1000.0,1000.0,600.0,2500.0,4000.0,550.0,750.0,1300.0,1500.0,3000.0,500.0,1000.0,1100.0,650.0,1200.0,1500.0,1400.0,1500.0,1100.0,600.0,1300.0,1000.0,1300.0,650.0,850.0,750.0,1800.0,1000.0,1500.0,750.0,1000.0,1200.0,3400.0,700.0,1800.0,2000.0,3000.0,1000.0,1400.0,3500.0,700.0,1600.0,400.0,900.0,1500.0,1200.0,1200.0,800.0,1200.0,4000.0,500.0,1300.0,700.0,4000.0,1200.0,800.0,600.0,1200.0,1100.0,1100.0,1000.0,1700.0,2000.0,550.0,2000.0,650.0,3000.0,1600.0,800.0,2000.0,2000.0,3500.0,1300.0,700.0,1000.0,750.0,800.0,1800.0,800.0,650.0,800.0,2000.0,2200.0,950.0,800.0,3000.0,750.0,1500.0,1000.0,1100.0,550.0,700.0,500.0,1000.0,600.0,700.0,800.0,2000.0,700.0,1200.0,300.0,700.0,500.0,1000.0,1000.0,450.0,1000.0,650.0,550.0,650.0,1200.0,1200.0,1000.0,2000.0,1500.0,350.0,300.0,400.0,400.0,1800.0,500.0,500.0,2500.0,650.0,800.0,1400.0,500.0,600.0,500.0,800.0,600.0,850.0,700.0,400.0,2400.0,1400.0,1900.0,1000.0,500.0,1300.0,250.0,1000.0,600.0,700.0,500.0,3000.0,600.0,500.0,800.0,600.0,500.0,800.0,1200.0,500.0,800.0,1200.0,800.0,600.0,800.0,2000.0,600.0,800.0,600.0,600.0,550.0,400.0,250.0,400.0,300.0,500.0,200.0,150.0,300.0,300.0,500.0,300.0,300.0,150.0,250.0,200.0,450.0,150.0,300.0,600.0,400.0,350.0,200.0,250.0,400.0,250.0,400.0,300.0,400.0,500.0,500.0,500.0,400.0,500.0,350.0,400.0,500.0,300.0,300.0,300.0,300.0,450.0,300.0,100.0,500.0,1300.0,800.0,1600.0,2500.0,1100.0,1100.0,750.0,700.0,1300.0,1700.0,600.0,1000.0,1200.0,550.0,600.0,500.0,800.0,650.0,200.0,700.0,650.0,200.0,750.0,1300.0,500.0,200.0,1000.0,650.0,300.0,400.0,500.0,500.0,300.0,300.0,500.0,300.0,250.0,700.0,400.0,350.0,300.0,1100.0,500.0,400.0,250.0,800.0,600.0,700.0,600.0,300.0,1300.0,2000.0,2000.0,1700.0,1500.0,1000.0,1500.0,2800.0,3000.0,1000.0,3000.0,1500.0,1500.0,2500.0,2000.0,3000.0,3000.0,1500.0,1500.0,1500.0,2500.0,1700.0,1700.0,1200.0,1300.0,1300.0,1700.0,2000.0,1500.0,1900.0,1300.0,1000.0,1300.0,1500.0,3000.0,1100.0,1200.0,1400.0,1100.0,1000.0,1000.0,1600.0,1200.0,1200.0,1100.0,1100.0,1000.0,2000.0,2000.0,1500.0,1100.0,600.0,1000.0,1000.0,2000.0,1500.0,2500.0,2400.0,1400.0,1300.0,2500.0,1200.0,1300.0,1300.0,1200.0,1500.0,1000.0,1500.0,2000.0,1800.0,1000.0,3000.0,1500.0,2000.0,1500.0,2500.0,1700.0,1200.0,1200.0,1300.0,2100.0,1700.0,1900.0,1700.0,1000.0,1500.0,1300.0,1000.0,1100.0,1200.0,1400.0,1100.0,1300.0,1000.0,1000.0,1000.0,1600.0,1200.0,1200.0,4000.0,1200.0,1100.0,1200.0,1100.0,1000.0,1700.0,2000.0,2000.0,3500.0,1300.0,1800.0,1100.0,600.0,1000.0,1200.0,1000.0,1800.0,1400.0,1300.0,800.0,1300.0,2500.0,1400.0,1100.0,1800.0,900.0,900.0,1200.0,700.0,650.0,800.0,600.0,600.0,800.0,1000.0,500.0,900.0,800.0,1100.0,700.0,900.0,700.0,250.0,400.0,600.0,500.0,650.0,650.0,300.0,350.0,400.0,300.0,450.0,400.0,800.0,500.0,600.0,300.0,600.0,1400.0,500.0,600.0,500.0,400.0,850.0,500.0,800.0,250.0,300.0,300.0,500.0,400.0,300.0,500.0,100.0,600.0,700.0,750.0,400.0,750.0,450.0,500.0,400.0,600.0,1700.0,800.0,200.0,300.0,500.0,600.0,300.0,700.0,400.0,650.0,500.0,500.0,300.0,1200.0,700.0,250.0,400.0,300.0,200.0,900.0,350.0,450.0,700.0,500.0,650.0,700.0,800.0,150.0,400.0,500.0,800.0,700.0,300.0,650.0,300.0,450.0,400.0,400.0,500.0,500.0,600.0,1000.0,400.0,900.0,1250.0,650.0,500.0,300.0,600.0,600.0,800.0,1000.0,600.0,400.0,400.0,1100.0,800.0,800.0,400.0,600.0,300.0,700.0,700.0,700.0,100.0,700.0,1100.0,400.0,900.0,900.0,400.0,350.0,500.0,400.0,200.0,600.0,150.0,800.0,350.0,200.0,1100.0,1400.0,450.0,450.0,400.0,700.0,800.0,250.0,600.0,650.0,400.0,700.0,400.0,400.0,300.0,600.0,500.0,600.0,900.0,700.0,400.0,500.0,400.0,300.0,200.0,400.0,500.0,400.0,300.0,400.0,200.0,500.0,350.0,1400.0,900.0,1200.0,1400.0,1200.0,600.0,500.0,1000.0,800.0,700.0,800.0,1000.0,700.0,700.0,650.0,1100.0,500.0,500.0,400.0,800.0,600.0,700.0,400.0,600.0,400.0,800.0,800.0,1400.0,600.0,750.0,600.0,700.0,650.0,1400.0,800.0,1000.0,500.0,1100.0,900.0,700.0,300.0,650.0,800.0,1100.0,750.0,1800.0,850.0,700.0,800.0,900.0,700.0,400.0,900.0,700.0,650.0,700.0,250.0,650.0,400.0,600.0,400.0,600.0,700.0,300.0,350.0,500.0,400.0,400.0,500.0,300.0,600.0,500.0,300.0,300.0,500.0,500.0,450.0,350.0,300.0,400.0,400.0,400.0,250.0,400.0,400.0,400.0,600.0,200.0,400.0,300.0,300.0,350.0,400.0,400.0,300.0,350.0,1400.0,1200.0,1400.0,1200.0,1400.0,1100.0,1200.0,1400.0,1400.0,1200.0,1000.0,1400.0,1100.0,1800.0,1200.0,3000.0,3500.0,2200.0,1400.0,1500.0,1600.0,1900.0,1400.0,1700.0,1500.0,1200.0,1300.0,600.0,750.0,800.0,1000.0,1200.0,1200.0,1500.0,1700.0,1000.0,1100.0,700.0,450.0,700.0,500.0,800.0,900.0,1000.0,1000.0,1600.0,200.0,700.0,500.0,1000.0,700.0,800.0,650.0,400.0,400.0,700.0,700.0,450.0,800.0,500.0,800.0,750.0,600.0,700.0,500.0,500.0,200.0,600.0,500.0,500.0,600.0,500.0,500.0,300.0,200.0,800.0,450.0,450.0,300.0,400.0,400.0,150.0,200.0,400.0,600.0,300.0,750.0,600.0,250.0,400.0,200.0,300.0,400.0,400.0,300.0,600.0,700.0,250.0,700.0,400.0,500.0,400.0,650.0,350.0,1000.0,300.0,450.0,400.0,600.0,1000.0,500.0,500.0,800.0,1000.0,350.0,800.0,800.0,1000.0,600.0,400.0,500.0,800.0,400.0,650.0,850.0,700.0,300.0,300.0,950.0,800.0,500.0,350.0,600.0,350.0,600.0,250.0,800.0,600.0,400.0,1500.0,600.0,200.0,600.0,600.0,300.0,300.0,500.0,200.0,700.0,800.0,600.0,300.0,250.0,600.0,700.0,750.0,800.0,300.0,500.0,500.0,500.0,1200.0,750.0,300.0,300.0,500.0,1200.0,400.0,1200.0,300.0,800.0,1200.0,1600.0,1100.0,400.0,250.0,500.0,650.0,600.0,400.0,900.0,500.0,100.0,700.0,500.0,400.0,300.0,500.0,600.0,1700.0,500.0,600.0,400.0,800.0,1200.0,800.0,1500.0,600.0,1300.0,400.0,750.0,350.0,450.0,500.0,500.0,1500.0,500.0,650.0,150.0,800.0,1400.0,500.0,350.0,350.0,400.0,600.0,500.0,300.0,650.0,400.0,550.0,450.0,600.0,400.0,500.0,300.0,1200.0,1500.0,1800.0,800.0,400.0,200.0,800.0,900.0,1100.0,600.0,500.0,500.0,500.0,450.0,800.0,250.0,600.0,1600.0,600.0,300.0,350.0,400.0,800.0,800.0,550.0,550.0,900.0,350.0,400.0,600.0,400.0,450.0,200.0,200.0,300.0,1500.0,550.0,200.0,750.0,450.0,600.0,500.0,650.0,300.0,300.0,600.0,800.0,1400.0,600.0,200.0,500.0,500.0,800.0,600.0,1000.0,600.0,400.0,350.0,350.0,700.0,400.0,500.0,400.0,500.0,700.0,300.0,800.0,500.0,1200.0,250.0,500.0,400.0,400.0,300.0,600.0,700.0,1200.0,450.0,200.0,600.0,1000.0,300.0,500.0,150.0,700.0,250.0,1500.0,700.0,300.0,1000.0,450.0,200.0,500.0,750.0,500.0,450.0,500.0,1400.0,1200.0,400.0,300.0,550.0,500.0,500.0,150.0,400.0,450.0,450.0,400.0,300.0,1200.0,750.0,300.0,300.0,1000.0,450.0,250.0,200.0,300.0,250.0,1900.0,750.0,400.0,200.0,500.0,1200.0,150.0,1500.0,900.0,400.0,800.0,700.0,700.0,600.0,800.0,2000.0,500.0,350.0,700.0,800.0,300.0,400.0,400.0,200.0,200.0,600.0,500.0,500.0,1700.0,1500.0,1600.0,400.0,1400.0,900.0,700.0,800.0,800.0,900.0,1500.0,650.0,700.0,500.0,800.0,300.0,600.0,350.0,600.0,400.0,200.0,700.0,150.0,500.0,400.0,700.0,400.0,450.0,250.0,1100.0,400.0,300.0,200.0,500.0,500.0,300.0,500.0,500.0,500.0,500.0,1500.0,600.0,600.0,500.0,400.0,400.0,1200.0,700.0,200.0,400.0,200.0,250.0,300.0,200.0,1200.0,400.0,800.0,900.0,1000.0,200.0,700.0,400.0,300.0,400.0,400.0,400.0,300.0,300.0,450.0,800.0,400.0,500.0,400.0,400.0,400.0,800.0,800.0,750.0,300.0,500.0,300.0,600.0,350.0,400.0,300.0,200.0,300.0,200.0,200.0,300.0,500.0,450.0,600.0,1800.0,3500.0,4000.0,1000.0,1000.0,2200.0,1400.0,2000.0,700.0,6000.0,3500.0,2400.0,900.0,1500.0,700.0,450.0,800.0,300.0,600.0,550.0,400.0,750.0,1900.0,3000.0,500.0,200.0,400.0,250.0,400.0,350.0,150.0,300.0,400.0,400.0,700.0,500.0,500.0,400.0,400.0,500.0,400.0,450.0,250.0,600.0,600.0,850.0,700.0,500.0,750.0,500.0,800.0,500.0,600.0,750.0,650.0,600.0,500.0,400.0,700.0,500.0,500.0,600.0,500.0,500.0,800.0,400.0,350.0,300.0,150.0,250.0,200.0,150.0,200.0,550.0,250.0,450.0,300.0,500.0,350.0,150.0,450.0,350.0,450.0,500.0,400.0,200.0,250.0,400.0,350.0,1600.0,1000.0,800.0,1500.0,1800.0,1400.0,2000.0,1200.0,1500.0,1900.0,1500.0,1500.0,1200.0,1600.0,1400.0,1500.0,2500.0,1300.0,1000.0,1400.0,1700.0,1700.0,900.0,1500.0,1500.0,1200.0,1300.0,1400.0,700.0,1300.0,1600.0,1000.0,1000.0,1200.0,1100.0,1000.0,3000.0,1500.0,600.0,2000.0,800.0,1700.0,750.0,1200.0,600.0,800.0,800.0,1200.0,1600.0,800.0,200.0,1000.0,1100.0,900.0,700.0,1500.0,700.0,1100.0,1300.0,1500.0,1500.0,450.0,650.0,500.0,1000.0,1000.0,1800.0,1500.0,700.0,800.0,650.0,1100.0,1200.0,1200.0,1500.0,800.0,500.0,1400.0,1800.0,1500.0,700.0,1800.0,800.0,500.0,1200.0,1700.0,2000.0,1300.0,1600.0,800.0,500.0,450.0,300.0,1000.0,800.0,300.0,800.0,600.0,800.0,300.0,600.0,3000.0,1000.0,600.0,400.0,350.0,300.0,400.0,700.0,400.0,400.0,200.0,300.0,700.0,150.0,600.0,600.0,300.0,600.0,400.0,500.0,250.0,1800.0,1300.0,350.0,400.0,500.0,350.0,600.0,300.0,500.0,450.0,500.0,250.0,1100.0,600.0,1200.0,500.0,500.0,300.0,250.0,500.0,200.0,600.0,1500.0,1800.0,1000.0,1800.0,2400.0,3000.0,1400.0,2000.0,1900.0,1500.0,1400.0,1300.0,1400.0,1300.0,1300.0,1400.0,1000.0,1500.0,2000.0,1700.0,1600.0,1100.0,1100.0,1500.0,1500.0,1800.0,1500.0,1100.0,1400.0,1800.0,1200.0,1300.0,1600.0,1000.0,1300.0,1300.0,1000.0,1800.0,1000.0,1400.0,1800.0,900.0,1000.0,1400.0,2000.0,1200.0,1500.0,1500.0,2500.0,1300.0,1500.0,1300.0,1400.0,1700.0,800.0,1100.0,1100.0,1500.0,1500.0,1800.0,1100.0,1400.0,1500.0,1200.0,1700.0,2000.0,1300.0,1000.0,1300.0,1200.0,1600.0,800.0,1800.0,750.0,1000.0,600.0,900.0,600.0,2000.0,1200.0,1700.0,1500.0,1100.0,1000.0,1000.0,600.0,600.0,500.0,600.0,500.0,700.0,500.0,700.0,350.0,500.0,400.0,500.0,450.0,500.0,450.0,400.0,750.0,400.0,400.0,300.0,850.0,700.0,250.0,400.0,500.0,450.0,1100.0,250.0,1000.0,350.0,600.0,300.0,250.0,400.0,400.0,800.0,250.0,500.0,400.0,150.0,650.0,500.0,200.0,600.0,350.0,750.0,450.0,450.0,500.0,800.0,300.0,600.0,500.0,400.0,600.0,800.0,600.0,600.0,1400.0,700.0,2000.0,1700.0,1200.0,350.0,500.0,600.0,600.0,1100.0,600.0,450.0,400.0,300.0,800.0,600.0,400.0,1000.0,650.0,600.0,800.0,700.0,500.0,400.0,150.0,250.0,200.0,350.0,400.0,1000.0,300.0,450.0,500.0,1100.0,500.0,1500.0,300.0,1200.0,500.0,500.0,300.0,400.0,250.0,300.0,300.0,500.0,900.0,350.0,600.0,800.0,1100.0,300.0,400.0,600.0,700.0,800.0,800.0,1400.0,600.0,120.0,1000.0,400.0,250.0,400.0,400.0,150.0,100.0,800.0,900.0,500.0,150.0,1000.0,400.0,750.0,150.0,150.0,200.0,350.0,600.0,300.0,150.0,900.0,300.0,100.0,350.0,600.0,600.0,1500.0,500.0,1100.0,200.0,400.0,600.0,750.0,800.0,250.0,500.0,500.0,600.0,200.0,500.0,400.0,500.0,600.0,250.0,200.0,500.0,100.0,500.0,600.0,350.0,250.0,200.0,500.0,400.0,700.0,250.0,250.0,300.0,100.0,250.0,200.0,450.0,300.0,400.0,1650.0,1100.0,1600.0,400.0,600.0,800.0,700.0,1800.0,700.0,750.0,900.0,1100.0,450.0,800.0,900.0,800.0,1000.0,600.0,700.0,700.0,600.0,350.0,500.0,900.0,1000.0,600.0,600.0,1200.0,400.0,300.0,400.0,400.0,400.0,350.0,600.0,450.0,300.0,300.0,450.0,750.0,450.0,800.0,600.0,600.0,350.0,300.0,500.0,500.0,1200.0,800.0,750.0,750.0,600.0,500.0,800.0,250.0,400.0,400.0,500.0,600.0,200.0,400.0,2600.0,2000.0,1800.0,2000.0,1200.0,1300.0,2500.0,1700.0,1400.0,1000.0,1000.0,1500.0,1400.0,800.0,150.0,1400.0,1400.0,1200.0,1200.0,600.0,500.0,1500.0,1100.0,1500.0,1500.0,250.0,1100.0,650.0,1000.0,700.0,500.0,100.0,500.0,600.0,500.0,300.0,1100.0,850.0,2500.0,250.0,600.0,1500.0,150.0,700.0,1100.0,200.0,600.0,350.0,450.0,200.0,150.0,600.0,600.0,200.0,250.0,300.0,300.0,400.0,350.0,2000.0,200.0,250.0,400.0,600.0,1000.0,200.0,500.0,400.0,250.0,500.0,200.0,300.0,500.0,200.0,300.0,300.0,300.0,400.0,400.0,500.0,450.0,800.0,550.0,500.0,150.0,300.0,500.0,1200.0,1650.0,1000.0,2600.0,1800.0,1400.0,1400.0,1200.0,1500.0,1500.0,1100.0,1100.0,800.0,2000.0,1200.0,1650.0,1100.0,1800.0,800.0,900.0,1200.0,800.0,1400.0,1400.0,1400.0,1200.0,1500.0,1100.0,1100.0,800.0,2000.0,1200.0,1500.0,500.0,3400.0,2000.0,1900.0,1800.0,1500.0,2200.0,2100.0,3000.0,1200.0,1700.0,1400.0,2500.0,750.0,3000.0,1500.0,1000.0,1500.0,1500.0,2000.0,1200.0,800.0,1200.0,1700.0,1600.0,1300.0,1600.0,3000.0,1000.0,1200.0,1000.0,650.0,1400.0,800.0,1000.0,1000.0,500.0,1200.0,650.0,2800.0,1600.0,1300.0,1700.0,1300.0,1800.0,1600.0,1000.0,1100.0,750.0,1200.0,800.0,400.0,400.0,600.0,1100.0,900.0,1700.0,1000.0,600.0,600.0,2500.0,650.0,1400.0,700.0,900.0,450.0,700.0,800.0,750.0,650.0,500.0,500.0,1000.0,1200.0,650.0,500.0,800.0,1000.0,500.0,700.0,800.0,350.0,1300.0,750.0,1100.0,750.0,1000.0,750.0,1000.0,600.0,500.0,450.0,300.0,500.0,500.0,650.0,200.0,350.0,500.0,500.0,200.0,650.0,300.0,400.0,600.0,750.0,500.0,550.0,500.0,1200.0,150.0,250.0,600.0,600.0,800.0,750.0,400.0,450.0,300.0,400.0,800.0,650.0,900.0,500.0,600.0,1300.0,400.0,800.0,400.0,550.0,750.0,1400.0,1600.0,400.0,400.0,350.0,500.0,1500.0,300.0,1300.0,400.0,600.0,600.0,300.0,1100.0,1300.0,250.0,850.0,300.0,500.0,400.0,400.0,1700.0,1200.0,1500.0,200.0,400.0,1600.0,800.0,700.0,1200.0,300.0,300.0,500.0,250.0,450.0,700.0,600.0,400.0,700.0,700.0,600.0,400.0,500.0,450.0,550.0,500.0,1000.0,400.0,1000.0,700.0,400.0,750.0,700.0,400.0,300.0,800.0,1300.0,650.0,400.0,750.0,1500.0,350.0,800.0,1000.0,1400.0,500.0,800.0,500.0,1300.0,700.0,600.0,600.0,450.0,500.0,1500.0,800.0,180.0,2100.0,400.0,300.0,400.0,1700.0,400.0,150.0,1000.0,3000.0,200.0,1700.0,1000.0,200.0,1000.0,300.0,600.0,1300.0,2000.0,1300.0,650.0,950.0,200.0,300.0,700.0,800.0,300.0,400.0,600.0,500.0,1400.0,400.0,700.0,300.0,400.0,500.0,600.0,700.0,250.0,200.0,700.0,1500.0,750.0,800.0,900.0,700.0,2000.0,1500.0,1500.0,700.0,1000.0,500.0,350.0,1000.0,1000.0,1000.0,250.0,1000.0,700.0,1900.0,800.0,550.0,2100.0,600.0,750.0,1400.0,1000.0,1200.0,300.0,350.0,300.0,2000.0,300.0,500.0,400.0,1200.0,750.0,700.0,800.0,2000.0,1800.0,850.0,1500.0,200.0,600.0,400.0,800.0,300.0,600.0,1800.0,850.0,1800.0,800.0,500.0,1000.0,750.0,1200.0,650.0,700.0,800.0,100.0,800.0,600.0,1000.0,650.0,500.0,1300.0,700.0,400.0,200.0,1000.0,800.0,300.0,500.0,1700.0,250.0,1200.0,400.0,1200.0,1000.0,1500.0,1600.0,700.0,2100.0,800.0,900.0,1700.0,1400.0,600.0,400.0,750.0,500.0,900.0,450.0,500.0,150.0,450.0,600.0,1200.0,500.0,500.0,550.0,400.0,450.0,500.0,200.0,800.0,800.0,800.0,1000.0,500.0,1100.0,200.0,800.0,500.0,550.0,300.0,450.0,350.0,300.0,250.0,1300.0,600.0,500.0,400.0,600.0,1600.0,1300.0,550.0,800.0,2000.0,400.0,400.0,150.0,400.0,500.0,500.0,350.0,600.0,800.0,1000.0,600.0,550.0,1250.0,400.0,1400.0,300.0,700.0,450.0,300.0,500.0,1000.0,500.0,450.0,300.0,400.0,300.0,800.0,250.0,450.0,400.0,900.0,150.0,250.0,180.0,400.0,500.0,200.0,300.0,300.0,300.0,1300.0,750.0,1100.0,300.0,2000.0,700.0,350.0,400.0,300.0,300.0,400.0,2000.0,1500.0,800.0,3500.0,1700.0,800.0,2000.0,600.0,1200.0,1400.0,550.0,3000.0,500.0,400.0,3400.0,1000.0,800.0,4000.0,1000.0,2000.0,3500.0,1000.0,800.0,550.0,700.0,1000.0,2000.0,600.0,1900.0,250.0,500.0,600.0,300.0,200.0,500.0,400.0,500.0,100.0,500.0,1700.0,1800.0,1500.0,1500.0,2500.0,2000.0,3000.0,2200.0,3000.0,2800.0,700.0,1500.0,1100.0,2100.0,1500.0,1500.0,2000.0,3000.0,2500.0,1700.0,1500.0,1200.0,1200.0,1300.0,1500.0,1300.0,2100.0,1200.0,1600.0,800.0,1700.0,1600.0,1000.0,3000.0,1500.0,1500.0,700.0,1500.0,2500.0,1000.0,2100.0,1900.0,1100.0,1300.0,1700.0,2200.0,1400.0,1500.0,900.0,1700.0,1300.0,1000.0,1000.0,600.0,2500.0,1400.0,200.0,1500.0,4000.0,750.0,1500.0,3000.0,1500.0,1000.0,1100.0,650.0,1200.0,2500.0,1500.0,1500.0,2000.0,1000.0,1400.0,1500.0,1100.0,1300.0,650.0,750.0,850.0,1800.0,1000.0,1500.0,1000.0,1200.0,2000.0,1400.0,3500.0,700.0,1600.0,1500.0,1200.0,1200.0,1500.0,1200.0,4000.0,700.0,1300.0,1200.0,800.0,600.0,1100.0,1100.0,900.0,2000.0,1200.0,1700.0,1600.0,800.0,2000.0,3000.0,2000.0,1200.0,1000.0,700.0,800.0,500.0,2800.0,1800.0,650.0,3000.0,750.0,650.0,1800.0,950.0,3000.0,750.0,500.0,750.0,1500.0,1000.0,1100.0,500.0,600.0,800.0,1200.0,1000.0,700.0,300.0,1300.0,1000.0,500.0,1600.0,500.0,3000.0,1000.0,1000.0,400.0,550.0,1200.0,650.0,1200.0,1000.0,350.0,400.0,3000.0,1200.0,3000.0,400.0,500.0,1800.0,2500.0,650.0,800.0,2500.0,700.0,1400.0,800.0,500.0,800.0,600.0,850.0,700.0,500.0,800.0,1000.0,500.0,1300.0,1500.0,1000.0,700.0,500.0,3000.0,600.0,800.0,600.0,500.0,800.0,1200.0,500.0,550.0,800.0,800.0,1200.0,350.0,650.0,800.0,2000.0,700.0,600.0,2500.0,800.0,600.0,1000.0,600.0,550.0,400.0,250.0,700.0,400.0,500.0,200.0,300.0,150.0,450.0,300.0,500.0,300.0,300.0,150.0,300.0,450.0,500.0,300.0,400.0,250.0,400.0,250.0,350.0,300.0,400.0,500.0,500.0,400.0,200.0,500.0,400.0,350.0,250.0,250.0,300.0,300.0,450.0,600.0,1300.0,2800.0,2500.0,1600.0,1100.0,1300.0,600.0,600.0,1300.0,1000.0,750.0,1100.0,1800.0,3000.0,750.0,1300.0,1700.0,500.0,600.0,1200.0,1000.0,2000.0,750.0,3000.0,1300.0,750.0,800.0,2000.0,850.0,700.0,700.0,600.0,750.0,700.0,1800.0,300.0,1600.0,150.0,900.0,450.0,1000.0,400.0,450.0,300.0,150.0,2200.0,200.0,200.0,500.0,1000.0,2400.0,150.0,350.0,400.0,400.0,400.0,1000.0,600.0,450.0,1100.0,450.0,300.0,800.0,150.0,300.0,300.0,600.0,2000.0,1700.0,1500.0,1500.0,1700.0,1200.0,3000.0,1000.0,1000.0,1000.0,2000.0,2500.0,3000.0,3000.0,1500.0,1500.0,2000.0,1500.0,2500.0,1700.0,1200.0,1300.0,1300.0,1700.0,1500.0,1500.0,2500.0,1900.0,1300.0,1300.0,1000.0,1500.0,1100.0,1200.0,1000.0,1400.0,1100.0,1000.0,1600.0,1200.0,1200.0,1500.0,1100.0,1100.0,2000.0,2000.0,1200.0,2800.0,3000.0,1500.0,1100.0,600.0,1000.0,1000.0,3000.0,1200.0,2500.0,1500.0,1300.0,1300.0,1000.0,2200.0,2400.0,1500.0,2000.0,1400.0,1600.0,1300.0,1800.0,1100.0,1500.0,1500.0,500.0,700.0,1900.0,1000.0,1400.0,1500.0,1200.0,2500.0,1500.0,1500.0,1100.0,1500.0,1000.0,700.0,800.0,500.0,600.0,800.0,600.0,500.0,200.0,600.0,800.0,400.0,600.0,500.0,1000.0,500.0,400.0,650.0,500.0,450.0,200.0,450.0,400.0,300.0,400.0,500.0,200.0,500.0,500.0,400.0,400.0,400.0,600.0,300.0,600.0,250.0,400.0,650.0,450.0,600.0,400.0,950.0,650.0,500.0,200.0,400.0,200.0,600.0,350.0,600.0,1200.0,800.0,150.0,500.0,1500.0,300.0,500.0,400.0,700.0,800.0,400.0,400.0,100.0,800.0,600.0,300.0,100.0,600.0,500.0,400.0,500.0,450.0,1200.0,600.0,700.0,800.0,200.0,600.0,500.0,250.0,200.0,450.0,450.0,500.0,400.0,800.0,800.0,1400.0,600.0,300.0,500.0,200.0,400.0,250.0,900.0,300.0,200.0,500.0,750.0,600.0,400.0,500.0,300.0,350.0,400.0,350.0,450.0,200.0,700.0,400.0,800.0,900.0,750.0,400.0,600.0,700.0,650.0,1000.0,500.0,300.0,200.0,500.0,300.0,800.0,800.0,150.0,500.0,400.0,300.0,600.0,300.0,600.0,750.0,300.0,500.0,400.0,750.0,450.0,400.0,800.0,450.0,750.0,600.0,1300.0,400.0,1400.0,1200.0,800.0,1300.0,1600.0,1800.0,500.0,450.0,400.0,600.0,600.0,1500.0,700.0,600.0,800.0,1500.0,600.0,250.0,1500.0,800.0,850.0,500.0,1800.0,1000.0,1100.0,500.0,900.0,1500.0,600.0,500.0,1000.0,1500.0,500.0,700.0,250.0,500.0,1000.0,700.0,550.0,1100.0,1200.0,600.0,600.0,500.0,1500.0,1700.0,900.0,600.0,400.0,1200.0,800.0,1400.0,1400.0,800.0,300.0,400.0,1400.0,1700.0,500.0,1000.0,1500.0,1000.0,550.0,200.0,700.0,300.0,400.0,500.0,600.0,500.0,700.0,500.0,1500.0,500.0,500.0,400.0,800.0,300.0,400.0,500.0,250.0,600.0,800.0,750.0,500.0,300.0,700.0,500.0,400.0,200.0,800.0,500.0,700.0,450.0,150.0,800.0,550.0,600.0,550.0,300.0,600.0,300.0,100.0,150.0,600.0,330.0,600.0,600.0,400.0,400.0,500.0,400.0,750.0,600.0,200.0,500.0,300.0,200.0,800.0,300.0,500.0,400.0,400.0,350.0,400.0,500.0,500.0,300.0,200.0,500.0,250.0,500.0,600.0,600.0,900.0,300.0,1400.0,1500.0,1500.0,1600.0,1400.0,1500.0,1900.0,1600.0,1400.0,1300.0,1300.0,1800.0,1400.0,600.0,1100.0,1500.0,1500.0,1500.0,2000.0,600.0,700.0,700.0,800.0,800.0,500.0,500.0,850.0,800.0,1200.0,900.0,700.0,800.0,1000.0,600.0,800.0,600.0,700.0,400.0,200.0,800.0,900.0,600.0,600.0,800.0,700.0,500.0,400.0,1000.0,1200.0,1900.0,550.0,500.0,550.0,600.0,500.0,450.0,800.0,300.0,150.0,500.0,500.0,400.0,450.0,200.0,600.0,100.0,250.0,300.0,400.0,500.0,250.0,300.0,200.0,350.0,400.0,400.0,500.0,250.0,600.0,300.0,500.0,400.0,750.0,300.0,300.0,1000.0,1800.0,1700.0,1800.0,1400.0,1500.0,750.0,1200.0,800.0,2000.0,1200.0,950.0,2000.0,600.0,2500.0,400.0,700.0,600.0,750.0,1500.0,1500.0,1100.0,1200.0,600.0,900.0,400.0,500.0,650.0,500.0,1500.0,800.0,1800.0,450.0,1400.0,600.0,500.0,200.0,800.0,300.0,500.0,300.0,550.0,400.0,800.0,500.0,200.0,1000.0,400.0,250.0,500.0,300.0,400.0,600.0,2500.0,200.0,500.0,450.0,800.0,350.0,200.0,700.0,330.0,200.0,400.0,600.0,250.0,400.0,200.0,500.0,450.0,500.0,400.0,800.0,550.0,400.0,400.0,600.0,1000.0,450.0,400.0,800.0,1500.0,1400.0,1400.0,1600.0,1400.0,1500.0,1900.0,1500.0,1300.0,1500.0,1200.0,900.0,1000.0,1700.0,1500.0,1500.0,1800.0,1400.0,2500.0,1500.0,1400.0,1800.0,1400.0,1400.0,1500.0,1900.0,1300.0,1800.0,1200.0,900.0,1700.0,1800.0,1400.0,1500.0,1100.0,700.0,900.0,550.0,600.0,1400.0,500.0,900.0,1100.0,700.0,2000.0,600.0,600.0,1000.0,900.0,700.0,350.0,400.0,650.0,400.0,400.0,700.0,1000.0,800.0,500.0,300.0,400.0,750.0,600.0,250.0,400.0,700.0,600.0,400.0,400.0,400.0,200.0,300.0,400.0,250.0,500.0,500.0,700.0,500.0,400.0,300.0,600.0,800.0,450.0,800.0,350.0,450.0,750.0,550.0,200.0,800.0,600.0,750.0,450.0,400.0,300.0,500.0,400.0,800.0,650.0,1000.0,600.0,500.0,400.0,500.0,500.0,300.0,350.0,600.0,550.0,600.0,1100.0,900.0,300.0,250.0,350.0,150.0,800.0,200.0,400.0,400.0,200.0,750.0,450.0,200.0,900.0,550.0,500.0,300.0,500.0,250.0,600.0,900.0,1000.0,1700.0,1200.0,2000.0,400.0,400.0,400.0,1400.0,450.0,300.0,600.0,400.0,600.0,500.0,650.0,300.0,600.0,500.0,300.0,500.0,300.0,300.0,450.0,1000.0,850.0,2000.0,300.0,700.0,300.0,750.0,500.0,400.0,400.0,300.0,250.0,400.0,300.0,500.0,400.0,1500.0,300.0,400.0,700.0,400.0,500.0,1500.0,400.0,1400.0,400.0,500.0,500.0,1800.0,450.0,400.0,1500.0,1600.0,1500.0,1500.0,900.0,500.0,200.0,600.0,500.0,400.0,1600.0,1000.0,550.0,250.0,600.0,500.0,550.0,500.0,1400.0,800.0,300.0,600.0,1200.0,400.0,600.0,400.0,500.0,1500.0,500.0,450.0,800.0,150.0,1000.0,600.0,300.0,650.0,300.0,200.0,500.0,700.0,300.0,450.0,1500.0,400.0,150.0,300.0,800.0,700.0,700.0,900.0,200.0,350.0,900.0,1200.0,750.0,700.0,700.0,500.0,200.0,600.0,2000.0,700.0,800.0,200.0,300.0,1200.0,400.0,500.0,750.0,1000.0,800.0,1400.0,300.0,800.0,800.0,800.0,350.0,500.0,350.0,400.0,400.0,350.0,1000.0,1400.0,750.0,1100.0,800.0,600.0,350.0,1100.0,750.0,900.0,400.0,700.0,1700.0,600.0,600.0,1200.0,800.0,350.0,1000.0,300.0,500.0,700.0,500.0,650.0,700.0,300.0,300.0,500.0,600.0,400.0,400.0,400.0,450.0,450.0,1500.0,1200.0,800.0,400.0,500.0,1100.0,500.0,800.0,800.0,600.0,400.0,600.0,300.0,750.0,800.0,500.0,900.0,700.0,600.0,700.0,1000.0,500.0,1700.0,500.0,1000.0,450.0,800.0,900.0,550.0,600.0,400.0,400.0,500.0,700.0,150.0,500.0,400.0,600.0,1500.0,450.0,500.0,450.0,400.0,1000.0,200.0,300.0,300.0,150.0,800.0,250.0,500.0,1500.0,400.0,600.0,400.0,400.0,200.0,250.0,300.0,300.0,500.0,1000.0,2000.0,2500.0,2400.0,2500.0,1600.0,1600.0,1400.0,1600.0,1700.0,1700.0,1700.0,1100.0,2000.0,1000.0,1500.0,1900.0,1500.0,1600.0,1800.0,1800.0,1700.0,1200.0,1500.0,2000.0,1000.0,1500.0,900.0,550.0,1600.0,2500.0,650.0,800.0,800.0,800.0,1700.0,1400.0,1000.0,1800.0,2000.0,1400.0,800.0,750.0,1500.0,2000.0,700.0,1000.0,850.0,1200.0,900.0,1400.0,700.0,800.0,1200.0,1500.0,750.0,1700.0,2000.0,800.0,550.0,1400.0,2000.0,1500.0,900.0,1100.0,700.0,2500.0,1100.0,900.0,400.0,1000.0,3000.0,1000.0,700.0,800.0,1450.0,300.0,2000.0,800.0,1000.0,1400.0,700.0,600.0,750.0,1500.0,1500.0,1500.0,1000.0,700.0,2000.0,900.0,2500.0,800.0,600.0,900.0,2100.0,800.0,400.0,1200.0,600.0,1200.0,800.0,700.0,1000.0,1500.0,600.0,3000.0,300.0,300.0,350.0,400.0,500.0,800.0,800.0,700.0,1700.0,750.0,400.0,1200.0,500.0,2000.0,350.0,1500.0,600.0,750.0,2000.0,400.0,3000.0,650.0,500.0,800.0,1900.0,450.0,1200.0,750.0,1000.0,800.0,2000.0,700.0,1200.0,600.0,700.0,400.0,700.0,1800.0,700.0,700.0,250.0,700.0,600.0,600.0,800.0,150.0,650.0,550.0,1100.0,1600.0,900.0,500.0,350.0,450.0,500.0,600.0,700.0,600.0,500.0,200.0,600.0,350.0,400.0,300.0,350.0,600.0,400.0,500.0,300.0,350.0,400.0,300.0,400.0,450.0,250.0,500.0,300.0,400.0,500.0,400.0,200.0,200.0,400.0,400.0,300.0,300.0,600.0,400.0,350.0,400.0,400.0,350.0,400.0,400.0,400.0,600.0,450.0,300.0,300.0,400.0,200.0,300.0,550.0,350.0,500.0,600.0,550.0,400.0,450.0,500.0,300.0,400.0,400.0,450.0,500.0,500.0,600.0,300.0,500.0,400.0,400.0,450.0,400.0,400.0,350.0,700.0,500.0,500.0,300.0,400.0,1500.0,2500.0,1000.0,800.0,500.0,500.0,300.0,500.0,600.0,1800.0,400.0,300.0,1700.0,1200.0,1600.0,2400.0,2500.0,1700.0,1000.0,1900.0,1500.0,1000.0,1500.0,1600.0,1700.0,1800.0,1200.0,1500.0,1400.0,1450.0,1500.0,1500.0,2100.0,1700.0,1200.0,2000.0,1800.0,800.0,2500.0,1600.0,1900.0,1700.0,2400.0,2500.0,1700.0,1100.0,1000.0,1500.0,1800.0,1000.0,1200.0,1500.0,1600.0,1700.0,1800.0,1200.0,1200.0,1500.0,1400.0,1450.0,1500.0,1500.0,1200.0,2000.0,1200.0,800.0,2500.0],\"type\":\"box\"}],                        {\"height\":600,\"template\":{\"data\":{\"barpolar\":[{\"marker\":{\"line\":{\"color\":\"#E5ECF6\",\"width\":0.5},\"pattern\":{\"fillmode\":\"overlay\",\"size\":10,\"solidity\":0.2}},\"type\":\"barpolar\"}],\"bar\":[{\"error_x\":{\"color\":\"#2a3f5f\"},\"error_y\":{\"color\":\"#2a3f5f\"},\"marker\":{\"line\":{\"color\":\"#E5ECF6\",\"width\":0.5},\"pattern\":{\"fillmode\":\"overlay\",\"size\":10,\"solidity\":0.2}},\"type\":\"bar\"}],\"carpet\":[{\"aaxis\":{\"endlinecolor\":\"#2a3f5f\",\"gridcolor\":\"white\",\"linecolor\":\"white\",\"minorgridcolor\":\"white\",\"startlinecolor\":\"#2a3f5f\"},\"baxis\":{\"endlinecolor\":\"#2a3f5f\",\"gridcolor\":\"white\",\"linecolor\":\"white\",\"minorgridcolor\":\"white\",\"startlinecolor\":\"#2a3f5f\"},\"type\":\"carpet\"}],\"choropleth\":[{\"colorbar\":{\"outlinewidth\":0,\"ticks\":\"\"},\"type\":\"choropleth\"}],\"contourcarpet\":[{\"colorbar\":{\"outlinewidth\":0,\"ticks\":\"\"},\"type\":\"contourcarpet\"}],\"contour\":[{\"colorbar\":{\"outlinewidth\":0,\"ticks\":\"\"},\"colorscale\":[[0.0,\"#0d0887\"],[0.1111111111111111,\"#46039f\"],[0.2222222222222222,\"#7201a8\"],[0.3333333333333333,\"#9c179e\"],[0.4444444444444444,\"#bd3786\"],[0.5555555555555556,\"#d8576b\"],[0.6666666666666666,\"#ed7953\"],[0.7777777777777778,\"#fb9f3a\"],[0.8888888888888888,\"#fdca26\"],[1.0,\"#f0f921\"]],\"type\":\"contour\"}],\"heatmapgl\":[{\"colorbar\":{\"outlinewidth\":0,\"ticks\":\"\"},\"colorscale\":[[0.0,\"#0d0887\"],[0.1111111111111111,\"#46039f\"],[0.2222222222222222,\"#7201a8\"],[0.3333333333333333,\"#9c179e\"],[0.4444444444444444,\"#bd3786\"],[0.5555555555555556,\"#d8576b\"],[0.6666666666666666,\"#ed7953\"],[0.7777777777777778,\"#fb9f3a\"],[0.8888888888888888,\"#fdca26\"],[1.0,\"#f0f921\"]],\"type\":\"heatmapgl\"}],\"heatmap\":[{\"colorbar\":{\"outlinewidth\":0,\"ticks\":\"\"},\"colorscale\":[[0.0,\"#0d0887\"],[0.1111111111111111,\"#46039f\"],[0.2222222222222222,\"#7201a8\"],[0.3333333333333333,\"#9c179e\"],[0.4444444444444444,\"#bd3786\"],[0.5555555555555556,\"#d8576b\"],[0.6666666666666666,\"#ed7953\"],[0.7777777777777778,\"#fb9f3a\"],[0.8888888888888888,\"#fdca26\"],[1.0,\"#f0f921\"]],\"type\":\"heatmap\"}],\"histogram2dcontour\":[{\"colorbar\":{\"outlinewidth\":0,\"ticks\":\"\"},\"colorscale\":[[0.0,\"#0d0887\"],[0.1111111111111111,\"#46039f\"],[0.2222222222222222,\"#7201a8\"],[0.3333333333333333,\"#9c179e\"],[0.4444444444444444,\"#bd3786\"],[0.5555555555555556,\"#d8576b\"],[0.6666666666666666,\"#ed7953\"],[0.7777777777777778,\"#fb9f3a\"],[0.8888888888888888,\"#fdca26\"],[1.0,\"#f0f921\"]],\"type\":\"histogram2dcontour\"}],\"histogram2d\":[{\"colorbar\":{\"outlinewidth\":0,\"ticks\":\"\"},\"colorscale\":[[0.0,\"#0d0887\"],[0.1111111111111111,\"#46039f\"],[0.2222222222222222,\"#7201a8\"],[0.3333333333333333,\"#9c179e\"],[0.4444444444444444,\"#bd3786\"],[0.5555555555555556,\"#d8576b\"],[0.6666666666666666,\"#ed7953\"],[0.7777777777777778,\"#fb9f3a\"],[0.8888888888888888,\"#fdca26\"],[1.0,\"#f0f921\"]],\"type\":\"histogram2d\"}],\"histogram\":[{\"marker\":{\"pattern\":{\"fillmode\":\"overlay\",\"size\":10,\"solidity\":0.2}},\"type\":\"histogram\"}],\"mesh3d\":[{\"colorbar\":{\"outlinewidth\":0,\"ticks\":\"\"},\"type\":\"mesh3d\"}],\"parcoords\":[{\"line\":{\"colorbar\":{\"outlinewidth\":0,\"ticks\":\"\"}},\"type\":\"parcoords\"}],\"pie\":[{\"automargin\":true,\"type\":\"pie\"}],\"scatter3d\":[{\"line\":{\"colorbar\":{\"outlinewidth\":0,\"ticks\":\"\"}},\"marker\":{\"colorbar\":{\"outlinewidth\":0,\"ticks\":\"\"}},\"type\":\"scatter3d\"}],\"scattercarpet\":[{\"marker\":{\"colorbar\":{\"outlinewidth\":0,\"ticks\":\"\"}},\"type\":\"scattercarpet\"}],\"scattergeo\":[{\"marker\":{\"colorbar\":{\"outlinewidth\":0,\"ticks\":\"\"}},\"type\":\"scattergeo\"}],\"scattergl\":[{\"marker\":{\"colorbar\":{\"outlinewidth\":0,\"ticks\":\"\"}},\"type\":\"scattergl\"}],\"scattermapbox\":[{\"marker\":{\"colorbar\":{\"outlinewidth\":0,\"ticks\":\"\"}},\"type\":\"scattermapbox\"}],\"scatterpolargl\":[{\"marker\":{\"colorbar\":{\"outlinewidth\":0,\"ticks\":\"\"}},\"type\":\"scatterpolargl\"}],\"scatterpolar\":[{\"marker\":{\"colorbar\":{\"outlinewidth\":0,\"ticks\":\"\"}},\"type\":\"scatterpolar\"}],\"scatter\":[{\"marker\":{\"colorbar\":{\"outlinewidth\":0,\"ticks\":\"\"}},\"type\":\"scatter\"}],\"scatterternary\":[{\"marker\":{\"colorbar\":{\"outlinewidth\":0,\"ticks\":\"\"}},\"type\":\"scatterternary\"}],\"surface\":[{\"colorbar\":{\"outlinewidth\":0,\"ticks\":\"\"},\"colorscale\":[[0.0,\"#0d0887\"],[0.1111111111111111,\"#46039f\"],[0.2222222222222222,\"#7201a8\"],[0.3333333333333333,\"#9c179e\"],[0.4444444444444444,\"#bd3786\"],[0.5555555555555556,\"#d8576b\"],[0.6666666666666666,\"#ed7953\"],[0.7777777777777778,\"#fb9f3a\"],[0.8888888888888888,\"#fdca26\"],[1.0,\"#f0f921\"]],\"type\":\"surface\"}],\"table\":[{\"cells\":{\"fill\":{\"color\":\"#EBF0F8\"},\"line\":{\"color\":\"white\"}},\"header\":{\"fill\":{\"color\":\"#C8D4E3\"},\"line\":{\"color\":\"white\"}},\"type\":\"table\"}]},\"layout\":{\"annotationdefaults\":{\"arrowcolor\":\"#2a3f5f\",\"arrowhead\":0,\"arrowwidth\":1},\"autotypenumbers\":\"strict\",\"coloraxis\":{\"colorbar\":{\"outlinewidth\":0,\"ticks\":\"\"}},\"colorscale\":{\"diverging\":[[0,\"#8e0152\"],[0.1,\"#c51b7d\"],[0.2,\"#de77ae\"],[0.3,\"#f1b6da\"],[0.4,\"#fde0ef\"],[0.5,\"#f7f7f7\"],[0.6,\"#e6f5d0\"],[0.7,\"#b8e186\"],[0.8,\"#7fbc41\"],[0.9,\"#4d9221\"],[1,\"#276419\"]],\"sequential\":[[0.0,\"#0d0887\"],[0.1111111111111111,\"#46039f\"],[0.2222222222222222,\"#7201a8\"],[0.3333333333333333,\"#9c179e\"],[0.4444444444444444,\"#bd3786\"],[0.5555555555555556,\"#d8576b\"],[0.6666666666666666,\"#ed7953\"],[0.7777777777777778,\"#fb9f3a\"],[0.8888888888888888,\"#fdca26\"],[1.0,\"#f0f921\"]],\"sequentialminus\":[[0.0,\"#0d0887\"],[0.1111111111111111,\"#46039f\"],[0.2222222222222222,\"#7201a8\"],[0.3333333333333333,\"#9c179e\"],[0.4444444444444444,\"#bd3786\"],[0.5555555555555556,\"#d8576b\"],[0.6666666666666666,\"#ed7953\"],[0.7777777777777778,\"#fb9f3a\"],[0.8888888888888888,\"#fdca26\"],[1.0,\"#f0f921\"]]},\"colorway\":[\"#636efa\",\"#EF553B\",\"#00cc96\",\"#ab63fa\",\"#FFA15A\",\"#19d3f3\",\"#FF6692\",\"#B6E880\",\"#FF97FF\",\"#FECB52\"],\"font\":{\"color\":\"#2a3f5f\"},\"geo\":{\"bgcolor\":\"white\",\"lakecolor\":\"white\",\"landcolor\":\"#E5ECF6\",\"showlakes\":true,\"showland\":true,\"subunitcolor\":\"white\"},\"hoverlabel\":{\"align\":\"left\"},\"hovermode\":\"closest\",\"mapbox\":{\"style\":\"light\"},\"paper_bgcolor\":\"white\",\"plot_bgcolor\":\"#E5ECF6\",\"polar\":{\"angularaxis\":{\"gridcolor\":\"white\",\"linecolor\":\"white\",\"ticks\":\"\"},\"bgcolor\":\"#E5ECF6\",\"radialaxis\":{\"gridcolor\":\"white\",\"linecolor\":\"white\",\"ticks\":\"\"}},\"scene\":{\"xaxis\":{\"backgroundcolor\":\"#E5ECF6\",\"gridcolor\":\"white\",\"gridwidth\":2,\"linecolor\":\"white\",\"showbackground\":true,\"ticks\":\"\",\"zerolinecolor\":\"white\"},\"yaxis\":{\"backgroundcolor\":\"#E5ECF6\",\"gridcolor\":\"white\",\"gridwidth\":2,\"linecolor\":\"white\",\"showbackground\":true,\"ticks\":\"\",\"zerolinecolor\":\"white\"},\"zaxis\":{\"backgroundcolor\":\"#E5ECF6\",\"gridcolor\":\"white\",\"gridwidth\":2,\"linecolor\":\"white\",\"showbackground\":true,\"ticks\":\"\",\"zerolinecolor\":\"white\"}},\"shapedefaults\":{\"line\":{\"color\":\"#2a3f5f\"}},\"ternary\":{\"aaxis\":{\"gridcolor\":\"white\",\"linecolor\":\"white\",\"ticks\":\"\"},\"baxis\":{\"gridcolor\":\"white\",\"linecolor\":\"white\",\"ticks\":\"\"},\"bgcolor\":\"#E5ECF6\",\"caxis\":{\"gridcolor\":\"white\",\"linecolor\":\"white\",\"ticks\":\"\"}},\"title\":{\"x\":0.05},\"xaxis\":{\"automargin\":true,\"gridcolor\":\"white\",\"linecolor\":\"white\",\"ticks\":\"\",\"title\":{\"standoff\":15},\"zerolinecolor\":\"white\",\"zerolinewidth\":2},\"yaxis\":{\"automargin\":true,\"gridcolor\":\"white\",\"linecolor\":\"white\",\"ticks\":\"\",\"title\":{\"standoff\":15},\"zerolinecolor\":\"white\",\"zerolinewidth\":2}}},\"title\":{\"text\":\"Box plot of approximate cost\"},\"width\":700,\"yaxis\":{\"title\":{\"text\":\"Price\"}}},                        {\"responsive\": true}                    ).then(function(){\n",
              "                            \n",
              "var gd = document.getElementById('0dc19cc3-1047-4fa2-9feb-ced1ca339d49');\n",
              "var x = new MutationObserver(function (mutations, observer) {{\n",
              "        var display = window.getComputedStyle(gd).display;\n",
              "        if (!display || display === 'none') {{\n",
              "            console.log([gd, 'removed!']);\n",
              "            Plotly.purge(gd);\n",
              "            observer.disconnect();\n",
              "        }}\n",
              "}});\n",
              "\n",
              "// Listen for the removal of the full notebook cells\n",
              "var notebookContainer = gd.closest('#notebook-container');\n",
              "if (notebookContainer) {{\n",
              "    x.observe(notebookContainer, {childList: true});\n",
              "}}\n",
              "\n",
              "// Listen for the clearing of the current output cell\n",
              "var outputEl = gd.closest('.output');\n",
              "if (outputEl) {{\n",
              "    x.observe(outputEl, {childList: true});\n",
              "}}\n",
              "\n",
              "                        })                };                            </script>        </div>\n",
              "</body>\n",
              "</html>"
            ]
          },
          "metadata": {}
        }
      ]
    },
    {
      "cell_type": "markdown",
      "source": [
        "### Distribution of charges"
      ],
      "metadata": {
        "id": "JVpxMCvSro-J"
      }
    },
    {
      "cell_type": "code",
      "source": [
        "plt.figure(figsize=(7,7))\n",
        "sns.distplot(df['cost'])\n",
        "plt.show()"
      ],
      "metadata": {
        "colab": {
          "base_uri": "https://localhost:8080/",
          "height": 442
        },
        "id": "Mr_8dP2krM5n",
        "outputId": "f4a97617-b23a-4806-cf93-72c1d9ce8f45"
      },
      "execution_count": 40,
      "outputs": [
        {
          "output_type": "display_data",
          "data": {
            "text/plain": [
              "<Figure size 504x504 with 1 Axes>"
            ],
            "image/png": "[encoded data removed]"
          },
          "metadata": {
            "needs_background": "light"
          }
        }
      ]
    },
    {
      "cell_type": "markdown",
      "source": [
        "### Most Liked Dishes"
      ],
      "metadata": {
        "id": "CUVEqP4xr3Dj"
      }
    },
    {
      "cell_type": "code",
      "source": [
        "import re\n",
        "\n",
        "df.index=range(df.shape[0])\n",
        "likes=[]\n",
        "for i in range(df.shape[0]):\n",
        "    array_split=re.split(',',df['dish_liked'][i])\n",
        "    for item in array_split:\n",
        "        likes.append(item)\n"
      ],
      "metadata": {
        "id": "SsYuZxdQrtiH"
      },
      "execution_count": 41,
      "outputs": []
    },
    {
      "cell_type": "code",
      "source": [
        "df.index=range(df.shape[0])"
      ],
      "metadata": {
        "id": "Hfpvpihor8AY"
      },
      "execution_count": 42,
      "outputs": []
    },
    {
      "cell_type": "code",
      "source": [
        "df.index"
      ],
      "metadata": {
        "colab": {
          "base_uri": "https://localhost:8080/"
        },
        "id": "iHE8bCQksD9f",
        "outputId": "16b90cc8-2d56-4363-8f4c-9f55ad0cae7e"
      },
      "execution_count": 43,
      "outputs": [
        {
          "output_type": "execute_result",
          "data": {
            "text/plain": [
              "RangeIndex(start=0, stop=23248, step=1)"
            ]
          },
          "metadata": {},
          "execution_count": 43
        }
      ]
    },
    {
      "cell_type": "code",
      "source": [
        "print(\"Count of Most liked dishes in Bangalore\")\n",
        "favourite_food = pd.Series(likes).value_counts()\n",
        "favourite_food.head(30)"
      ],
      "metadata": {
        "colab": {
          "base_uri": "https://localhost:8080/"
        },
        "id": "uCRbRUyTsGTy",
        "outputId": "640a67ab-4995-48b0-d7f0-1dc114a53bdf"
      },
      "execution_count": 44,
      "outputs": [
        {
          "output_type": "stream",
          "name": "stdout",
          "text": [
            "Count of Most liked dishes in Bangalore\n"
          ]
        },
        {
          "output_type": "execute_result",
          "data": {
            "text/plain": [
              " Pasta              2692\n",
              " Pizza              1915\n",
              " Cocktails          1880\n",
              " Burgers            1736\n",
              " Mocktails          1623\n",
              " Biryani            1307\n",
              " Sandwiches         1287\n",
              "Burgers             1256\n",
              " Coffee             1184\n",
              " Nachos             1170\n",
              " Fish               1116\n",
              " Paratha            1107\n",
              " Salads             1055\n",
              " Chicken Biryani    1004\n",
              "Cocktails            891\n",
              " Fries               876\n",
              " Noodles             854\n",
              " Beer                835\n",
              " Mutton Biryani      832\n",
              " Tea                 819\n",
              "Coffee               801\n",
              " Sandwich            788\n",
              " Butter Chicken      782\n",
              " Thali               770\n",
              "Biryani              749\n",
              "Pizza                747\n",
              " Roti                729\n",
              " Brownie             726\n",
              " Salad               677\n",
              " Hot Chocolate       672\n",
              "dtype: int64"
            ]
          },
          "metadata": {},
          "execution_count": 44
        }
      ]
    },
    {
      "cell_type": "code",
      "source": [
        "ax = favourite_food.nlargest(n=20, keep='first').plot(kind='bar',figsize=(18,10),title = 'Top 30 Favourite Food counts ')\n",
        "\n",
        "for i in ax.patches:\n",
        "    ax.annotate(str(i.get_height()), (i.get_x() * 1.005, i.get_height() * 1.002))"
      ],
      "metadata": {
        "colab": {
          "base_uri": "https://localhost:8080/",
          "height": 676
        },
        "id": "5cUsO0tbsJwH",
        "outputId": "c043a933-f54b-480b-c2a3-6ee6cdde61c1"
      },
      "execution_count": 45,
      "outputs": [
        {
          "output_type": "display_data",
          "data": {
            "text/plain": [
              "<Figure size 1296x720 with 1 Axes>"
            ],
            "image/png": "[encoded data removed]"
          },
          "metadata": {
            "needs_background": "light"
          }
        }
      ]
    },
    {
      "cell_type": "markdown",
      "source": [
        "We can infer from the analysis that the 5 most liked dishes are Pasta,Pizza,Cocktails,Burgers,and Mocktails"
      ],
      "metadata": {
        "id": "gztK_r5msppi"
      }
    },
    {
      "cell_type": "markdown",
      "source": [
        "Restaurant and their counts"
      ],
      "metadata": {
        "id": "CjHA7l28srdz"
      }
    },
    {
      "cell_type": "code",
      "source": [
        "plt.figure(figsize=(15,7))\n",
        "rest=df['rest_type'].value_counts()[:20]\n",
        "sns.barplot(rest,rest.index)\n",
        "plt.title(\"Restaurant types\")\n",
        "plt.xlabel(\"count\")"
      ],
      "metadata": {
        "colab": {
          "base_uri": "https://localhost:8080/",
          "height": 476
        },
        "id": "0JOETW45szHQ",
        "outputId": "abdbbe6c-e4f9-47b2-8df4-cd55f8db0ac3"
      },
      "execution_count": 46,
      "outputs": [
        {
          "output_type": "execute_result",
          "data": {
            "text/plain": [
              "Text(0.5, 0, 'count')"
            ]
          },
          "metadata": {},
          "execution_count": 46
        },
        {
          "output_type": "display_data",
          "data": {
            "text/plain": [
              "<Figure size 1080x504 with 1 Axes>"
            ],
            "image/png": "[encoded data removed]"
          },
          "metadata": {
            "needs_background": "light"
          }
        }
      ]
    },
    {
      "cell_type": "markdown",
      "source": [
        "Casual Dining, Quick Bites and Cafe are the 3 most common types of Restaurants in Banglore"
      ],
      "metadata": {
        "id": "eJaq4NQ_tBNE"
      }
    },
    {
      "cell_type": "markdown",
      "source": [
        "Most famous Restaurants"
      ],
      "metadata": {
        "id": "SWhQNH_etIKb"
      }
    },
    {
      "cell_type": "code",
      "source": [
        "plt.figure(figsize=(15,7))\n",
        "chains=df['name'].value_counts()[:20]\n",
        "sns.barplot(x=chains,y=chains.index,palette='Set1')\n",
        "plt.title(\"Most famous restaurant chains in Bangaluru\",size=20,pad=20)\n",
        "plt.xlabel(\"Number of outlets\",size=15)"
      ],
      "metadata": {
        "colab": {
          "base_uri": "https://localhost:8080/",
          "height": 496
        },
        "id": "vXvDRqors8QI",
        "outputId": "0f763f07-693e-40b2-d9e9-73ee59fda1c3"
      },
      "execution_count": 47,
      "outputs": [
        {
          "output_type": "execute_result",
          "data": {
            "text/plain": [
              "Text(0.5, 0, 'Number of outlets')"
            ]
          },
          "metadata": {},
          "execution_count": 47
        },
        {
          "output_type": "display_data",
          "data": {
            "text/plain": [
              "<Figure size 1080x504 with 1 Axes>"
            ],
            "image/png": "[encoded data removed]"
          },
          "metadata": {
            "needs_background": "light"
          }
        }
      ]
    },
    {
      "cell_type": "markdown",
      "source": [
        "# Building Model"
      ],
      "metadata": {
        "id": "Nge8MKHytgzz"
      }
    },
    {
      "cell_type": "code",
      "source": [
        "df.head()"
      ],
      "metadata": {
        "colab": {
          "base_uri": "https://localhost:8080/",
          "height": 615
        },
        "id": "TZ7_cYM_tYhj",
        "outputId": "14c27697-fd64-44fc-bafe-1f4a587a7265"
      },
      "execution_count": 48,
      "outputs": [
        {
          "output_type": "execute_result",
          "data": {
            "text/plain": [
              "                                             address                   name  \\\n",
              "0  942, 21st Main Road, 2nd Stage, Banashankari, ...                  Jalsa   \n",
              "1  2nd Floor, 80 Feet Road, Near Big Bazaar, 6th ...         Spice Elephant   \n",
              "2  1112, Next to KIMS Medical College, 17th Cross...        San Churro Cafe   \n",
              "3  1st Floor, Annakuteera, 3rd Stage, Banashankar...  Addhuri Udupi Bhojana   \n",
              "4  10, 3rd Floor, Lakshmi Associates, Gandhi Baza...          Grand Village   \n",
              "\n",
              "  online_order book_table  rate  votes      location            rest_type  \\\n",
              "0          Yes        Yes   4.1    775  Banashankari        Casual Dining   \n",
              "1          Yes         No   4.1    787  Banashankari        Casual Dining   \n",
              "2          Yes         No   3.8    918  Banashankari  Cafe, Casual Dining   \n",
              "3           No         No   3.7     88  Banashankari          Quick Bites   \n",
              "4           No         No   3.8    166  Basavanagudi        Casual Dining   \n",
              "\n",
              "                                          dish_liked  \\\n",
              "0  Pasta, Lunch Buffet, Masala Papad, Paneer Laja...   \n",
              "1  Momos, Lunch Buffet, Chocolate Nirvana, Thai G...   \n",
              "2  Churros, Cannelloni, Minestrone Soup, Hot Choc...   \n",
              "3                                        Masala Dosa   \n",
              "4                                Panipuri, Gol Gappe   \n",
              "\n",
              "                         cuisines   cost  \\\n",
              "0  North Indian, Mughlai, Chinese  800.0   \n",
              "1     Chinese, North Indian, Thai  800.0   \n",
              "2          Cafe, Mexican, Italian  800.0   \n",
              "3      South Indian, North Indian  300.0   \n",
              "4        North Indian, Rajasthani  600.0   \n",
              "\n",
              "                                        reviews_list menu_item    type  \\\n",
              "0  [('Rated 4.0', 'RATED\\n  A beautiful place to ...        []  Buffet   \n",
              "1  [('Rated 4.0', 'RATED\\n  Had been here for din...        []  Buffet   \n",
              "2  [('Rated 3.0', \"RATED\\n  Ambience is not that ...        []  Buffet   \n",
              "3  [('Rated 4.0', \"RATED\\n  Great food and proper...        []  Buffet   \n",
              "4  [('Rated 4.0', 'RATED\\n  Very good restaurant ...        []  Buffet   \n",
              "\n",
              "           city  \n",
              "0  Banashankari  \n",
              "1  Banashankari  \n",
              "2  Banashankari  \n",
              "3  Banashankari  \n",
              "4  Banashankari  "
            ],
            "text/html": [
              "\n",
              "  <div id=\"df-3b54a1e7-b364-4fee-a315-c6f325403962\">\n",
              "    <div class=\"colab-df-container\">\n",
              "      <div>\n",
              "<style scoped>\n",
              "    .dataframe tbody tr th:only-of-type {\n",
              "        vertical-align: middle;\n",
              "    }\n",
              "\n",
              "    .dataframe tbody tr th {\n",
              "        vertical-align: top;\n",
              "    }\n",
              "\n",
              "    .dataframe thead th {\n",
              "        text-align: right;\n",
              "    }\n",
              "</style>\n",
              "<table border=\"1\" class=\"dataframe\">\n",
              "  <thead>\n",
              "    <tr style=\"text-align: right;\">\n",
              "      <th></th>\n",
              "      <th>address</th>\n",
              "      <th>name</th>\n",
              "      <th>online_order</th>\n",
              "      <th>book_table</th>\n",
              "      <th>rate</th>\n",
              "      <th>votes</th>\n",
              "      <th>location</th>\n",
              "      <th>rest_type</th>\n",
              "      <th>dish_liked</th>\n",
              "      <th>cuisines</th>\n",
              "      <th>cost</th>\n",
              "      <th>reviews_list</th>\n",
              "      <th>menu_item</th>\n",
              "      <th>type</th>\n",
              "      <th>city</th>\n",
              "    </tr>\n",
              "  </thead>\n",
              "  <tbody>\n",
              "    <tr>\n",
              "      <th>0</th>\n",
              "      <td>942, 21st Main Road, 2nd Stage, Banashankari, ...</td>\n",
              "      <td>Jalsa</td>\n",
              "      <td>Yes</td>\n",
              "      <td>Yes</td>\n",
              "      <td>4.1</td>\n",
              "      <td>775</td>\n",
              "      <td>Banashankari</td>\n",
              "      <td>Casual Dining</td>\n",
              "      <td>Pasta, Lunch Buffet, Masala Papad, Paneer Laja...</td>\n",
              "      <td>North Indian, Mughlai, Chinese</td>\n",
              "      <td>800.0</td>\n",
              "      <td>[('Rated 4.0', 'RATED\\n  A beautiful place to ...</td>\n",
              "      <td>[]</td>\n",
              "      <td>Buffet</td>\n",
              "      <td>Banashankari</td>\n",
              "    </tr>\n",
              "    <tr>\n",
              "      <th>1</th>\n",
              "      <td>2nd Floor, 80 Feet Road, Near Big Bazaar, 6th ...</td>\n",
              "      <td>Spice Elephant</td>\n",
              "      <td>Yes</td>\n",
              "      <td>No</td>\n",
              "      <td>4.1</td>\n",
              "      <td>787</td>\n",
              "      <td>Banashankari</td>\n",
              "      <td>Casual Dining</td>\n",
              "      <td>Momos, Lunch Buffet, Chocolate Nirvana, Thai G...</td>\n",
              "      <td>Chinese, North Indian, Thai</td>\n",
              "      <td>800.0</td>\n",
              "      <td>[('Rated 4.0', 'RATED\\n  Had been here for din...</td>\n",
              "      <td>[]</td>\n",
              "      <td>Buffet</td>\n",
              "      <td>Banashankari</td>\n",
              "    </tr>\n",
              "    <tr>\n",
              "      <th>2</th>\n",
              "      <td>1112, Next to KIMS Medical College, 17th Cross...</td>\n",
              "      <td>San Churro Cafe</td>\n",
              "      <td>Yes</td>\n",
              "      <td>No</td>\n",
              "      <td>3.8</td>\n",
              "      <td>918</td>\n",
              "      <td>Banashankari</td>\n",
              "      <td>Cafe, Casual Dining</td>\n",
              "      <td>Churros, Cannelloni, Minestrone Soup, Hot Choc...</td>\n",
              "      <td>Cafe, Mexican, Italian</td>\n",
              "      <td>800.0</td>\n",
              "      <td>[('Rated 3.0', \"RATED\\n  Ambience is not that ...</td>\n",
              "      <td>[]</td>\n",
              "      <td>Buffet</td>\n",
              "      <td>Banashankari</td>\n",
              "    </tr>\n",
              "    <tr>\n",
              "      <th>3</th>\n",
              "      <td>1st Floor, Annakuteera, 3rd Stage, Banashankar...</td>\n",
              "      <td>Addhuri Udupi Bhojana</td>\n",
              "      <td>No</td>\n",
              "      <td>No</td>\n",
              "      <td>3.7</td>\n",
              "      <td>88</td>\n",
              "      <td>Banashankari</td>\n",
              "      <td>Quick Bites</td>\n",
              "      <td>Masala Dosa</td>\n",
              "      <td>South Indian, North Indian</td>\n",
              "      <td>300.0</td>\n",
              "      <td>[('Rated 4.0', \"RATED\\n  Great food and proper...</td>\n",
              "      <td>[]</td>\n",
              "      <td>Buffet</td>\n",
              "      <td>Banashankari</td>\n",
              "    </tr>\n",
              "    <tr>\n",
              "      <th>4</th>\n",
              "      <td>10, 3rd Floor, Lakshmi Associates, Gandhi Baza...</td>\n",
              "      <td>Grand Village</td>\n",
              "      <td>No</td>\n",
              "      <td>No</td>\n",
              "      <td>3.8</td>\n",
              "      <td>166</td>\n",
              "      <td>Basavanagudi</td>\n",
              "      <td>Casual Dining</td>\n",
              "      <td>Panipuri, Gol Gappe</td>\n",
              "      <td>North Indian, Rajasthani</td>\n",
              "      <td>600.0</td>\n",
              "      <td>[('Rated 4.0', 'RATED\\n  Very good restaurant ...</td>\n",
              "      <td>[]</td>\n",
              "      <td>Buffet</td>\n",
              "      <td>Banashankari</td>\n",
              "    </tr>\n",
              "  </tbody>\n",
              "</table>\n",
              "</div>\n",
              "      <button class=\"colab-df-convert\" onclick=\"convertToInteractive('df-3b54a1e7-b364-4fee-a315-c6f325403962')\"\n",
              "              title=\"Convert this dataframe to an interactive table.\"\n",
              "              style=\"display:none;\">\n",
              "        \n",
              "  <svg xmlns=\"http://www.w3.org/2000/svg\" height=\"24px\"viewBox=\"0 0 24 24\"\n",
              "       width=\"24px\">\n",
              "    <path d=\"M0 0h24v24H0V0z\" fill=\"none\"/>\n",
              "    <path d=\"M18.56 5.44l.94 2.06.94-2.06 2.06-.94-2.06-.94-.94-2.06-.94 2.06-2.06.94zm-11 1L8.5 8.5l.94-2.06 2.06-.94-2.06-.94L8.5 2.5l-.94 2.06-2.06.94zm10 10l.94 2.06.94-2.06 2.06-.94-2.06-.94-.94-2.06-.94 2.06-2.06.94z\"/><path d=\"M17.41 7.96l-1.37-1.37c-.4-.4-.92-.59-1.43-.59-.52 0-1.04.2-1.43.59L10.3 9.45l-7.72 7.72c-.78.78-.78 2.05 0 2.83L4 21.41c.39.39.9.59 1.41.59.51 0 1.02-.2 1.41-.59l7.78-7.78 2.81-2.81c.8-.78.8-2.07 0-2.86zM5.41 20L4 18.59l7.72-7.72 1.47 1.35L5.41 20z\"/>\n",
              "  </svg>\n",
              "      </button>\n",
              "      \n",
              "  <style>\n",
              "    .colab-df-container {\n",
              "      display:flex;\n",
              "      flex-wrap:wrap;\n",
              "      gap: 12px;\n",
              "    }\n",
              "\n",
              "    .colab-df-convert {\n",
              "      background-color: #E8F0FE;\n",
              "      border: none;\n",
              "      border-radius: 50%;\n",
              "      cursor: pointer;\n",
              "      display: none;\n",
              "      fill: #1967D2;\n",
              "      height: 32px;\n",
              "      padding: 0 0 0 0;\n",
              "      width: 32px;\n",
              "    }\n",
              "\n",
              "    .colab-df-convert:hover {\n",
              "      background-color: #E2EBFA;\n",
              "      box-shadow: 0px 1px 2px rgba(60, 64, 67, 0.3), 0px 1px 3px 1px rgba(60, 64, 67, 0.15);\n",
              "      fill: #174EA6;\n",
              "    }\n",
              "\n",
              "    [theme=dark] .colab-df-convert {\n",
              "      background-color: #3B4455;\n",
              "      fill: #D2E3FC;\n",
              "    }\n",
              "\n",
              "    [theme=dark] .colab-df-convert:hover {\n",
              "      background-color: #434B5C;\n",
              "      box-shadow: 0px 1px 3px 1px rgba(0, 0, 0, 0.15);\n",
              "      filter: drop-shadow(0px 1px 2px rgba(0, 0, 0, 0.3));\n",
              "      fill: #FFFFFF;\n",
              "    }\n",
              "  </style>\n",
              "\n",
              "      <script>\n",
              "        const buttonEl =\n",
              "          document.querySelector('#df-3b54a1e7-b364-4fee-a315-c6f325403962 button.colab-df-convert');\n",
              "        buttonEl.style.display =\n",
              "          google.colab.kernel.accessAllowed ? 'block' : 'none';\n",
              "\n",
              "        async function convertToInteractive(key) {\n",
              "          const element = document.querySelector('#df-3b54a1e7-b364-4fee-a315-c6f325403962');\n",
              "          const dataTable =\n",
              "            await google.colab.kernel.invokeFunction('convertToInteractive',\n",
              "                                                     [key], {});\n",
              "          if (!dataTable) return;\n",
              "\n",
              "          const docLinkHtml = 'Like what you see? Visit the ' +\n",
              "            '<a target=\"_blank\" href=https://colab.research.google.com/notebooks/data_table.ipynb>data table notebook</a>'\n",
              "            + ' to learn more about interactive tables.';\n",
              "          element.innerHTML = '';\n",
              "          dataTable['output_type'] = 'display_data';\n",
              "          await google.colab.output.renderOutput(dataTable, element);\n",
              "          const docLink = document.createElement('div');\n",
              "          docLink.innerHTML = docLinkHtml;\n",
              "          element.appendChild(docLink);\n",
              "        }\n",
              "      </script>\n",
              "    </div>\n",
              "  </div>\n",
              "  "
            ]
          },
          "metadata": {},
          "execution_count": 48
        }
      ]
    },
    {
      "cell_type": "markdown",
      "source": [
        "## Convert the online categorical variables into a numeric format"
      ],
      "metadata": {
        "id": "khUtWsSxtqw5"
      }
    },
    {
      "cell_type": "code",
      "source": [
        "df.online_order[df.online_order == 'Yes'] = 1 \n",
        "df.online_order[df.online_order == 'No'] = 0"
      ],
      "metadata": {
        "id": "oXFJBh5MtlN4"
      },
      "execution_count": 49,
      "outputs": []
    },
    {
      "cell_type": "code",
      "source": [
        "df.online_order.value_counts()"
      ],
      "metadata": {
        "colab": {
          "base_uri": "https://localhost:8080/"
        },
        "id": "X_4n_tJ0tw8C",
        "outputId": "7df489a3-0bc9-4e6c-f193-fd970fe86a23"
      },
      "execution_count": 50,
      "outputs": [
        {
          "output_type": "execute_result",
          "data": {
            "text/plain": [
              "1    16378\n",
              "0     6870\n",
              "Name: online_order, dtype: int64"
            ]
          },
          "metadata": {},
          "execution_count": 50
        }
      ]
    },
    {
      "cell_type": "code",
      "source": [
        "df.online_order.value_counts()"
      ],
      "metadata": {
        "colab": {
          "base_uri": "https://localhost:8080/"
        },
        "id": "x8NG9jCktz5D",
        "outputId": "9924b2d4-8c5c-4446-8050-6277872c3d20"
      },
      "execution_count": 51,
      "outputs": [
        {
          "output_type": "execute_result",
          "data": {
            "text/plain": [
              "1    16378\n",
              "0     6870\n",
              "Name: online_order, dtype: int64"
            ]
          },
          "metadata": {},
          "execution_count": 51
        }
      ]
    },
    {
      "cell_type": "markdown",
      "source": [
        "## change the string categorical into to a categorical int"
      ],
      "metadata": {
        "id": "kEMGDTb0t7PV"
      }
    },
    {
      "cell_type": "code",
      "source": [
        "df.book_table[df.book_table == 'Yes'] = 1 \n",
        "df.book_table[df.book_table == 'No'] = 0"
      ],
      "metadata": {
        "id": "r5oWuA0dt4IA"
      },
      "execution_count": 52,
      "outputs": []
    },
    {
      "cell_type": "code",
      "source": [
        "df.book_table = pd.to_numeric(df.book_table)"
      ],
      "metadata": {
        "id": "6F7oXYYTt_L7"
      },
      "execution_count": 53,
      "outputs": []
    },
    {
      "cell_type": "code",
      "source": [
        "df.book_table.value_counts()"
      ],
      "metadata": {
        "colab": {
          "base_uri": "https://localhost:8080/"
        },
        "id": "GCBb3FO_uBIQ",
        "outputId": "bd4a5bd2-b7f8-4df7-e058-0c5226aadcb1"
      },
      "execution_count": 54,
      "outputs": [
        {
          "output_type": "execute_result",
          "data": {
            "text/plain": [
              "0    17191\n",
              "1     6057\n",
              "Name: book_table, dtype: int64"
            ]
          },
          "metadata": {},
          "execution_count": 54
        }
      ]
    },
    {
      "cell_type": "markdown",
      "source": [
        "### Label encode the categorical variables to make it easier to build algorithm"
      ],
      "metadata": {
        "id": "kAGGYx1wv3na"
      }
    },
    {
      "cell_type": "code",
      "source": [
        "from sklearn.preprocessing import LabelEncoder\n",
        "le = LabelEncoder()"
      ],
      "metadata": {
        "id": "PSInW_QHuGlg"
      },
      "execution_count": 55,
      "outputs": []
    },
    {
      "cell_type": "code",
      "source": [
        "df.location = le.fit_transform(df.location)\n",
        "df.rest_type = le.fit_transform(df.rest_type)\n",
        "df.cuisines = le.fit_transform(df.cuisines)\n",
        "df.menu_item = le.fit_transform(df.menu_item)"
      ],
      "metadata": {
        "id": "fn2sAGnNvp0p"
      },
      "execution_count": 56,
      "outputs": []
    },
    {
      "cell_type": "code",
      "source": [
        "df.head()"
      ],
      "metadata": {
        "colab": {
          "base_uri": "https://localhost:8080/",
          "height": 0
        },
        "id": "1Jd_I8aMvsfo",
        "outputId": "af6ea237-3e9c-4d95-a677-b9a2181453be"
      },
      "execution_count": 57,
      "outputs": [
        {
          "output_type": "execute_result",
          "data": {
            "text/plain": [
              "                                             address                   name  \\\n",
              "0  942, 21st Main Road, 2nd Stage, Banashankari, ...                  Jalsa   \n",
              "1  2nd Floor, 80 Feet Road, Near Big Bazaar, 6th ...         Spice Elephant   \n",
              "2  1112, Next to KIMS Medical College, 17th Cross...        San Churro Cafe   \n",
              "3  1st Floor, Annakuteera, 3rd Stage, Banashankar...  Addhuri Udupi Bhojana   \n",
              "4  10, 3rd Floor, Lakshmi Associates, Gandhi Baza...          Grand Village   \n",
              "\n",
              "  online_order  book_table  rate  votes  location  rest_type  \\\n",
              "0            1           1   4.1    775         1         20   \n",
              "1            1           0   4.1    787         1         20   \n",
              "2            1           0   3.8    918         1         16   \n",
              "3            0           0   3.7     88         1         62   \n",
              "4            0           0   3.8    166         4         20   \n",
              "\n",
              "                                          dish_liked  cuisines   cost  \\\n",
              "0  Pasta, Lunch Buffet, Masala Papad, Paneer Laja...      1386  800.0   \n",
              "1  Momos, Lunch Buffet, Chocolate Nirvana, Thai G...       594  800.0   \n",
              "2  Churros, Cannelloni, Minestrone Soup, Hot Choc...       484  800.0   \n",
              "3                                        Masala Dosa      1587  300.0   \n",
              "4                                Panipuri, Gol Gappe      1406  600.0   \n",
              "\n",
              "                                        reviews_list  menu_item    type  \\\n",
              "0  [('Rated 4.0', 'RATED\\n  A beautiful place to ...       5047  Buffet   \n",
              "1  [('Rated 4.0', 'RATED\\n  Had been here for din...       5047  Buffet   \n",
              "2  [('Rated 3.0', \"RATED\\n  Ambience is not that ...       5047  Buffet   \n",
              "3  [('Rated 4.0', \"RATED\\n  Great food and proper...       5047  Buffet   \n",
              "4  [('Rated 4.0', 'RATED\\n  Very good restaurant ...       5047  Buffet   \n",
              "\n",
              "           city  \n",
              "0  Banashankari  \n",
              "1  Banashankari  \n",
              "2  Banashankari  \n",
              "3  Banashankari  \n",
              "4  Banashankari  "
            ],
            "text/html": [
              "\n",
              "  <div id=\"df-bf03b8f6-e336-407c-a3ff-3df3e7d6535c\">\n",
              "    <div class=\"colab-df-container\">\n",
              "      <div>\n",
              "<style scoped>\n",
              "    .dataframe tbody tr th:only-of-type {\n",
              "        vertical-align: middle;\n",
              "    }\n",
              "\n",
              "    .dataframe tbody tr th {\n",
              "        vertical-align: top;\n",
              "    }\n",
              "\n",
              "    .dataframe thead th {\n",
              "        text-align: right;\n",
              "    }\n",
              "</style>\n",
              "<table border=\"1\" class=\"dataframe\">\n",
              "  <thead>\n",
              "    <tr style=\"text-align: right;\">\n",
              "      <th></th>\n",
              "      <th>address</th>\n",
              "      <th>name</th>\n",
              "      <th>online_order</th>\n",
              "      <th>book_table</th>\n",
              "      <th>rate</th>\n",
              "      <th>votes</th>\n",
              "      <th>location</th>\n",
              "      <th>rest_type</th>\n",
              "      <th>dish_liked</th>\n",
              "      <th>cuisines</th>\n",
              "      <th>cost</th>\n",
              "      <th>reviews_list</th>\n",
              "      <th>menu_item</th>\n",
              "      <th>type</th>\n",
              "      <th>city</th>\n",
              "    </tr>\n",
              "  </thead>\n",
              "  <tbody>\n",
              "    <tr>\n",
              "      <th>0</th>\n",
              "      <td>942, 21st Main Road, 2nd Stage, Banashankari, ...</td>\n",
              "      <td>Jalsa</td>\n",
              "      <td>1</td>\n",
              "      <td>1</td>\n",
              "      <td>4.1</td>\n",
              "      <td>775</td>\n",
              "      <td>1</td>\n",
              "      <td>20</td>\n",
              "      <td>Pasta, Lunch Buffet, Masala Papad, Paneer Laja...</td>\n",
              "      <td>1386</td>\n",
              "      <td>800.0</td>\n",
              "      <td>[('Rated 4.0', 'RATED\\n  A beautiful place to ...</td>\n",
              "      <td>5047</td>\n",
              "      <td>Buffet</td>\n",
              "      <td>Banashankari</td>\n",
              "    </tr>\n",
              "    <tr>\n",
              "      <th>1</th>\n",
              "      <td>2nd Floor, 80 Feet Road, Near Big Bazaar, 6th ...</td>\n",
              "      <td>Spice Elephant</td>\n",
              "      <td>1</td>\n",
              "      <td>0</td>\n",
              "      <td>4.1</td>\n",
              "      <td>787</td>\n",
              "      <td>1</td>\n",
              "      <td>20</td>\n",
              "      <td>Momos, Lunch Buffet, Chocolate Nirvana, Thai G...</td>\n",
              "      <td>594</td>\n",
              "      <td>800.0</td>\n",
              "      <td>[('Rated 4.0', 'RATED\\n  Had been here for din...</td>\n",
              "      <td>5047</td>\n",
              "      <td>Buffet</td>\n",
              "      <td>Banashankari</td>\n",
              "    </tr>\n",
              "    <tr>\n",
              "      <th>2</th>\n",
              "      <td>1112, Next to KIMS Medical College, 17th Cross...</td>\n",
              "      <td>San Churro Cafe</td>\n",
              "      <td>1</td>\n",
              "      <td>0</td>\n",
              "      <td>3.8</td>\n",
              "      <td>918</td>\n",
              "      <td>1</td>\n",
              "      <td>16</td>\n",
              "      <td>Churros, Cannelloni, Minestrone Soup, Hot Choc...</td>\n",
              "      <td>484</td>\n",
              "      <td>800.0</td>\n",
              "      <td>[('Rated 3.0', \"RATED\\n  Ambience is not that ...</td>\n",
              "      <td>5047</td>\n",
              "      <td>Buffet</td>\n",
              "      <td>Banashankari</td>\n",
              "    </tr>\n",
              "    <tr>\n",
              "      <th>3</th>\n",
              "      <td>1st Floor, Annakuteera, 3rd Stage, Banashankar...</td>\n",
              "      <td>Addhuri Udupi Bhojana</td>\n",
              "      <td>0</td>\n",
              "      <td>0</td>\n",
              "      <td>3.7</td>\n",
              "      <td>88</td>\n",
              "      <td>1</td>\n",
              "      <td>62</td>\n",
              "      <td>Masala Dosa</td>\n",
              "      <td>1587</td>\n",
              "      <td>300.0</td>\n",
              "      <td>[('Rated 4.0', \"RATED\\n  Great food and proper...</td>\n",
              "      <td>5047</td>\n",
              "      <td>Buffet</td>\n",
              "      <td>Banashankari</td>\n",
              "    </tr>\n",
              "    <tr>\n",
              "      <th>4</th>\n",
              "      <td>10, 3rd Floor, Lakshmi Associates, Gandhi Baza...</td>\n",
              "      <td>Grand Village</td>\n",
              "      <td>0</td>\n",
              "      <td>0</td>\n",
              "      <td>3.8</td>\n",
              "      <td>166</td>\n",
              "      <td>4</td>\n",
              "      <td>20</td>\n",
              "      <td>Panipuri, Gol Gappe</td>\n",
              "      <td>1406</td>\n",
              "      <td>600.0</td>\n",
              "      <td>[('Rated 4.0', 'RATED\\n  Very good restaurant ...</td>\n",
              "      <td>5047</td>\n",
              "      <td>Buffet</td>\n",
              "      <td>Banashankari</td>\n",
              "    </tr>\n",
              "  </tbody>\n",
              "</table>\n",
              "</div>\n",
              "      <button class=\"colab-df-convert\" onclick=\"convertToInteractive('df-bf03b8f6-e336-407c-a3ff-3df3e7d6535c')\"\n",
              "              title=\"Convert this dataframe to an interactive table.\"\n",
              "              style=\"display:none;\">\n",
              "        \n",
              "  <svg xmlns=\"http://www.w3.org/2000/svg\" height=\"24px\"viewBox=\"0 0 24 24\"\n",
              "       width=\"24px\">\n",
              "    <path d=\"M0 0h24v24H0V0z\" fill=\"none\"/>\n",
              "    <path d=\"M18.56 5.44l.94 2.06.94-2.06 2.06-.94-2.06-.94-.94-2.06-.94 2.06-2.06.94zm-11 1L8.5 8.5l.94-2.06 2.06-.94-2.06-.94L8.5 2.5l-.94 2.06-2.06.94zm10 10l.94 2.06.94-2.06 2.06-.94-2.06-.94-.94-2.06-.94 2.06-2.06.94z\"/><path d=\"M17.41 7.96l-1.37-1.37c-.4-.4-.92-.59-1.43-.59-.52 0-1.04.2-1.43.59L10.3 9.45l-7.72 7.72c-.78.78-.78 2.05 0 2.83L4 21.41c.39.39.9.59 1.41.59.51 0 1.02-.2 1.41-.59l7.78-7.78 2.81-2.81c.8-.78.8-2.07 0-2.86zM5.41 20L4 18.59l7.72-7.72 1.47 1.35L5.41 20z\"/>\n",
              "  </svg>\n",
              "      </button>\n",
              "      \n",
              "  <style>\n",
              "    .colab-df-container {\n",
              "      display:flex;\n",
              "      flex-wrap:wrap;\n",
              "      gap: 12px;\n",
              "    }\n",
              "\n",
              "    .colab-df-convert {\n",
              "      background-color: #E8F0FE;\n",
              "      border: none;\n",
              "      border-radius: 50%;\n",
              "      cursor: pointer;\n",
              "      display: none;\n",
              "      fill: #1967D2;\n",
              "      height: 32px;\n",
              "      padding: 0 0 0 0;\n",
              "      width: 32px;\n",
              "    }\n",
              "\n",
              "    .colab-df-convert:hover {\n",
              "      background-color: #E2EBFA;\n",
              "      box-shadow: 0px 1px 2px rgba(60, 64, 67, 0.3), 0px 1px 3px 1px rgba(60, 64, 67, 0.15);\n",
              "      fill: #174EA6;\n",
              "    }\n",
              "\n",
              "    [theme=dark] .colab-df-convert {\n",
              "      background-color: #3B4455;\n",
              "      fill: #D2E3FC;\n",
              "    }\n",
              "\n",
              "    [theme=dark] .colab-df-convert:hover {\n",
              "      background-color: #434B5C;\n",
              "      box-shadow: 0px 1px 3px 1px rgba(0, 0, 0, 0.15);\n",
              "      filter: drop-shadow(0px 1px 2px rgba(0, 0, 0, 0.3));\n",
              "      fill: #FFFFFF;\n",
              "    }\n",
              "  </style>\n",
              "\n",
              "      <script>\n",
              "        const buttonEl =\n",
              "          document.querySelector('#df-bf03b8f6-e336-407c-a3ff-3df3e7d6535c button.colab-df-convert');\n",
              "        buttonEl.style.display =\n",
              "          google.colab.kernel.accessAllowed ? 'block' : 'none';\n",
              "\n",
              "        async function convertToInteractive(key) {\n",
              "          const element = document.querySelector('#df-bf03b8f6-e336-407c-a3ff-3df3e7d6535c');\n",
              "          const dataTable =\n",
              "            await google.colab.kernel.invokeFunction('convertToInteractive',\n",
              "                                                     [key], {});\n",
              "          if (!dataTable) return;\n",
              "\n",
              "          const docLinkHtml = 'Like what you see? Visit the ' +\n",
              "            '<a target=\"_blank\" href=https://colab.research.google.com/notebooks/data_table.ipynb>data table notebook</a>'\n",
              "            + ' to learn more about interactive tables.';\n",
              "          element.innerHTML = '';\n",
              "          dataTable['output_type'] = 'display_data';\n",
              "          await google.colab.output.renderOutput(dataTable, element);\n",
              "          const docLink = document.createElement('div');\n",
              "          docLink.innerHTML = docLinkHtml;\n",
              "          element.appendChild(docLink);\n",
              "        }\n",
              "      </script>\n",
              "    </div>\n",
              "  </div>\n",
              "  "
            ]
          },
          "metadata": {},
          "execution_count": 57
        }
      ]
    },
    {
      "cell_type": "code",
      "source": [
        "my_data=df.iloc[:,[2,3,4,5,6,7,9,10,12]]\n",
        "my_data.to_csv('Zomato_df.csv') "
      ],
      "metadata": {
        "id": "ftrPIhn4vvLD"
      },
      "execution_count": 58,
      "outputs": []
    },
    {
      "cell_type": "code",
      "source": [
        "x = df.iloc[:,[2,3,5,6,7,9,10,12]]\n",
        "x.head()"
      ],
      "metadata": {
        "colab": {
          "base_uri": "https://localhost:8080/",
          "height": 0
        },
        "id": "qVAw1b88wksj",
        "outputId": "296a88c1-ff6a-48b3-de7a-5dccf3e142dc"
      },
      "execution_count": 59,
      "outputs": [
        {
          "output_type": "execute_result",
          "data": {
            "text/plain": [
              "  online_order  book_table  votes  location  rest_type  cuisines   cost  \\\n",
              "0            1           1    775         1         20      1386  800.0   \n",
              "1            1           0    787         1         20       594  800.0   \n",
              "2            1           0    918         1         16       484  800.0   \n",
              "3            0           0     88         1         62      1587  300.0   \n",
              "4            0           0    166         4         20      1406  600.0   \n",
              "\n",
              "   menu_item  \n",
              "0       5047  \n",
              "1       5047  \n",
              "2       5047  \n",
              "3       5047  \n",
              "4       5047  "
            ],
            "text/html": [
              "\n",
              "  <div id=\"df-9951e927-fb8d-410e-8dcf-048370cdfc04\">\n",
              "    <div class=\"colab-df-container\">\n",
              "      <div>\n",
              "<style scoped>\n",
              "    .dataframe tbody tr th:only-of-type {\n",
              "        vertical-align: middle;\n",
              "    }\n",
              "\n",
              "    .dataframe tbody tr th {\n",
              "        vertical-align: top;\n",
              "    }\n",
              "\n",
              "    .dataframe thead th {\n",
              "        text-align: right;\n",
              "    }\n",
              "</style>\n",
              "<table border=\"1\" class=\"dataframe\">\n",
              "  <thead>\n",
              "    <tr style=\"text-align: right;\">\n",
              "      <th></th>\n",
              "      <th>online_order</th>\n",
              "      <th>book_table</th>\n",
              "      <th>votes</th>\n",
              "      <th>location</th>\n",
              "      <th>rest_type</th>\n",
              "      <th>cuisines</th>\n",
              "      <th>cost</th>\n",
              "      <th>menu_item</th>\n",
              "    </tr>\n",
              "  </thead>\n",
              "  <tbody>\n",
              "    <tr>\n",
              "      <th>0</th>\n",
              "      <td>1</td>\n",
              "      <td>1</td>\n",
              "      <td>775</td>\n",
              "      <td>1</td>\n",
              "      <td>20</td>\n",
              "      <td>1386</td>\n",
              "      <td>800.0</td>\n",
              "      <td>5047</td>\n",
              "    </tr>\n",
              "    <tr>\n",
              "      <th>1</th>\n",
              "      <td>1</td>\n",
              "      <td>0</td>\n",
              "      <td>787</td>\n",
              "      <td>1</td>\n",
              "      <td>20</td>\n",
              "      <td>594</td>\n",
              "      <td>800.0</td>\n",
              "      <td>5047</td>\n",
              "    </tr>\n",
              "    <tr>\n",
              "      <th>2</th>\n",
              "      <td>1</td>\n",
              "      <td>0</td>\n",
              "      <td>918</td>\n",
              "      <td>1</td>\n",
              "      <td>16</td>\n",
              "      <td>484</td>\n",
              "      <td>800.0</td>\n",
              "      <td>5047</td>\n",
              "    </tr>\n",
              "    <tr>\n",
              "      <th>3</th>\n",
              "      <td>0</td>\n",
              "      <td>0</td>\n",
              "      <td>88</td>\n",
              "      <td>1</td>\n",
              "      <td>62</td>\n",
              "      <td>1587</td>\n",
              "      <td>300.0</td>\n",
              "      <td>5047</td>\n",
              "    </tr>\n",
              "    <tr>\n",
              "      <th>4</th>\n",
              "      <td>0</td>\n",
              "      <td>0</td>\n",
              "      <td>166</td>\n",
              "      <td>4</td>\n",
              "      <td>20</td>\n",
              "      <td>1406</td>\n",
              "      <td>600.0</td>\n",
              "      <td>5047</td>\n",
              "    </tr>\n",
              "  </tbody>\n",
              "</table>\n",
              "</div>\n",
              "      <button class=\"colab-df-convert\" onclick=\"convertToInteractive('df-9951e927-fb8d-410e-8dcf-048370cdfc04')\"\n",
              "              title=\"Convert this dataframe to an interactive table.\"\n",
              "              style=\"display:none;\">\n",
              "        \n",
              "  <svg xmlns=\"http://www.w3.org/2000/svg\" height=\"24px\"viewBox=\"0 0 24 24\"\n",
              "       width=\"24px\">\n",
              "    <path d=\"M0 0h24v24H0V0z\" fill=\"none\"/>\n",
              "    <path d=\"M18.56 5.44l.94 2.06.94-2.06 2.06-.94-2.06-.94-.94-2.06-.94 2.06-2.06.94zm-11 1L8.5 8.5l.94-2.06 2.06-.94-2.06-.94L8.5 2.5l-.94 2.06-2.06.94zm10 10l.94 2.06.94-2.06 2.06-.94-2.06-.94-.94-2.06-.94 2.06-2.06.94z\"/><path d=\"M17.41 7.96l-1.37-1.37c-.4-.4-.92-.59-1.43-.59-.52 0-1.04.2-1.43.59L10.3 9.45l-7.72 7.72c-.78.78-.78 2.05 0 2.83L4 21.41c.39.39.9.59 1.41.59.51 0 1.02-.2 1.41-.59l7.78-7.78 2.81-2.81c.8-.78.8-2.07 0-2.86zM5.41 20L4 18.59l7.72-7.72 1.47 1.35L5.41 20z\"/>\n",
              "  </svg>\n",
              "      </button>\n",
              "      \n",
              "  <style>\n",
              "    .colab-df-container {\n",
              "      display:flex;\n",
              "      flex-wrap:wrap;\n",
              "      gap: 12px;\n",
              "    }\n",
              "\n",
              "    .colab-df-convert {\n",
              "      background-color: #E8F0FE;\n",
              "      border: none;\n",
              "      border-radius: 50%;\n",
              "      cursor: pointer;\n",
              "      display: none;\n",
              "      fill: #1967D2;\n",
              "      height: 32px;\n",
              "      padding: 0 0 0 0;\n",
              "      width: 32px;\n",
              "    }\n",
              "\n",
              "    .colab-df-convert:hover {\n",
              "      background-color: #E2EBFA;\n",
              "      box-shadow: 0px 1px 2px rgba(60, 64, 67, 0.3), 0px 1px 3px 1px rgba(60, 64, 67, 0.15);\n",
              "      fill: #174EA6;\n",
              "    }\n",
              "\n",
              "    [theme=dark] .colab-df-convert {\n",
              "      background-color: #3B4455;\n",
              "      fill: #D2E3FC;\n",
              "    }\n",
              "\n",
              "    [theme=dark] .colab-df-convert:hover {\n",
              "      background-color: #434B5C;\n",
              "      box-shadow: 0px 1px 3px 1px rgba(0, 0, 0, 0.15);\n",
              "      filter: drop-shadow(0px 1px 2px rgba(0, 0, 0, 0.3));\n",
              "      fill: #FFFFFF;\n",
              "    }\n",
              "  </style>\n",
              "\n",
              "      <script>\n",
              "        const buttonEl =\n",
              "          document.querySelector('#df-9951e927-fb8d-410e-8dcf-048370cdfc04 button.colab-df-convert');\n",
              "        buttonEl.style.display =\n",
              "          google.colab.kernel.accessAllowed ? 'block' : 'none';\n",
              "\n",
              "        async function convertToInteractive(key) {\n",
              "          const element = document.querySelector('#df-9951e927-fb8d-410e-8dcf-048370cdfc04');\n",
              "          const dataTable =\n",
              "            await google.colab.kernel.invokeFunction('convertToInteractive',\n",
              "                                                     [key], {});\n",
              "          if (!dataTable) return;\n",
              "\n",
              "          const docLinkHtml = 'Like what you see? Visit the ' +\n",
              "            '<a target=\"_blank\" href=https://colab.research.google.com/notebooks/data_table.ipynb>data table notebook</a>'\n",
              "            + ' to learn more about interactive tables.';\n",
              "          element.innerHTML = '';\n",
              "          dataTable['output_type'] = 'display_data';\n",
              "          await google.colab.output.renderOutput(dataTable, element);\n",
              "          const docLink = document.createElement('div');\n",
              "          docLink.innerHTML = docLinkHtml;\n",
              "          element.appendChild(docLink);\n",
              "        }\n",
              "      </script>\n",
              "    </div>\n",
              "  </div>\n",
              "  "
            ]
          },
          "metadata": {},
          "execution_count": 59
        }
      ]
    },
    {
      "cell_type": "code",
      "source": [
        "y = df['rate']\n",
        "y"
      ],
      "metadata": {
        "colab": {
          "base_uri": "https://localhost:8080/"
        },
        "id": "arbFHldcww7Y",
        "outputId": "053a406c-4456-4af0-c634-847565cf9eb8"
      },
      "execution_count": 60,
      "outputs": [
        {
          "output_type": "execute_result",
          "data": {
            "text/plain": [
              "0        4.1\n",
              "1        4.1\n",
              "2        3.8\n",
              "3        3.7\n",
              "4        3.8\n",
              "        ... \n",
              "23243    3.8\n",
              "23244    3.9\n",
              "23245    2.8\n",
              "23246    2.5\n",
              "23247    4.3\n",
              "Name: rate, Length: 23248, dtype: float64"
            ]
          },
          "metadata": {},
          "execution_count": 60
        }
      ]
    },
    {
      "cell_type": "code",
      "source": [
        "x_train,x_test,y_train,y_test=train_test_split(x,y,test_size=.3,random_state=10)"
      ],
      "metadata": {
        "id": "M8hDQ7CPxXmE"
      },
      "execution_count": 61,
      "outputs": []
    },
    {
      "cell_type": "markdown",
      "source": [
        "## Buiding Linear Regression"
      ],
      "metadata": {
        "id": "evQ6QusnxEdM"
      }
    },
    {
      "cell_type": "code",
      "source": [
        "lr_model=LinearRegression()\n",
        "lr_model.fit(x_train,y_train)"
      ],
      "metadata": {
        "colab": {
          "base_uri": "https://localhost:8080/"
        },
        "id": "dA6bAOY4w7Ow",
        "outputId": "83b0fef1-c71c-4491-c8a0-3f5040fee9b1"
      },
      "execution_count": 62,
      "outputs": [
        {
          "output_type": "execute_result",
          "data": {
            "text/plain": [
              "LinearRegression()"
            ]
          },
          "metadata": {},
          "execution_count": 62
        }
      ]
    },
    {
      "cell_type": "code",
      "source": [
        "from sklearn.metrics import r2_score\n",
        "y_pred=lr_model.predict(x_test)\n",
        "r2_score(y_test,y_pred)"
      ],
      "metadata": {
        "colab": {
          "base_uri": "https://localhost:8080/"
        },
        "id": "M_xL3fZ8xLcg",
        "outputId": "29d2a179-2091-4d28-c721-8e7f8bcc8dce"
      },
      "execution_count": 63,
      "outputs": [
        {
          "output_type": "execute_result",
          "data": {
            "text/plain": [
              "0.2281882852296705"
            ]
          },
          "metadata": {},
          "execution_count": 63
        }
      ]
    },
    {
      "cell_type": "markdown",
      "source": [
        "## Random Forest"
      ],
      "metadata": {
        "id": "9MLvRLPHx2rK"
      }
    },
    {
      "cell_type": "code",
      "source": [
        "from sklearn.ensemble import  ExtraTreesRegressor\n",
        "ET_Model=ExtraTreesRegressor(n_estimators = 120)\n",
        "ET_Model.fit(x_train,y_train)\n",
        "y_predict=ET_Model.predict(x_test)"
      ],
      "metadata": {
        "id": "UTwzZq2gxhX4"
      },
      "execution_count": 64,
      "outputs": []
    },
    {
      "cell_type": "code",
      "source": [
        "from sklearn.metrics import r2_score\n",
        "r2_score(y_test,y_predict)"
      ],
      "metadata": {
        "colab": {
          "base_uri": "https://localhost:8080/"
        },
        "id": "WmDxA09Xx-FJ",
        "outputId": "5531cca6-10b1-431f-9403-595fa187ca86"
      },
      "execution_count": 65,
      "outputs": [
        {
          "output_type": "execute_result",
          "data": {
            "text/plain": [
              "0.9329216571027202"
            ]
          },
          "metadata": {},
          "execution_count": 65
        }
      ]
    },
    {
      "cell_type": "markdown",
      "source": [
        "Extra Tree Regressor gives us the best model"
      ],
      "metadata": {
        "id": "JBHAPMjMyIU2"
      }
    },
    {
      "cell_type": "markdown",
      "source": [
        "### Use pickle to save our model so that we can use it later\n"
      ],
      "metadata": {
        "id": "mHrt4lwmycnD"
      }
    },
    {
      "cell_type": "code",
      "source": [
        "import pickle \n",
        "# Saving model to disk\n",
        "pickle.dump(ET_Model, open('model.pkl','wb'))\n",
        "model=pickle.load(open('model.pkl','rb'))"
      ],
      "metadata": {
        "id": "huQZr-soyB-J"
      },
      "execution_count": 66,
      "outputs": []
    }
  ]
}